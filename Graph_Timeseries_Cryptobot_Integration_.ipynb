{
  "nbformat": 4,
  "nbformat_minor": 0,
  "metadata": {
    "colab": {
      "provenance": [],
      "include_colab_link": true
    },
    "kernelspec": {
      "name": "python3",
      "display_name": "Python 3"
    },
    "language_info": {
      "name": "python"
    }
  },
  "cells": [
    {
      "cell_type": "markdown",
      "metadata": {
        "id": "view-in-github",
        "colab_type": "text"
      },
      "source": [
        "<a href=\"https://colab.research.google.com/github/yetanotherpassword/COMS4507/blob/main/Graph_Timeseries_Cryptobot_Integration_.ipynb\" target=\"_parent\"><img src=\"https://colab.research.google.com/assets/colab-badge.svg\" alt=\"Open In Colab\"/></a>"
      ]
    },
    {
      "cell_type": "code",
      "execution_count": 2,
      "metadata": {
        "id": "Hu-YxBFMVb2a",
        "colab": {
          "base_uri": "https://localhost:8080/",
          "height": 1000
        },
        "outputId": "c01bd8df-5e2d-43f7-f529-99cbb119d82b"
      },
      "outputs": [
        {
          "output_type": "display_data",
          "data": {
            "text/plain": [
              "<IPython.core.display.HTML object>"
            ],
            "text/html": [
              "\n",
              "    <canvas id=\"myChart\"></canvas>\n",
              "  "
            ]
          },
          "metadata": {}
        },
        {
          "output_type": "display_data",
          "data": {
            "text/plain": [
              "<IPython.core.display.HTML object>"
            ],
            "text/html": [
              "\n",
              "        <script src=\"https://cdn.jsdelivr.net/npm/chart.js@2.8.0\"></script>\n",
              "        <script>\n",
              "          var ctx = document.getElementById('myChart').getContext('2d');\n",
              "          var chart = new Chart(ctx, {\n",
              "              // The type of chart we want to create\n",
              "              type: 'line',\n",
              "\n",
              "              // The data for our dataset\n",
              "              data: {\n",
              "                  labels: [getDateTime(-10), getDateTime(-20), getDateTime(-30),\n",
              "                                  getDateTime(-40), getDateTime(-50), getDateTime(-60) ],\n",
              "                  datasets: [{\n",
              "                      label: 'Actual',\n",
              "                      borderColor: 'rgb(255, 99, 132)',\n",
              "                      data: [0,1,2,3,4,5]\n",
              "                  }, \n",
              "                  {\n",
              "                      label: 'Predicted',\n",
              "                      borderColor: 'rgb(155, 199, 32)',\n",
              "                      data: [0,1,2,3,4,5]\n",
              "                  }]\n",
              "              },\n",
              "\n",
              "              // Configuration options go here\n",
              "              options: { animation: {duration: 0} ,\n",
              "                scales: {x: {\n",
              "                           type: 'time',\n",
              "                           time: { unit: 'minute',displayFormats: {minute: 'HH:mm'},tooltipFormat: 'HH:mm'},\n",
              "                           title: {display: true, text: 'Date'}},\n",
              "                         y: {\n",
              "                           title: { display: true, text: 'value'}},\n",
              "                         xAxes: [{ scaleLabel: { display: true, labelString: 'Timestamp [YYYY-MM-DD hh:mm:ss]'}}],\n",
              "                        yAxes: [{scaleLabel: {display: true, labelString: 'BitCoin Price [USD $]'} }], },\n",
              "                title: { display: true, text: 'Bitcoin Price - Realtime Prediction'}}});\n",
              "\n",
              "          function getEpoch(offset_sec=0) {\n",
              "             var now     = new Date(); \n",
              "             return Math.floor((now.getTime() - offset_sec*1000)/1000);}\n",
              "\n",
              "          function getDateTime(offset_sec=0) {\n",
              "             var now     = new Date(); \n",
              "             var numberOfMlSeconds = now.getTime() - offset_sec*1000;\n",
              "             var update_now = new Date (numberOfMlSeconds);\n",
              "             var year    = update_now.getFullYear();\n",
              "             var month   = update_now.getMonth()+1; \n",
              "             var day     = update_now.getDate();\n",
              "             var hour    = update_now.getHours();\n",
              "             var minute  = update_now.getMinutes();\n",
              "             var second  = update_now.getSeconds(); \n",
              "             if(month.toString().length == 1) {\n",
              "                 month = '0'+month;}\n",
              "             if(day.toString().length == 1) {\n",
              "                 day = '0'+day;}   \n",
              "             if(hour.toString().length == 1) {\n",
              "                 hour = '0'+hour;}\n",
              "             if(minute.toString().length == 1) {\n",
              "                 minute = '0'+minute; }\n",
              "             if(second.toString().length == 1) {\n",
              "                 second = '0'+second;}   \n",
              "             var dateTime = year+'-'+month+'-'+day+' '+hour+':'+minute+':'+second;   \n",
              "             return dateTime;\n",
              "          }\n",
              "\n",
              "          function addData(value, value2){\n",
              "            chart.data.labels.push(getDateTime())\n",
              "            chart.data.datasets[0].data.push(value)\n",
              "            chart.data.datasets[1].data.push(value2)\n",
              "            // optional windowing\n",
              "            if(chart.data.labels.length > 100) {\n",
              "              chart.data.labels.shift()\n",
              "              chart.data.datasets[0].data.shift()\n",
              "              chart.data.datasets[1].data.shift() }\n",
              "\n",
              "            chart.update();\n",
              "          }\n",
              "        </script>\n",
              "        "
            ]
          },
          "metadata": {}
        },
        {
          "output_type": "stream",
          "name": "stderr",
          "text": [
            "INFO:prophet:Disabling yearly seasonality. Run prophet with yearly_seasonality=True to override this.\n",
            "INFO:prophet:Disabling daily seasonality. Run prophet with daily_seasonality=True to override this.\n",
            "DEBUG:cmdstanpy:input tempfile: /tmp/tmp1pkxfko1/l4mkpp1d.json\n",
            "DEBUG:cmdstanpy:input tempfile: /tmp/tmp1pkxfko1/3w03o8ob.json\n",
            "DEBUG:cmdstanpy:idx 0\n",
            "DEBUG:cmdstanpy:running CmdStan, num_threads: None\n",
            "DEBUG:cmdstanpy:CmdStan args: ['/usr/local/lib/python3.10/dist-packages/prophet/stan_model/prophet_model.bin', 'random', 'seed=80596', 'data', 'file=/tmp/tmp1pkxfko1/l4mkpp1d.json', 'init=/tmp/tmp1pkxfko1/3w03o8ob.json', 'output', 'file=/tmp/tmp1pkxfko1/prophet_modelwyqj0mr7/prophet_model-20230507225846.csv', 'method=optimize', 'algorithm=lbfgs', 'iter=10000']\n",
            "22:58:46 - cmdstanpy - INFO - Chain [1] start processing\n",
            "INFO:cmdstanpy:Chain [1] start processing\n",
            "22:58:46 - cmdstanpy - INFO - Chain [1] done processing\n",
            "INFO:cmdstanpy:Chain [1] done processing\n"
          ]
        },
        {
          "output_type": "stream",
          "name": "stdout",
          "text": [
            "Current price of BTC: $ 28554\n"
          ]
        },
        {
          "output_type": "display_data",
          "data": {
            "text/plain": [
              "<IPython.core.display.Javascript object>"
            ],
            "application/javascript": [
              "addData(28554,27953.10528182855)"
            ]
          },
          "metadata": {}
        },
        {
          "output_type": "stream",
          "name": "stdout",
          "text": [
            "Predicted future price of BTC: $ 27953.10528182855\n",
            "Predicted future price does not meet the minimum growth requirement (2.0%) for buy trigger\n",
            "Remaining balance (USD): $ 1000000 \n",
            "\n",
            "Current price of BTC: $ 26208\n"
          ]
        },
        {
          "output_type": "display_data",
          "data": {
            "text/plain": [
              "<IPython.core.display.Javascript object>"
            ],
            "application/javascript": [
              "addData(26208,27953.10528182855)"
            ]
          },
          "metadata": {}
        },
        {
          "output_type": "stream",
          "name": "stdout",
          "text": [
            "Predicted future price of BTC: $ 27953.10528182855\n",
            "New buy order placed: Transaction ID: 92b41017-9489-4c51-ab95-1624171244ab, Transaction Type: TransactionTypes.BUY, Price: 26208, Amount: 1000000 BTC, Volume: 38.156288156288156, Profit/Loss: Predicted future growth, Transaction Trigger: None\n",
            "Remaining balance (USD): $ 0 \n",
            "\n",
            "Current price of BTC: $ 29320\n"
          ]
        },
        {
          "output_type": "display_data",
          "data": {
            "text/plain": [
              "<IPython.core.display.Javascript object>"
            ],
            "application/javascript": [
              "addData(29320,27953.10528182855)"
            ]
          },
          "metadata": {}
        },
        {
          "output_type": "stream",
          "name": "stdout",
          "text": [
            "Predicted future price of BTC: $ 27953.10528182855\n",
            "Waiting for price to reach sell threshold\n",
            "Remaining balance (USD): $ 0 \n",
            "\n",
            "Current price of BTC: $ 26116\n"
          ]
        },
        {
          "output_type": "display_data",
          "data": {
            "text/plain": [
              "<IPython.core.display.Javascript object>"
            ],
            "application/javascript": [
              "addData(26116,27953.10528182855)"
            ]
          },
          "metadata": {}
        },
        {
          "output_type": "stream",
          "name": "stdout",
          "text": [
            "Predicted future price of BTC: $ 27953.10528182855\n",
            "Waiting for price to reach sell threshold\n",
            "Remaining balance (USD): $ 0 \n",
            "\n",
            "Current price of BTC: $ 28393\n"
          ]
        },
        {
          "output_type": "display_data",
          "data": {
            "text/plain": [
              "<IPython.core.display.Javascript object>"
            ],
            "application/javascript": [
              "addData(28393,27953.10528182855)"
            ]
          },
          "metadata": {}
        },
        {
          "output_type": "stream",
          "name": "stdout",
          "text": [
            "Predicted future price of BTC: $ 27953.10528182855\n",
            "Waiting for price to reach sell threshold\n",
            "Remaining balance (USD): $ 0 \n",
            "\n",
            "Current price of BTC: $ 30440\n"
          ]
        },
        {
          "output_type": "display_data",
          "data": {
            "text/plain": [
              "<IPython.core.display.Javascript object>"
            ],
            "application/javascript": [
              "addData(30440,27953.10528182855)"
            ]
          },
          "metadata": {}
        },
        {
          "output_type": "stream",
          "name": "stdout",
          "text": [
            "Predicted future price of BTC: $ 27953.10528182855\n",
            "New sell order placed: Transaction ID: d37c3c6b-833c-42b8-82f9-102fefe7d7c4, Transaction Type: TransactionTypes.SELL, Price: 30440, Amount: 1161477.4114774114 BTC, Volume: 38.156288156288156, Profit/Loss: 161477.4114774115, Transaction Trigger: Predicted future price triggered stoploss\n",
            "Sell order fulfilled. Profit: $ 161477.4114774115\n",
            "Remaining balance (USD): $ 1161477.4114774114 \n",
            "\n",
            "Current price of BTC: $ 28892\n"
          ]
        },
        {
          "output_type": "display_data",
          "data": {
            "text/plain": [
              "<IPython.core.display.Javascript object>"
            ],
            "application/javascript": [
              "addData(28892,27953.10528182855)"
            ]
          },
          "metadata": {}
        },
        {
          "output_type": "stream",
          "name": "stdout",
          "text": [
            "Predicted future price of BTC: $ 27953.10528182855\n",
            "Predicted future price does not meet the minimum growth requirement (2.0%) for buy trigger\n",
            "Remaining balance (USD): $ 1161477.4114774114 \n",
            "\n",
            "Current price of BTC: $ 28114\n"
          ]
        },
        {
          "output_type": "display_data",
          "data": {
            "text/plain": [
              "<IPython.core.display.Javascript object>"
            ],
            "application/javascript": [
              "addData(28114,27953.10528182855)"
            ]
          },
          "metadata": {}
        },
        {
          "output_type": "stream",
          "name": "stdout",
          "text": [
            "Predicted future price of BTC: $ 27953.10528182855\n",
            "Predicted future price does not meet the minimum growth requirement (2.0%) for buy trigger\n",
            "Remaining balance (USD): $ 1161477.4114774114 \n",
            "\n",
            "Current price of BTC: $ 28725\n"
          ]
        },
        {
          "output_type": "display_data",
          "data": {
            "text/plain": [
              "<IPython.core.display.Javascript object>"
            ],
            "application/javascript": [
              "addData(28725,27953.10528182855)"
            ]
          },
          "metadata": {}
        },
        {
          "output_type": "stream",
          "name": "stdout",
          "text": [
            "Predicted future price of BTC: $ 27953.10528182855\n",
            "Predicted future price does not meet the minimum growth requirement (2.0%) for buy trigger\n",
            "Remaining balance (USD): $ 1161477.4114774114 \n",
            "\n",
            "Current price of BTC: $ 27042\n"
          ]
        },
        {
          "output_type": "display_data",
          "data": {
            "text/plain": [
              "<IPython.core.display.Javascript object>"
            ],
            "application/javascript": [
              "addData(27042,27953.10528182855)"
            ]
          },
          "metadata": {}
        },
        {
          "output_type": "stream",
          "name": "stdout",
          "text": [
            "Predicted future price of BTC: $ 27953.10528182855\n",
            "New buy order placed: Transaction ID: 6ae971dc-d329-4166-9978-d54b95d975bd, Transaction Type: TransactionTypes.BUY, Price: 27042, Amount: 1161477.4114774114 BTC, Volume: 42.950869442992804, Profit/Loss: Predicted future growth, Transaction Trigger: None\n",
            "Remaining balance (USD): $ 0.0 \n",
            "\n",
            "Current price of BTC: $ 30132\n"
          ]
        },
        {
          "output_type": "display_data",
          "data": {
            "text/plain": [
              "<IPython.core.display.Javascript object>"
            ],
            "application/javascript": [
              "addData(30132,27953.10528182855)"
            ]
          },
          "metadata": {}
        },
        {
          "output_type": "stream",
          "name": "stdout",
          "text": [
            "Predicted future price of BTC: $ 27953.10528182855\n",
            "New sell order placed: Transaction ID: 8f531883-744d-4b18-9dd8-0529b9661bbc, Transaction Type: TransactionTypes.SELL, Price: 30132, Amount: 1294195.598056259 BTC, Volume: 42.950869442992804, Profit/Loss: 132718.18657884776, Transaction Trigger: Investment goal reached\n",
            "Sell order fulfilled. Profit: $ 132718.18657884776\n",
            "Investment goal reached! Stop trading.\n",
            "Remaining balance (USD): $ 1294195.598056259 \n",
            "\n"
          ]
        },
        {
          "output_type": "error",
          "ename": "KeyboardInterrupt",
          "evalue": "ignored",
          "traceback": [
            "\u001b[0;31m---------------------------------------------------------------------------\u001b[0m",
            "\u001b[0;31mKeyboardInterrupt\u001b[0m                         Traceback (most recent call last)",
            "\u001b[0;32m<ipython-input-2-291a78434cd2>\u001b[0m in \u001b[0;36m<cell line: 307>\u001b[0;34m()\u001b[0m\n\u001b[1;32m    306\u001b[0m \u001b[0;34m\u001b[0m\u001b[0m\n\u001b[1;32m    307\u001b[0m \u001b[0;32mif\u001b[0m \u001b[0m__name__\u001b[0m \u001b[0;34m==\u001b[0m \u001b[0;34m'__main__'\u001b[0m\u001b[0;34m:\u001b[0m\u001b[0;34m\u001b[0m\u001b[0;34m\u001b[0m\u001b[0m\n\u001b[0;32m--> 308\u001b[0;31m     \u001b[0mmain\u001b[0m\u001b[0;34m(\u001b[0m\u001b[0;34m)\u001b[0m\u001b[0;34m\u001b[0m\u001b[0;34m\u001b[0m\u001b[0m\n\u001b[0m",
            "\u001b[0;32m<ipython-input-2-291a78434cd2>\u001b[0m in \u001b[0;36mmain\u001b[0;34m()\u001b[0m\n\u001b[1;32m    299\u001b[0m             \u001b[0mprint\u001b[0m\u001b[0;34m(\u001b[0m\u001b[0;34m\"Error getting price from CoinMarketCap API\"\u001b[0m\u001b[0;34m)\u001b[0m\u001b[0;34m\u001b[0m\u001b[0;34m\u001b[0m\u001b[0m\n\u001b[1;32m    300\u001b[0m \u001b[0;34m\u001b[0m\u001b[0m\n\u001b[0;32m--> 301\u001b[0;31m         \u001b[0mtime\u001b[0m\u001b[0;34m.\u001b[0m\u001b[0msleep\u001b[0m\u001b[0;34m(\u001b[0m\u001b[0mINTERVALS\u001b[0m\u001b[0;34m)\u001b[0m\u001b[0;34m\u001b[0m\u001b[0;34m\u001b[0m\u001b[0m\n\u001b[0m\u001b[1;32m    302\u001b[0m \u001b[0;34m\u001b[0m\u001b[0m\n\u001b[1;32m    303\u001b[0m     \u001b[0mprint\u001b[0m\u001b[0;34m(\u001b[0m\u001b[0;34m\"Transaction record:\"\u001b[0m\u001b[0;34m,\u001b[0m \u001b[0mtransaction_record\u001b[0m\u001b[0;34m)\u001b[0m\u001b[0;34m\u001b[0m\u001b[0;34m\u001b[0m\u001b[0m\n",
            "\u001b[0;31mKeyboardInterrupt\u001b[0m: "
          ]
        }
      ],
      "source": [
        "import os\n",
        "import uuid\n",
        "import numpy as np\n",
        "import random\n",
        "import requests\n",
        "import time\n",
        "import pandas as pd\n",
        "from enum import Enum\n",
        "from prophet import Prophet\n",
        "from datetime import date, timedelta\n",
        "\n",
        "import IPython\n",
        "from IPython.display import display, HTML, Javascript\n",
        "\n",
        "# Constants\n",
        "INITIAL_BALANCE = 1000000  # $1 million\n",
        "INTERVALS = 5  # seconds\n",
        "MINIMUM_GROWTH = 0.02  # minimum 2% increase in predicted price to trigger buy\n",
        "STOP_LOSS_PERCENTAGE = 0.05  # limit loss to 5%\n",
        "GOAL = 1200000 # $1.2 million\n",
        "\n",
        "\"\"\" Time Series Prediction Functions \"\"\"\n",
        "\n",
        "\n",
        "def preprocess_data(data_url):\n",
        "    df = pd.read_csv(data_url)\n",
        "    df = df.drop(['Adj Close'], axis=1)\n",
        "    df.rename(columns={'Date': 'ds', 'Close': 'y'}, inplace=True)\n",
        "    return df\n",
        "\n",
        "\n",
        "def train_prophet_model(df_train):\n",
        "    m = Prophet(interval_width=0.95, n_changepoints=7)\n",
        "    m.fit(df_train)\n",
        "    return m\n",
        "\n",
        "\n",
        "def predict_with_prophet(model, future_dates):\n",
        "    forecast = model.predict(future_dates)\n",
        "    return forecast\n",
        "\n",
        "\n",
        "def prepare_prophet_input_data(model, days_to_predict=1):\n",
        "    future = model.make_future_dataframe(periods=days_to_predict)\n",
        "    return future\n",
        "\n",
        "\n",
        "def predict_future_price(model, days_to_predict=60):\n",
        "    input_data = prepare_prophet_input_data(model, days_to_predict)\n",
        "    predicted_price = predict_with_prophet(model, input_data)\n",
        "    # gets the predicted price for tomorrow\n",
        "    tmr = str(date.today() + timedelta(days=1))\n",
        "    return predicted_price.loc[predicted_price['ds'] == tmr, 'yhat'].values[0]\n",
        "\n",
        "class BitcoinTransaction:\n",
        "    def __init__(self, transaction_type, price, amount, volume, profit_or_loss=None, transaction_trigger=None):\n",
        "        self.transaction_type = transaction_type\n",
        "        self.price = price\n",
        "        self.amount = amount\n",
        "        self.volume = volume\n",
        "        self.profit_or_loss = profit_or_loss\n",
        "        self.transaction_trigger = transaction_trigger\n",
        "        self.transaction_id = uuid.uuid4()\n",
        "\n",
        "    def __str__(self):\n",
        "        return f'Transaction ID: {self.transaction_id}, Transaction Type: {self.transaction_type}, Price: {self.price}, Amount: {self.amount} BTC, Volume: {self.volume}, Profit/Loss: {self.profit_or_loss}, Transaction Trigger: {self.transaction_trigger}'\n",
        "\n",
        "    def __repr__(self):\n",
        "        return f\"({str(self)})\"\n",
        "\n",
        "\n",
        "class TransactionTypes(Enum):\n",
        "    BUY = 1\n",
        "    SELL = 2\n",
        "\n",
        "\n",
        "\"\"\" Trading Bot Functions \"\"\"\n",
        "\n",
        "\n",
        "def get_price():\n",
        "    url = \"https://pro-api.coinmarketcap.com/v1/cryptocurrency/quotes/latest\"\n",
        "    headers = {\"X-CMC_PRO_API_KEY\": \"91d6c06b-2f3c-458e-98b2-3e0de816e413\"}\n",
        "    params = {\"symbol\": \"BTC\"}\n",
        "    response = requests.get(url, headers=headers, params=params)\n",
        "    if response.status_code == 200:\n",
        "        data = response.json()\n",
        "        return data[\"data\"][\"BTC\"][\"quote\"][\"USD\"][\"price\"]\n",
        "    else:\n",
        "        return None\n",
        "\n",
        "\n",
        "def take_decision(current_price, predicted_price, balance, buy_order, sell_order):\n",
        "    # no buy orders placed yet\n",
        "    if buy_order is None:\n",
        "        # Check if price is predicted to grow beyond minimum required growth\n",
        "        if predicted_price >= current_price * (1 + MINIMUM_GROWTH):\n",
        "            # Check if we have sufficient balance\n",
        "            if balance > 0:\n",
        "                # Calculate the volume of BTC we can buy with our balance and the dollar amount\n",
        "                volume = balance / current_price\n",
        "                amount = balance\n",
        "                # Place the buy order\n",
        "                trigger = \"Predicted future growth\"\n",
        "                buy_order = BitcoinTransaction(TransactionTypes.BUY, current_price, amount, volume, trigger)\n",
        "                print(\"New buy order placed:\", buy_order)\n",
        "                balance -= amount\n",
        "            else:\n",
        "                print(\"Insufficient balance to place a new buy order\")\n",
        "        else:\n",
        "            print(f\"Predicted future price does not meet the minimum growth requirement ({MINIMUM_GROWTH * 100}%) for buy trigger\")\n",
        "    elif sell_order is None:\n",
        "        # Check if current price has fallen to trigger stoploss sell, minimize loss\n",
        "        if current_price <= buy_order.price * (1 - STOP_LOSS_PERCENTAGE):\n",
        "            volume = buy_order.volume\n",
        "            amount = current_price * volume\n",
        "            # calculate the loss (negative profit) incurred in this sell order\n",
        "            profit_or_loss = volume * (current_price - buy_order.price)\n",
        "            trigger = \"Current price triggered stoploss\"\n",
        "            sell_order = BitcoinTransaction(\n",
        "                TransactionTypes.SELL, current_price, amount, volume, profit_or_loss, trigger)\n",
        "            print(\"New sell order placed:\", sell_order)\n",
        "            balance += amount\n",
        "        # Check if investment goal has been reached\n",
        "        elif balance + (current_price * buy_order.volume) >= GOAL:\n",
        "            volume = buy_order.volume\n",
        "            amount = current_price * volume\n",
        "            # calculate the profit/loss incurred in this sell order\n",
        "            profit_or_loss = volume * (current_price - buy_order.price)\n",
        "            trigger = \"Investment goal reached\"\n",
        "            sell_order = BitcoinTransaction(\n",
        "                TransactionTypes.SELL, current_price, amount, volume, profit_or_loss, trigger)\n",
        "            print(\"New sell order placed:\", sell_order)\n",
        "            balance += amount\n",
        "        # Check if predicted future price will fall below stoploss of current price, prevent possible loss\n",
        "        elif predicted_price <= current_price * (1 - STOP_LOSS_PERCENTAGE):\n",
        "            volume = buy_order.volume\n",
        "            amount = current_price * volume\n",
        "            # calculate the profit/loss incurred in this sell order\n",
        "            profit_or_loss = volume * (current_price - buy_order.price)\n",
        "            trigger = \"Predicted future price triggered stoploss\"\n",
        "            sell_order = BitcoinTransaction(\n",
        "                TransactionTypes.SELL, current_price, amount, volume, profit_or_loss, trigger)\n",
        "            print(\"New sell order placed:\", sell_order)\n",
        "            balance += amount\n",
        "        else:\n",
        "            print(\"Waiting for price to reach sell threshold\")\n",
        "\n",
        "    return buy_order, sell_order, balance\n",
        "\n",
        "def configure_browser_state():\n",
        "  display(IPython.core.display.HTML('''\n",
        "    <canvas id=\"myChart\"></canvas>\n",
        "  '''))\n",
        "  display(IPython.core.display.HTML('''\n",
        "        <script src=\"https://cdn.jsdelivr.net/npm/chart.js@2.8.0\"></script>\n",
        "        <script>\n",
        "          var ctx = document.getElementById('myChart').getContext('2d');\n",
        "          var chart = new Chart(ctx, {\n",
        "              // The type of chart we want to create\n",
        "              type: 'line',\n",
        "\n",
        "              // The data for our dataset\n",
        "              data: {\n",
        "                  labels: [getDateTime(-10), getDateTime(-20), getDateTime(-30),\n",
        "                                  getDateTime(-40), getDateTime(-50), getDateTime(-60) ],\n",
        "                  datasets: [{\n",
        "                      label: 'Actual',\n",
        "                      borderColor: 'rgb(255, 99, 132)',\n",
        "                      data: [0,1,2,3,4,5]\n",
        "                  }, \n",
        "                  {\n",
        "                      label: 'Predicted',\n",
        "                      borderColor: 'rgb(155, 199, 32)',\n",
        "                      data: [0,1,2,3,4,5]\n",
        "                  }]\n",
        "              },\n",
        "\n",
        "              // Configuration options go here\n",
        "              options: { animation: {duration: 0} ,\n",
        "                scales: {x: {\n",
        "                           type: 'time',\n",
        "                           time: { unit: 'minute',displayFormats: {minute: 'HH:mm'},tooltipFormat: 'HH:mm'},\n",
        "                           title: {display: true, text: 'Date'}},\n",
        "                         y: {\n",
        "                           title: { display: true, text: 'value'}},\n",
        "                         xAxes: [{ scaleLabel: { display: true, labelString: 'Timestamp [YYYY-MM-DD hh:mm:ss]'}}],\n",
        "                        yAxes: [{scaleLabel: {display: true, labelString: 'BitCoin Price [USD $]'} }], },\n",
        "                title: { display: true, text: 'Bitcoin Price - Realtime Prediction'}}});\n",
        "\n",
        "          function getEpoch(offset_sec=0) {\n",
        "             var now     = new Date(); \n",
        "             return Math.floor((now.getTime() - offset_sec*1000)/1000);}\n",
        "\n",
        "          function getDateTime(offset_sec=0) {\n",
        "             var now     = new Date(); \n",
        "             var numberOfMlSeconds = now.getTime() - offset_sec*1000;\n",
        "             var update_now = new Date (numberOfMlSeconds);\n",
        "             var year    = update_now.getFullYear();\n",
        "             var month   = update_now.getMonth()+1; \n",
        "             var day     = update_now.getDate();\n",
        "             var hour    = update_now.getHours();\n",
        "             var minute  = update_now.getMinutes();\n",
        "             var second  = update_now.getSeconds(); \n",
        "             if(month.toString().length == 1) {\n",
        "                 month = '0'+month;}\n",
        "             if(day.toString().length == 1) {\n",
        "                 day = '0'+day;}   \n",
        "             if(hour.toString().length == 1) {\n",
        "                 hour = '0'+hour;}\n",
        "             if(minute.toString().length == 1) {\n",
        "                 minute = '0'+minute; }\n",
        "             if(second.toString().length == 1) {\n",
        "                 second = '0'+second;}   \n",
        "             var dateTime = year+'-'+month+'-'+day+' '+hour+':'+minute+':'+second;   \n",
        "             return dateTime;\n",
        "          }\n",
        "\n",
        "          function addData(value, value2){\n",
        "            chart.data.labels.push(getDateTime())\n",
        "            chart.data.datasets[0].data.push(value)\n",
        "            chart.data.datasets[1].data.push(value2)\n",
        "            // optional windowing\n",
        "            if(chart.data.labels.length > 100) {\n",
        "              chart.data.labels.shift()\n",
        "              chart.data.datasets[0].data.shift()\n",
        "              chart.data.datasets[1].data.shift() }\n",
        "\n",
        "            chart.update();\n",
        "          }\n",
        "        </script>\n",
        "        '''))\n",
        "    \n",
        "# Main program\n",
        "def main():\n",
        "    balance = INITIAL_BALANCE\n",
        "    buy_order = None\n",
        "    sell_order = None\n",
        "    goal_reached = False\n",
        "\n",
        "    # Ready graph display\n",
        "    configure_browser_state() \n",
        "\n",
        "    # url = 'https://raw.githubusercontent.com/yetanotherpassword/COMS4507/main/BTC-USD.csv'\n",
        "    # update this url to new dataset for future retraining.\n",
        "    url = 'https://raw.githubusercontent.com/AnsonCNS/COMS4507/main/BTC-USD_2023-05-07.csv'\n",
        "    preprocessed_data = preprocess_data(url)\n",
        "    last_day_index = len(preprocessed_data.index)\n",
        "    # split dataset into 85% training (311/365 days), 15% testing (54/365 days)\n",
        "    df_train = preprocessed_data.head(last_day_index - 54)\n",
        "\n",
        "    model = train_prophet_model(df_train)\n",
        "    transaction_record = []\n",
        "    profit_and_loss_record = []\n",
        "\n",
        "    #FIXME the line below is for experimental demonstration, remove line to get real prices\n",
        "    price = get_price()\n",
        "\n",
        "    # keep running the bot if there is positive balance or an existing buy order has been placed.\n",
        "    while (balance > 0 or buy_order) and not goal_reached:\n",
        "        # FIXME\n",
        "        # uncomment the following line to get real prices\n",
        "        # current_price = get_price()\n",
        "\n",
        "        # FIXME\n",
        "        # the following line is for experimental demonstration, remove line to get real prices\n",
        "        current_price = random.randint(int(price*(1-0.1)), int(price*(1+0.1)))\n",
        "\n",
        "        if current_price is not None:\n",
        "            print(\"Current price of BTC: $\", current_price)\n",
        "            predicted_price = predict_future_price(model)\n",
        "            display(Javascript('addData('+str(current_price)+','+str(predicted_price)+')'))\n",
        "            print(\"Predicted future price of BTC: $\", predicted_price)\n",
        "            buy_order, sell_order, balance = take_decision(\n",
        "                current_price, predicted_price, balance, buy_order, sell_order\n",
        "            )\n",
        "\n",
        "            if sell_order:\n",
        "                # record transaction\n",
        "                transaction_record.append(sell_order)\n",
        "                print(\"Sell order fulfilled. Profit: $\", sell_order.profit_or_loss)\n",
        "                profit_and_loss_record.append({sell_order.transaction_id: sell_order.profit_or_loss})\n",
        "\n",
        "                # reset orders\n",
        "                buy_order = None\n",
        "                sell_order = None\n",
        "\n",
        "            elif buy_order:\n",
        "                # record transaction\n",
        "                transaction_record.append(buy_order)\n",
        "            \n",
        "            if balance >= GOAL:\n",
        "                goal_reached = True\n",
        "                print(\"Investment goal reached! Stop trading.\")\n",
        "            \n",
        "\n",
        "            print(\"Remaining balance (USD): $\", balance, \"\\n\")\n",
        "\n",
        "        else:\n",
        "            print(\"Error getting price from CoinMarketCap API\")\n",
        "\n",
        "        time.sleep(INTERVALS)\n",
        "\n",
        "    print(\"Transaction record:\", transaction_record)\n",
        "    print(\"Profit and Loss:\", profit_and_loss_record)\n",
        "\n",
        "\n",
        "if __name__ == '__main__':\n",
        "    main()\n"
      ]
    },
    {
      "cell_type": "code",
      "source": [],
      "metadata": {
        "id": "wNP7wlOG-AGR"
      },
      "execution_count": null,
      "outputs": []
    }
  ]
}