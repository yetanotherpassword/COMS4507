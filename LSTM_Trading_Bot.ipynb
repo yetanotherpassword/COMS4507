{
  "nbformat": 4,
  "nbformat_minor": 0,
  "metadata": {
    "colab": {
      "provenance": [],
      "include_colab_link": true
    },
    "kernelspec": {
      "name": "python3",
      "display_name": "Python 3"
    },
    "language_info": {
      "name": "python"
    }
  },
  "cells": [
    {
      "cell_type": "markdown",
      "metadata": {
        "id": "view-in-github",
        "colab_type": "text"
      },
      "source": [
        "<a href=\"https://colab.research.google.com/github/yetanotherpassword/COMS4507/blob/main/LSTM_Trading_Bot.ipynb\" target=\"_parent\"><img src=\"https://colab.research.google.com/assets/colab-badge.svg\" alt=\"Open In Colab\"/></a>"
      ]
    },
    {
      "cell_type": "code",
      "execution_count": 15,
      "metadata": {
        "colab": {
          "base_uri": "https://localhost:8080/",
          "height": 1000
        },
        "id": "yRW1zYi4FQtR",
        "outputId": "8d3e48f6-cba3-459a-81d6-37de41269409"
      },
      "outputs": [
        {
          "output_type": "stream",
          "name": "stdout",
          "text": [
            "last_trainingdate=2023-01-20:\n",
            "Above is data_training\n",
            "Above  is data_test\n",
            "Above is training_data.head())\n",
            "Model: \"sequential_12\"\n",
            "_________________________________________________________________\n",
            " Layer (type)                Output Shape              Param #   \n",
            "=================================================================\n",
            " lstm_48 (LSTM)              (None, 60, 50)            11200     \n",
            "                                                                 \n",
            " dropout_48 (Dropout)        (None, 60, 50)            0         \n",
            "                                                                 \n",
            " lstm_49 (LSTM)              (None, 60, 60)            26640     \n",
            "                                                                 \n",
            " dropout_49 (Dropout)        (None, 60, 60)            0         \n",
            "                                                                 \n",
            " lstm_50 (LSTM)              (None, 60, 80)            45120     \n",
            "                                                                 \n",
            " dropout_50 (Dropout)        (None, 60, 80)            0         \n",
            "                                                                 \n",
            " lstm_51 (LSTM)              (None, 120)               96480     \n",
            "                                                                 \n",
            " dropout_51 (Dropout)        (None, 120)               0         \n",
            "                                                                 \n",
            " dense_12 (Dense)            (None, 1)                 121       \n",
            "                                                                 \n",
            "=================================================================\n",
            "Total params: 179,561\n",
            "Trainable params: 179,561\n",
            "Non-trainable params: 0\n",
            "_________________________________________________________________\n",
            "Epoch 1/50\n",
            "4/4 [==============================] - 7s 421ms/step - loss: 0.0697 - val_loss: 0.0219\n",
            "Epoch 2/50\n",
            "4/4 [==============================] - 1s 324ms/step - loss: 0.0323 - val_loss: 0.0201\n",
            "Epoch 3/50\n",
            "4/4 [==============================] - 2s 398ms/step - loss: 0.0275 - val_loss: 0.0126\n",
            "Epoch 4/50\n",
            "4/4 [==============================] - 1s 251ms/step - loss: 0.0179 - val_loss: 0.0135\n",
            "Epoch 5/50\n",
            "4/4 [==============================] - 1s 226ms/step - loss: 0.0196 - val_loss: 0.0129\n",
            "Epoch 6/50\n",
            "4/4 [==============================] - 1s 216ms/step - loss: 0.0162 - val_loss: 0.0123\n",
            "Epoch 7/50\n",
            "4/4 [==============================] - 1s 216ms/step - loss: 0.0158 - val_loss: 0.0122\n",
            "Epoch 8/50\n",
            "4/4 [==============================] - 1s 223ms/step - loss: 0.0119 - val_loss: 0.0138\n",
            "Epoch 9/50\n",
            "4/4 [==============================] - 1s 234ms/step - loss: 0.0120 - val_loss: 0.0140\n",
            "Epoch 10/50\n",
            "4/4 [==============================] - 1s 220ms/step - loss: 0.0114 - val_loss: 0.0148\n",
            "Epoch 11/50\n",
            "4/4 [==============================] - 1s 219ms/step - loss: 0.0112 - val_loss: 0.0164\n",
            "Epoch 12/50\n",
            "4/4 [==============================] - 1s 217ms/step - loss: 0.0102 - val_loss: 0.0168\n",
            "Epoch 13/50\n",
            "4/4 [==============================] - 1s 214ms/step - loss: 0.0106 - val_loss: 0.0176\n",
            "Epoch 14/50\n",
            "4/4 [==============================] - 1s 216ms/step - loss: 0.0097 - val_loss: 0.0177\n",
            "Epoch 15/50\n",
            "4/4 [==============================] - 1s 298ms/step - loss: 0.0097 - val_loss: 0.0193\n",
            "Epoch 16/50\n",
            "4/4 [==============================] - 2s 393ms/step - loss: 0.0104 - val_loss: 0.0197\n",
            "Epoch 17/50\n",
            "4/4 [==============================] - 1s 272ms/step - loss: 0.0084 - val_loss: 0.0194\n",
            "Epoch 18/50\n",
            "4/4 [==============================] - 1s 219ms/step - loss: 0.0080 - val_loss: 0.0195\n",
            "Epoch 19/50\n",
            "4/4 [==============================] - 1s 218ms/step - loss: 0.0088 - val_loss: 0.0195\n",
            "Epoch 20/50\n",
            "4/4 [==============================] - 1s 220ms/step - loss: 0.0090 - val_loss: 0.0197\n",
            "Epoch 21/50\n",
            "4/4 [==============================] - 1s 222ms/step - loss: 0.0079 - val_loss: 0.0140\n",
            "Epoch 22/50\n",
            "4/4 [==============================] - 1s 216ms/step - loss: 0.0091 - val_loss: 0.0153\n",
            "Epoch 23/50\n",
            "4/4 [==============================] - 1s 213ms/step - loss: 0.0091 - val_loss: 0.0143\n",
            "Epoch 24/50\n",
            "4/4 [==============================] - 1s 213ms/step - loss: 0.0084 - val_loss: 0.0155\n",
            "Epoch 25/50\n",
            "4/4 [==============================] - 1s 219ms/step - loss: 0.0069 - val_loss: 0.0208\n",
            "Epoch 26/50\n",
            "4/4 [==============================] - 1s 215ms/step - loss: 0.0081 - val_loss: 0.0140\n",
            "Epoch 27/50\n",
            "4/4 [==============================] - 1s 222ms/step - loss: 0.0082 - val_loss: 0.0108\n",
            "Epoch 28/50\n",
            "4/4 [==============================] - 1s 253ms/step - loss: 0.0063 - val_loss: 0.0110\n",
            "Epoch 29/50\n",
            "4/4 [==============================] - 2s 392ms/step - loss: 0.0072 - val_loss: 0.0160\n",
            "Epoch 30/50\n",
            "4/4 [==============================] - 1s 341ms/step - loss: 0.0058 - val_loss: 0.0155\n",
            "Epoch 31/50\n",
            "4/4 [==============================] - 1s 225ms/step - loss: 0.0057 - val_loss: 0.0148\n",
            "Epoch 32/50\n",
            "4/4 [==============================] - 1s 215ms/step - loss: 0.0060 - val_loss: 0.0120\n",
            "Epoch 33/50\n",
            "4/4 [==============================] - 1s 217ms/step - loss: 0.0056 - val_loss: 0.0119\n",
            "Epoch 34/50\n",
            "4/4 [==============================] - 1s 220ms/step - loss: 0.0051 - val_loss: 0.0161\n",
            "Epoch 35/50\n",
            "4/4 [==============================] - 1s 219ms/step - loss: 0.0060 - val_loss: 0.0132\n",
            "Epoch 36/50\n",
            "4/4 [==============================] - 1s 221ms/step - loss: 0.0055 - val_loss: 0.0156\n",
            "Epoch 37/50\n",
            "4/4 [==============================] - 1s 228ms/step - loss: 0.0067 - val_loss: 0.0138\n",
            "Epoch 38/50\n",
            "4/4 [==============================] - 1s 223ms/step - loss: 0.0064 - val_loss: 0.0143\n",
            "Epoch 39/50\n",
            "4/4 [==============================] - 1s 216ms/step - loss: 0.0054 - val_loss: 0.0165\n",
            "Epoch 40/50\n",
            "4/4 [==============================] - 1s 216ms/step - loss: 0.0052 - val_loss: 0.0133\n",
            "Epoch 41/50\n",
            "4/4 [==============================] - 1s 244ms/step - loss: 0.0047 - val_loss: 0.0182\n",
            "Epoch 42/50\n",
            "4/4 [==============================] - 2s 402ms/step - loss: 0.0061 - val_loss: 0.0162\n",
            "Epoch 43/50\n",
            "4/4 [==============================] - 1s 338ms/step - loss: 0.0052 - val_loss: 0.0158\n",
            "Epoch 44/50\n",
            "4/4 [==============================] - 1s 224ms/step - loss: 0.0047 - val_loss: 0.0157\n",
            "Epoch 45/50\n",
            "4/4 [==============================] - 1s 222ms/step - loss: 0.0046 - val_loss: 0.0127\n",
            "Epoch 46/50\n",
            "4/4 [==============================] - 1s 219ms/step - loss: 0.0047 - val_loss: 0.0152\n",
            "Epoch 47/50\n",
            "4/4 [==============================] - 1s 228ms/step - loss: 0.0051 - val_loss: 0.0186\n",
            "Epoch 48/50\n",
            "4/4 [==============================] - 1s 228ms/step - loss: 0.0040 - val_loss: 0.0166\n",
            "Epoch 49/50\n",
            "4/4 [==============================] - 1s 221ms/step - loss: 0.0050 - val_loss: 0.0161\n",
            "Epoch 50/50\n",
            "4/4 [==============================] - 1s 219ms/step - loss: 0.0040 - val_loss: 0.0162\n"
          ]
        },
        {
          "output_type": "display_data",
          "data": {
            "text/plain": [
              "<Figure size 640x480 with 1 Axes>"
            ],
            "image/png": "[encoded data removed]"
          },
          "metadata": {}
        },
        {
          "output_type": "display_data",
          "data": {
            "text/plain": [
              "<IPython.core.display.HTML object>"
            ],
            "text/html": [
              "\n",
              "    <canvas id=\"myChart\"></canvas>\n",
              "  "
            ]
          },
          "metadata": {}
        },
        {
          "output_type": "display_data",
          "data": {
            "text/plain": [
              "<IPython.core.display.HTML object>"
            ],
            "text/html": [
              "\n",
              "        <script src=\"https://cdn.jsdelivr.net/npm/chart.js@2.8.0\"></script>\n",
              "        <script>\n",
              "          var ctx = document.getElementById('myChart').getContext('2d');\n",
              "          var chart = new Chart(ctx, {\n",
              "              // The type of chart we want to create\n",
              "              type: 'line',\n",
              "\n",
              "              // The data for our dataset\n",
              "              data: {\n",
              "                  labels: [],\n",
              "                  datasets: [{\n",
              "                      label: 'Actual',\n",
              "                      borderColor: 'rgb(255, 99, 132)',\n",
              "                      data: []\n",
              "                  }, \n",
              "                  {\n",
              "                      label: 'Predicted',\n",
              "                      borderColor: 'rgb(155, 199, 32)',\n",
              "                      data: []\n",
              "                  }]\n",
              "              },\n",
              "              // Configuration options go here\n",
              "              options: { animation: {duration: 0} ,\n",
              "                scales: {x: {\n",
              "                           type: 'time',\n",
              "                           time: { unit: 'day',unitStepSize: 1,displayFormats: {day: 'YYYY-MM-DD'},tooltipFormat: 'YYYY-MM-DD'},\n",
              "                           title: {display: true, text: 'Date'}},\n",
              "                         y: {\n",
              "                           title: { display: true, text: 'value'}},\n",
              "                         xAxes: [{ scaleLabel: { display: true, labelString: 'Timestamp [YYYY-MM-DD]'}}], \n",
              "                        // xAxes : [time: { unit: 'day',unitStepSize: 1,displayFormats: {day: 'YYYY MM DD'},tooltipFormat: 'YYYY MM DD'},],\n",
              "                        yAxes: [{scaleLabel: {display: true, labelString: 'BitCoin Price [$USD Normalised]'} }], },\n",
              "                title: { display: true, text: 'Bitcoin Price - Realtime Prediction'}}});\n",
              "\n",
              "\n",
              "          function getEpoch(offset_sec=0) {\n",
              "             var now     = new Date(); \n",
              "             return Math.floor((now.getTime() - offset_sec*1000)/1000);}\n",
              "\n",
              "          function getDateTime(offset_sec=0) {\n",
              "             var now     = new Date(); \n",
              "             var numberOfMlSeconds = now.getTime() + offset_sec*1000;\n",
              "             var update_now = new Date (numberOfMlSeconds);\n",
              "             var year    = update_now.getFullYear();\n",
              "             var month   = update_now.getMonth()+1; \n",
              "             var day     = update_now.getDate();\n",
              "             var hour    = update_now.getHours();\n",
              "             var minute  = update_now.getMinutes();\n",
              "             var second  = update_now.getSeconds(); \n",
              "             if(month.toString().length == 1) {\n",
              "                 month = '0'+month;}\n",
              "             if(day.toString().length == 1) {\n",
              "                 day = '0'+day;}   \n",
              "             if(hour.toString().length == 1) {\n",
              "                 hour = '0'+hour;}\n",
              "             if(minute.toString().length == 1) {\n",
              "                 minute = '0'+minute; }\n",
              "             if(second.toString().length == 1) {\n",
              "                 second = '0'+second;}   \n",
              "             //var dateTime = year+'-'+month+'-'+day+' '+hour+':'+minute+':'+second;   \n",
              "             var dateTime = year+'-'+month+'-'+day;  \n",
              "             return dateTime;\n",
              "          }\n",
              "\n",
              "          function addData(current, predicted, day){\n",
              "            chart.data.labels.push(day)\n",
              "            if (chart.data.datasets[1].data.length > 0)\n",
              "            //chart.data.datasets[0].data[chart.data.datasets[0].data.length - 1] = current\n",
              "               chart.data.datasets[0].data.push(current)\n",
              "            chart.data.datasets[1].data.push(predicted)\n",
              "            // optional windowing\n",
              "            if(chart.data.labels.length > 100) {\n",
              "              chart.data.labels.shift()\n",
              "              chart.data.datasets[0].data.shift()\n",
              "              chart.data.datasets[1].data.shift() \n",
              "            }\n",
              "            chart.update();\n",
              "          }\n",
              "        </script>\n",
              "        "
            ]
          },
          "metadata": {}
        },
        {
          "output_type": "stream",
          "name": "stderr",
          "text": [
            "<ipython-input-15-da901268ae2a>:365: FutureWarning: The frame.append method is deprecated and will be removed from pandas in a future version. Use pandas.concat instead.\n",
            "  df= part_60_days.append(live_data, ignore_index = True)\n"
          ]
        },
        {
          "output_type": "stream",
          "name": "stdout",
          "text": [
            "days= 0      2022-11-21\n",
            "1      2022-11-22\n",
            "2      2022-11-23\n",
            "3      2022-11-24\n",
            "4      2022-11-25\n",
            "          ...    \n",
            "176    2023-05-16\n",
            "177    2023-05-17\n",
            "178    2023-05-18\n",
            "179    2023-05-19\n",
            "180    2023-05-20\n",
            "Name: Date, Length: 181, dtype: object\n",
            "inputs.shape[0]= 181\n",
            "x1= [0.30633151 0.30693383 0.32423658 0.33111528 0.12076167]\n",
            "y1= 0.33122974168956754\n",
            "1/1 [==============================] - 1s 573ms/step\n",
            "days= 2023-01-20\n",
            "Normalised current price= 0.33122974168956754\n",
            "Renormalised current price= 21085.373047\n",
            "Current price of BTC: (normalised) $ 21085.373047\n",
            "Normalised predicted price= [0.13454276]\n",
            "Renormalised predicted price= 17936.364581712674\n"
          ]
        },
        {
          "output_type": "stream",
          "name": "stderr",
          "text": [
            "<__array_function__ internals>:180: VisibleDeprecationWarning: Creating an ndarray from ragged nested sequences (which is a list-or-tuple of lists-or-tuples-or ndarrays with different lengths or shapes) is deprecated. If you meant to do this, you must specify 'dtype=object' when creating the ndarray.\n"
          ]
        },
        {
          "output_type": "display_data",
          "data": {
            "text/plain": [
              "<IPython.core.display.Javascript object>"
            ],
            "application/javascript": [
              "addData(21085.373047,17936.364581712674,2023-01-20)"
            ]
          },
          "metadata": {}
        },
        {
          "output_type": "stream",
          "name": "stdout",
          "text": [
            "Predicted future price of BTC: $ 17936.364581712674\n",
            "predicted= 17936.364581712674\n",
            "current= 21085.373047\n",
            "Predicted future price does not meet the minimum growth requirement (2.0%) for buy trigger\n",
            "Remaining balance (USD): $ 1000000 \n",
            "\n",
            "x1= [0.33122974 0.40253697 0.3391371  0.43044406 0.18947541]\n",
            "y1= 0.43066943179366546\n",
            "1/1 [==============================] - 0s 40ms/step\n",
            "days= 2023-01-21\n",
            "Normalised current price= 0.43066943179366546\n",
            "Renormalised current price= 22677.427734\n",
            "Current price of BTC: (normalised) $ 22677.427734\n",
            "Normalised predicted price= [0.1528672]\n",
            "Renormalised predicted price= 18229.743434878223\n"
          ]
        },
        {
          "output_type": "stream",
          "name": "stderr",
          "text": [
            "<__array_function__ internals>:180: VisibleDeprecationWarning: Creating an ndarray from ragged nested sequences (which is a list-or-tuple of lists-or-tuples-or ndarrays with different lengths or shapes) is deprecated. If you meant to do this, you must specify 'dtype=object' when creating the ndarray.\n"
          ]
        },
        {
          "output_type": "display_data",
          "data": {
            "text/plain": [
              "<IPython.core.display.Javascript object>"
            ],
            "application/javascript": [
              "addData(22677.427734,18229.743434878223,2023-01-21)"
            ]
          },
          "metadata": {}
        },
        {
          "output_type": "stream",
          "name": "stdout",
          "text": [
            "Predicted future price of BTC: $ 18229.743434878223\n",
            "predicted= 18229.743434878223\n",
            "current= 22677.427734\n",
            "Predicted future price does not meet the minimum growth requirement (2.0%) for buy trigger\n",
            "Remaining balance (USD): $ 1000000 \n",
            "\n",
            "x1= [0.43066943 0.4394187  0.44066678 0.43675909 0.22221444]\n",
            "y1= 0.436950318691782\n",
            "1/1 [==============================] - 0s 44ms/step\n",
            "days= 2023-01-22\n",
            "Normalised current price= 0.436950318691782\n",
            "Renormalised current price= 22777.986328\n",
            "Current price of BTC: (normalised) $ 22777.986328\n",
            "Normalised predicted price= [0.17352532]\n",
            "Renormalised predicted price= 18560.485189532155\n"
          ]
        },
        {
          "output_type": "stream",
          "name": "stderr",
          "text": [
            "<__array_function__ internals>:180: VisibleDeprecationWarning: Creating an ndarray from ragged nested sequences (which is a list-or-tuple of lists-or-tuples-or ndarrays with different lengths or shapes) is deprecated. If you meant to do this, you must specify 'dtype=object' when creating the ndarray.\n"
          ]
        },
        {
          "output_type": "display_data",
          "data": {
            "text/plain": [
              "<IPython.core.display.Javascript object>"
            ],
            "application/javascript": [
              "addData(22777.986328,18560.485189532155,2023-01-22)"
            ]
          },
          "metadata": {}
        },
        {
          "output_type": "stream",
          "name": "stdout",
          "text": [
            "Predicted future price of BTC: $ 18560.485189532155\n",
            "predicted= 18560.485189532155\n",
            "current= 22777.986328\n",
            "Predicted future price does not meet the minimum growth requirement (2.0%) for buy trigger\n",
            "Remaining balance (USD): $ 1000000 \n",
            "\n",
            "x1= [0.43695032 0.42531482 0.43276643 0.43318466 0.1530551 ]\n",
            "y1= 0.4333964439481015\n",
            "1/1 [==============================] - 0s 43ms/step\n",
            "days= 2023-01-23\n",
            "Normalised current price= 0.4333964439481015\n",
            "Renormalised current price= 22721.087891\n",
            "Current price of BTC: (normalised) $ 22721.087891\n",
            "Normalised predicted price= [0.19640744]\n",
            "Renormalised predicted price= 18926.833721788815\n"
          ]
        },
        {
          "output_type": "stream",
          "name": "stderr",
          "text": [
            "<__array_function__ internals>:180: VisibleDeprecationWarning: Creating an ndarray from ragged nested sequences (which is a list-or-tuple of lists-or-tuples-or ndarrays with different lengths or shapes) is deprecated. If you meant to do this, you must specify 'dtype=object' when creating the ndarray.\n"
          ]
        },
        {
          "output_type": "display_data",
          "data": {
            "text/plain": [
              "<IPython.core.display.Javascript object>"
            ],
            "application/javascript": [
              "addData(22721.087891,18926.833721788815,2023-01-23)"
            ]
          },
          "metadata": {}
        },
        {
          "output_type": "stream",
          "name": "stdout",
          "text": [
            "Predicted future price of BTC: $ 18926.833721788815\n",
            "predicted= 18926.833721788815\n",
            "current= 22721.087891\n",
            "Predicted future price does not meet the minimum growth requirement (2.0%) for buy trigger\n",
            "Remaining balance (USD): $ 1000000 \n",
            "\n",
            "x1= [0.43339644 0.42967543 0.4497488  0.44655643 0.16898205]\n",
            "y1= 0.44642178778158215\n",
            "1/1 [==============================] - 0s 46ms/step\n",
            "days= 2023-01-24\n",
            "Normalised current price= 0.44642178778158215\n",
            "Renormalised current price= 22929.626953\n",
            "Current price of BTC: (normalised) $ 22929.626953\n",
            "Normalised predicted price= [0.221216]\n",
            "Renormalised predicted price= 19324.024999876354\n"
          ]
        },
        {
          "output_type": "stream",
          "name": "stderr",
          "text": [
            "<__array_function__ internals>:180: VisibleDeprecationWarning: Creating an ndarray from ragged nested sequences (which is a list-or-tuple of lists-or-tuples-or ndarrays with different lengths or shapes) is deprecated. If you meant to do this, you must specify 'dtype=object' when creating the ndarray.\n"
          ]
        },
        {
          "output_type": "display_data",
          "data": {
            "text/plain": [
              "<IPython.core.display.Javascript object>"
            ],
            "application/javascript": [
              "addData(22929.626953,19324.024999876354,2023-01-24)"
            ]
          },
          "metadata": {}
        },
        {
          "output_type": "stream",
          "name": "stdout",
          "text": [
            "Predicted future price of BTC: $ 19324.024999876354\n",
            "predicted= 19324.024999876354\n",
            "current= 22929.626953\n",
            "Predicted future price does not meet the minimum growth requirement (2.0%) for buy trigger\n",
            "Remaining balance (USD): $ 1000000 \n",
            "\n",
            "x1= [0.44642179 0.43014586 0.44308342 0.4279396  0.1679609 ]\n",
            "y1= 0.4282859495439981\n",
            "1/1 [==============================] - 0s 50ms/step\n",
            "days= 2023-01-25\n",
            "Normalised current price= 0.4282859495439981\n",
            "Renormalised current price= 22639.267578\n",
            "Current price of BTC: (normalised) $ 22639.267578\n",
            "Normalised predicted price= [0.24751428]\n",
            "Renormalised predicted price= 19745.067212530426\n"
          ]
        },
        {
          "output_type": "stream",
          "name": "stderr",
          "text": [
            "<__array_function__ internals>:180: VisibleDeprecationWarning: Creating an ndarray from ragged nested sequences (which is a list-or-tuple of lists-or-tuples-or ndarrays with different lengths or shapes) is deprecated. If you meant to do this, you must specify 'dtype=object' when creating the ndarray.\n"
          ]
        },
        {
          "output_type": "display_data",
          "data": {
            "text/plain": [
              "<IPython.core.display.Javascript object>"
            ],
            "application/javascript": [
              "addData(22639.267578,19745.067212530426,2023-01-25)"
            ]
          },
          "metadata": {}
        },
        {
          "output_type": "stream",
          "name": "stdout",
          "text": [
            "Predicted future price of BTC: $ 19745.067212530426\n",
            "predicted= 19745.067212530426\n",
            "current= 22639.267578\n",
            "Predicted future price does not meet the minimum growth requirement (2.0%) for buy trigger\n",
            "Remaining balance (USD): $ 1000000 \n",
            "\n",
            "x1= [0.42828595 0.46690867 0.43392508 0.45801706 0.2064259 ]\n",
            "y1= 0.4576226173275517\n",
            "1/1 [==============================] - 0s 48ms/step\n",
            "days= 2023-01-26\n",
            "Normalised current price= 0.4576226173275517\n",
            "Renormalised current price= 23108.955078\n",
            "Current price of BTC: (normalised) $ 23108.955078\n",
            "Normalised predicted price= [0.27479845]\n",
            "Renormalised predicted price= 20181.893784445812\n"
          ]
        },
        {
          "output_type": "stream",
          "name": "stderr",
          "text": [
            "<__array_function__ internals>:180: VisibleDeprecationWarning: Creating an ndarray from ragged nested sequences (which is a list-or-tuple of lists-or-tuples-or ndarrays with different lengths or shapes) is deprecated. If you meant to do this, you must specify 'dtype=object' when creating the ndarray.\n"
          ]
        },
        {
          "output_type": "display_data",
          "data": {
            "text/plain": [
              "<IPython.core.display.Javascript object>"
            ],
            "application/javascript": [
              "addData(23108.955078,20181.893784445812,2023-01-26)"
            ]
          },
          "metadata": {}
        },
        {
          "output_type": "stream",
          "name": "stdout",
          "text": [
            "Predicted future price of BTC: $ 20181.893784445812\n",
            "predicted= 20181.893784445812\n",
            "current= 23108.955078\n",
            "Predicted future price does not meet the minimum growth requirement (2.0%) for buy trigger\n",
            "Remaining balance (USD): $ 1000000 \n",
            "\n",
            "x1= [0.45762262 0.43658879 0.46613604 0.45270111 0.16753646]\n",
            "y1= 0.45273585653946746\n",
            "1/1 [==============================] - 0s 49ms/step\n",
            "days= 2023-01-27\n",
            "Normalised current price= 0.45273585653946746\n",
            "Renormalised current price= 23030.716797\n",
            "Current price of BTC: (normalised) $ 23030.716797\n",
            "Normalised predicted price= [0.30257177]\n",
            "Renormalised predicted price= 20626.551700291435\n"
          ]
        },
        {
          "output_type": "stream",
          "name": "stderr",
          "text": [
            "<__array_function__ internals>:180: VisibleDeprecationWarning: Creating an ndarray from ragged nested sequences (which is a list-or-tuple of lists-or-tuples-or ndarrays with different lengths or shapes) is deprecated. If you meant to do this, you must specify 'dtype=object' when creating the ndarray.\n"
          ]
        },
        {
          "output_type": "display_data",
          "data": {
            "text/plain": [
              "<IPython.core.display.Javascript object>"
            ],
            "application/javascript": [
              "addData(23030.716797,20626.551700291435,2023-01-27)"
            ]
          },
          "metadata": {}
        },
        {
          "output_type": "stream",
          "name": "stdout",
          "text": [
            "Predicted future price of BTC: $ 20626.551700291435\n",
            "predicted= 20626.551700291435\n",
            "current= 23030.716797\n",
            "Predicted future price does not meet the minimum growth requirement (2.0%) for buy trigger\n",
            "Remaining balance (USD): $ 1000000 \n",
            "\n",
            "x1= [0.45273586 0.4478812  0.44976723 0.45557215 0.15877906]\n",
            "y1= 0.4558118881430928\n",
            "1/1 [==============================] - 0s 54ms/step\n",
            "days= 2023-01-28\n",
            "Normalised current price= 0.4558118881430928\n",
            "Renormalised current price= 23079.964844\n",
            "Current price of BTC: (normalised) $ 23079.964844\n",
            "Normalised predicted price= [0.33036143]\n",
            "Renormalised predicted price= 21071.471090363204\n"
          ]
        },
        {
          "output_type": "stream",
          "name": "stderr",
          "text": [
            "<__array_function__ internals>:180: VisibleDeprecationWarning: Creating an ndarray from ragged nested sequences (which is a list-or-tuple of lists-or-tuples-or ndarrays with different lengths or shapes) is deprecated. If you meant to do this, you must specify 'dtype=object' when creating the ndarray.\n"
          ]
        },
        {
          "output_type": "display_data",
          "data": {
            "text/plain": [
              "<IPython.core.display.Javascript object>"
            ],
            "application/javascript": [
              "addData(23079.964844,21071.471090363204,2023-01-28)"
            ]
          },
          "metadata": {}
        },
        {
          "output_type": "stream",
          "name": "stdout",
          "text": [
            "Predicted future price of BTC: $ 21071.471090363204\n",
            "predicted= 21071.471090363204\n",
            "current= 23079.964844\n",
            "Predicted future price does not meet the minimum growth requirement (2.0%) for buy trigger\n",
            "Remaining balance (USD): $ 1000000 \n",
            "\n",
            "x1= [0.45581189 0.43213905 0.46597493 0.45259567 0.06288916]\n",
            "y1= 0.4527816035965879\n",
            "1/1 [==============================] - 0s 50ms/step\n",
            "days= 2023-01-29\n",
            "Normalised current price= 0.4527816035965879\n",
            "Renormalised current price= 23031.449219\n",
            "Current price of BTC: (normalised) $ 23031.449219\n",
            "Normalised predicted price= [0.3574742]\n",
            "Renormalised predicted price= 21505.553614332286\n"
          ]
        },
        {
          "output_type": "stream",
          "name": "stderr",
          "text": [
            "<__array_function__ internals>:180: VisibleDeprecationWarning: Creating an ndarray from ragged nested sequences (which is a list-or-tuple of lists-or-tuples-or ndarrays with different lengths or shapes) is deprecated. If you meant to do this, you must specify 'dtype=object' when creating the ndarray.\n"
          ]
        },
        {
          "output_type": "display_data",
          "data": {
            "text/plain": [
              "<IPython.core.display.Javascript object>"
            ],
            "application/javascript": [
              "addData(23031.449219,21505.553614332286,2023-01-29)"
            ]
          },
          "metadata": {}
        },
        {
          "output_type": "stream",
          "name": "stdout",
          "text": [
            "Predicted future price of BTC: $ 21505.553614332286\n",
            "predicted= 21505.553614332286\n",
            "current= 23031.449219\n",
            "Predicted future price does not meet the minimum growth requirement (2.0%) for buy trigger\n",
            "Remaining balance (USD): $ 1000000 \n",
            "\n",
            "x1= [0.4527816  0.47927307 0.47083399 0.49904836 0.17711474]\n",
            "y1= 0.4992018055070062\n",
            "1/1 [==============================] - 0s 45ms/step\n",
            "days= 2023-01-30\n",
            "Normalised current price= 0.4992018055070062\n",
            "Renormalised current price= 23774.648438\n",
            "Current price of BTC: (normalised) $ 23774.648438\n",
            "Normalised predicted price= [0.38351625]\n",
            "Renormalised predicted price= 21922.493353635226\n"
          ]
        },
        {
          "output_type": "stream",
          "name": "stderr",
          "text": [
            "<__array_function__ internals>:180: VisibleDeprecationWarning: Creating an ndarray from ragged nested sequences (which is a list-or-tuple of lists-or-tuples-or ndarrays with different lengths or shapes) is deprecated. If you meant to do this, you must specify 'dtype=object' when creating the ndarray.\n"
          ]
        },
        {
          "output_type": "display_data",
          "data": {
            "text/plain": [
              "<IPython.core.display.Javascript object>"
            ],
            "application/javascript": [
              "addData(23774.648438,21922.493353635226,2023-01-30)"
            ]
          },
          "metadata": {}
        },
        {
          "output_type": "stream",
          "name": "stdout",
          "text": [
            "Predicted future price of BTC: $ 21922.493353635226\n",
            "predicted= 21922.493353635226\n",
            "current= 23774.648438\n",
            "Predicted future price does not meet the minimum growth requirement (2.0%) for buy trigger\n",
            "Remaining balance (USD): $ 1000000 \n",
            "\n",
            "x1= [0.49920181 0.47111251 0.44995772 0.44066497 0.17515485]\n",
            "y1= 0.4408734636565561\n",
            "1/1 [==============================] - 0s 55ms/step\n",
            "days= 2023-01-31\n",
            "Normalised current price= 0.4408734636565561\n",
            "Renormalised current price= 22840.796875\n",
            "Current price of BTC: (normalised) $ 22840.796875\n",
            "Normalised predicted price= [0.4077294]\n",
            "Renormalised predicted price= 22310.151796751572\n"
          ]
        },
        {
          "output_type": "stream",
          "name": "stderr",
          "text": [
            "<__array_function__ internals>:180: VisibleDeprecationWarning: Creating an ndarray from ragged nested sequences (which is a list-or-tuple of lists-or-tuples-or ndarrays with different lengths or shapes) is deprecated. If you meant to do this, you must specify 'dtype=object' when creating the ndarray.\n"
          ]
        },
        {
          "output_type": "display_data",
          "data": {
            "text/plain": [
              "<IPython.core.display.Javascript object>"
            ],
            "application/javascript": [
              "addData(22840.796875,22310.151796751572,2023-01-31)"
            ]
          },
          "metadata": {}
        },
        {
          "output_type": "stream",
          "name": "stdout",
          "text": [
            "Predicted future price of BTC: $ 22310.151796751572\n",
            "predicted= 22310.151796751572\n",
            "current= 22840.796875\n",
            "Predicted future price does not meet the minimum growth requirement (2.0%) for buy trigger\n",
            "Remaining balance (USD): $ 1000000 \n",
            "\n",
            "x1= [0.44087346 0.4358351  0.45684149 0.45935563 0.13590379]\n",
            "y1= 0.45942651501510623\n",
            "1/1 [==============================] - 0s 56ms/step\n",
            "days= 2023-02-01\n",
            "Normalised current price= 0.45942651501510623\n",
            "Renormalised current price= 23137.835938\n",
            "Current price of BTC: (normalised) $ 23137.835938\n",
            "Normalised predicted price= [0.4296884]\n",
            "Renormalised predicted price= 22661.721070946514\n"
          ]
        },
        {
          "output_type": "stream",
          "name": "stderr",
          "text": [
            "<__array_function__ internals>:180: VisibleDeprecationWarning: Creating an ndarray from ragged nested sequences (which is a list-or-tuple of lists-or-tuples-or ndarrays with different lengths or shapes) is deprecated. If you meant to do this, you must specify 'dtype=object' when creating the ndarray.\n"
          ]
        },
        {
          "output_type": "display_data",
          "data": {
            "text/plain": [
              "<IPython.core.display.Javascript object>"
            ],
            "application/javascript": [
              "addData(23137.835938,22661.721070946514,2023-02-01)"
            ]
          },
          "metadata": {}
        },
        {
          "output_type": "stream",
          "name": "stdout",
          "text": [
            "Predicted future price of BTC: $ 22661.721070946514\n",
            "predicted= 22661.721070946514\n",
            "current= 23137.835938\n",
            "Predicted future price does not meet the minimum growth requirement (2.0%) for buy trigger\n",
            "Remaining balance (USD): $ 1000000 \n",
            "\n",
            "x1= [0.45942652 0.46956166 0.46399269 0.49587456 0.17046083]\n",
            "y1= 0.49583994633146444\n",
            "1/1 [==============================] - 0s 56ms/step\n",
            "days= 2023-02-02\n",
            "Normalised current price= 0.49583994633146444\n",
            "Renormalised current price= 23720.824219\n",
            "Current price of BTC: (normalised) $ 23720.824219\n",
            "Normalised predicted price= [0.44906127]\n",
            "Renormalised predicted price= 22971.88580600237\n"
          ]
        },
        {
          "output_type": "stream",
          "name": "stderr",
          "text": [
            "<__array_function__ internals>:180: VisibleDeprecationWarning: Creating an ndarray from ragged nested sequences (which is a list-or-tuple of lists-or-tuples-or ndarrays with different lengths or shapes) is deprecated. If you meant to do this, you must specify 'dtype=object' when creating the ndarray.\n"
          ]
        },
        {
          "output_type": "display_data",
          "data": {
            "text/plain": [
              "<IPython.core.display.Javascript object>"
            ],
            "application/javascript": [
              "addData(23720.824219,22971.88580600237,2023-02-02)"
            ]
          },
          "metadata": {}
        },
        {
          "output_type": "stream",
          "name": "stdout",
          "text": [
            "Predicted future price of BTC: $ 22971.88580600237\n",
            "predicted= 22971.88580600237\n",
            "current= 23720.824219\n",
            "Predicted future price does not meet the minimum growth requirement (2.0%) for buy trigger\n",
            "Remaining balance (USD): $ 1000000 \n",
            "\n",
            "x1= [0.49583995 0.49473366 0.5016571  0.48013585 0.21884142]\n",
            "y1= 0.4801367531491205\n",
            "1/1 [==============================] - 0s 66ms/step\n",
            "days= 2023-02-03\n",
            "Normalised current price= 0.4801367531491205\n",
            "Renormalised current price= 23469.412109\n",
            "Current price of BTC: (normalised) $ 23469.412109\n",
            "Normalised predicted price= [0.46570092]\n",
            "Renormalised predicted price= 23238.290825312815\n"
          ]
        },
        {
          "output_type": "stream",
          "name": "stderr",
          "text": [
            "<__array_function__ internals>:180: VisibleDeprecationWarning: Creating an ndarray from ragged nested sequences (which is a list-or-tuple of lists-or-tuples-or ndarrays with different lengths or shapes) is deprecated. If you meant to do this, you must specify 'dtype=object' when creating the ndarray.\n"
          ]
        },
        {
          "output_type": "display_data",
          "data": {
            "text/plain": [
              "<IPython.core.display.Javascript object>"
            ],
            "application/javascript": [
              "addData(23469.412109,23238.290825312815,2023-02-03)"
            ]
          },
          "metadata": {}
        },
        {
          "output_type": "stream",
          "name": "stdout",
          "text": [
            "Predicted future price of BTC: $ 23238.290825312815\n",
            "predicted= 23238.290825312815\n",
            "current= 23469.412109\n",
            "Predicted future price does not meet the minimum growth requirement (2.0%) for buy trigger\n",
            "Remaining balance (USD): $ 1000000 \n",
            "\n",
            "x1= [0.48013675 0.46415836 0.4896319  0.47872699 0.17405373]\n",
            "y1= 0.4786944402330271\n",
            "1/1 [==============================] - 0s 54ms/step\n",
            "days= 2023-02-04\n",
            "Normalised current price= 0.4786944402330271\n",
            "Renormalised current price= 23446.320313\n",
            "Current price of BTC: (normalised) $ 23446.320313\n",
            "Normalised predicted price= [0.47947598]\n",
            "Renormalised predicted price= 23458.8328836427\n"
          ]
        },
        {
          "output_type": "stream",
          "name": "stderr",
          "text": [
            "<__array_function__ internals>:180: VisibleDeprecationWarning: Creating an ndarray from ragged nested sequences (which is a list-or-tuple of lists-or-tuples-or ndarrays with different lengths or shapes) is deprecated. If you meant to do this, you must specify 'dtype=object' when creating the ndarray.\n"
          ]
        },
        {
          "output_type": "display_data",
          "data": {
            "text/plain": [
              "<IPython.core.display.Javascript object>"
            ],
            "application/javascript": [
              "addData(23446.320313,23458.8328836427,2023-02-04)"
            ]
          },
          "metadata": {}
        },
        {
          "output_type": "stream",
          "name": "stdout",
          "text": [
            "Predicted future price of BTC: $ 23458.8328836427\n",
            "predicted= 23458.8328836427\n",
            "current= 23446.320313\n",
            "Predicted future price does not meet the minimum growth requirement (2.0%) for buy trigger\n",
            "Remaining balance (USD): $ 1000000 \n",
            "\n",
            "x1= [0.47869444 0.45658471 0.49038665 0.47138713 0.07121401]\n",
            "y1= 0.47156948976924196\n",
            "1/1 [==============================] - 0s 53ms/step\n",
            "days= 2023-02-05\n",
            "Normalised current price= 0.47156948976924196\n",
            "Renormalised current price= 23332.248047\n",
            "Current price of BTC: (normalised) $ 23332.248047\n",
            "Normalised predicted price= [0.49035293]\n",
            "Renormalised predicted price= 23632.97567254277\n"
          ]
        },
        {
          "output_type": "stream",
          "name": "stderr",
          "text": [
            "<__array_function__ internals>:180: VisibleDeprecationWarning: Creating an ndarray from ragged nested sequences (which is a list-or-tuple of lists-or-tuples-or ndarrays with different lengths or shapes) is deprecated. If you meant to do this, you must specify 'dtype=object' when creating the ndarray.\n"
          ]
        },
        {
          "output_type": "display_data",
          "data": {
            "text/plain": [
              "<IPython.core.display.Javascript object>"
            ],
            "application/javascript": [
              "addData(23332.248047,23632.97567254277,2023-02-05)"
            ]
          },
          "metadata": {}
        },
        {
          "output_type": "stream",
          "name": "stdout",
          "text": [
            "Predicted future price of BTC: $ 23632.97567254277\n",
            "predicted= 23632.97567254277\n",
            "current= 23332.248047\n",
            "Predicted future price does not meet the minimum growth requirement (2.0%) for buy trigger\n",
            "Remaining balance (USD): $ 1000000 \n",
            "\n",
            "x1= [0.47156949 0.44823845 0.46169843 0.44788316 0.10648581]\n",
            "y1= 0.4479454694884246\n",
            "1/1 [==============================] - 0s 49ms/step\n",
            "days= 2023-02-06\n",
            "Normalised current price= 0.4479454694884246\n",
            "Renormalised current price= 22954.021484\n",
            "Current price of BTC: (normalised) $ 22954.021484\n",
            "Normalised predicted price= [0.4982863]\n",
            "Renormalised predicted price= 23759.9910721789\n"
          ]
        },
        {
          "output_type": "stream",
          "name": "stderr",
          "text": [
            "<__array_function__ internals>:180: VisibleDeprecationWarning: Creating an ndarray from ragged nested sequences (which is a list-or-tuple of lists-or-tuples-or ndarrays with different lengths or shapes) is deprecated. If you meant to do this, you must specify 'dtype=object' when creating the ndarray.\n"
          ]
        },
        {
          "output_type": "display_data",
          "data": {
            "text/plain": [
              "<IPython.core.display.Javascript object>"
            ],
            "application/javascript": [
              "addData(22954.021484,23759.9910721789,2023-02-06)"
            ]
          },
          "metadata": {}
        },
        {
          "output_type": "stream",
          "name": "stdout",
          "text": [
            "Predicted future price of BTC: $ 23759.9910721789\n",
            "predicted= 23759.9910721789\n",
            "current= 22954.021484\n",
            "New buy order placed: Transaction ID: 6d2768a7-cfaa-41bd-ba21-8dfb38d05845, Transaction Type: TransactionTypes.BUY, Price: 22954.021484, Amount: 1000000 BTC, Volume: 43.5653508774942, Profit/Loss: Predicted future growth, Transaction Trigger: None\n",
            "Remaining balance (USD): $ 0 \n",
            "\n",
            "x1= [0.44794547 0.4292249  0.45215337 0.43566471 0.1447751 ]\n",
            "y1= 0.435656226160811\n",
            "1/1 [==============================] - 0s 60ms/step\n",
            "days= 2023-02-07\n",
            "Normalised current price= 0.435656226160811\n",
            "Renormalised current price= 22757.267578\n",
            "Current price of BTC: (normalised) $ 22757.267578\n",
            "Normalised predicted price= [0.5031532]\n",
            "Renormalised predicted price= 23837.911345856504\n"
          ]
        },
        {
          "output_type": "stream",
          "name": "stderr",
          "text": [
            "<__array_function__ internals>:180: VisibleDeprecationWarning: Creating an ndarray from ragged nested sequences (which is a list-or-tuple of lists-or-tuples-or ndarrays with different lengths or shapes) is deprecated. If you meant to do this, you must specify 'dtype=object' when creating the ndarray.\n"
          ]
        },
        {
          "output_type": "display_data",
          "data": {
            "text/plain": [
              "<IPython.core.display.Javascript object>"
            ],
            "application/javascript": [
              "addData(22757.267578,23837.911345856504,2023-02-07)"
            ]
          },
          "metadata": {}
        },
        {
          "output_type": "stream",
          "name": "stdout",
          "text": [
            "Predicted future price of BTC: $ 23837.911345856504\n",
            "Waiting for price to reach sell threshold\n",
            "Remaining balance (USD): $ 0 \n",
            "\n",
            "x1= [0.43565623 0.44120824 0.45624797 0.46716617 0.17499641]\n",
            "y1= 0.46727024308647014\n",
            "1/1 [==============================] - 0s 57ms/step\n",
            "days= 2023-02-08\n",
            "Normalised current price= 0.46727024308647014\n",
            "Renormalised current price= 23263.416016\n",
            "Current price of BTC: (normalised) $ 23263.416016\n",
            "Normalised predicted price= [0.50495136]\n",
            "Renormalised predicted price= 23866.700230726696\n"
          ]
        },
        {
          "output_type": "stream",
          "name": "stderr",
          "text": [
            "<__array_function__ internals>:180: VisibleDeprecationWarning: Creating an ndarray from ragged nested sequences (which is a list-or-tuple of lists-or-tuples-or ndarrays with different lengths or shapes) is deprecated. If you meant to do this, you must specify 'dtype=object' when creating the ndarray.\n"
          ]
        },
        {
          "output_type": "display_data",
          "data": {
            "text/plain": [
              "<IPython.core.display.Javascript object>"
            ],
            "application/javascript": [
              "addData(23263.416016,23866.700230726696,2023-02-08)"
            ]
          },
          "metadata": {}
        },
        {
          "output_type": "stream",
          "name": "stdout",
          "text": [
            "Predicted future price of BTC: $ 23866.700230726696\n",
            "Waiting for price to reach sell threshold\n",
            "Remaining balance (USD): $ 0 \n",
            "\n",
            "x1= [0.46727024 0.44477047 0.4546441  0.44686676 0.15867151]\n",
            "y1= 0.44747982553028987\n",
            "1/1 [==============================] - 0s 88ms/step\n",
            "days= 2023-02-09\n",
            "Normalised current price= 0.44747982553028987\n",
            "Renormalised current price= 22946.566406\n",
            "Current price of BTC: (normalised) $ 22946.566406\n",
            "Normalised predicted price= [0.5039016]\n",
            "Renormalised predicted price= 23849.89335455546\n"
          ]
        },
        {
          "output_type": "stream",
          "name": "stderr",
          "text": [
            "<__array_function__ internals>:180: VisibleDeprecationWarning: Creating an ndarray from ragged nested sequences (which is a list-or-tuple of lists-or-tuples-or ndarrays with different lengths or shapes) is deprecated. If you meant to do this, you must specify 'dtype=object' when creating the ndarray.\n"
          ]
        },
        {
          "output_type": "display_data",
          "data": {
            "text/plain": [
              "<IPython.core.display.Javascript object>"
            ],
            "application/javascript": [
              "addData(22946.566406,23849.89335455546,2023-02-09)"
            ]
          },
          "metadata": {}
        },
        {
          "output_type": "stream",
          "name": "stdout",
          "text": [
            "Predicted future price of BTC: $ 23849.89335455546\n",
            "Waiting for price to reach sell threshold\n",
            "Remaining balance (USD): $ 0 \n",
            "\n",
            "x1= [0.44747983 0.42154576 0.39363074 0.37686629 0.22338533]\n",
            "y1= 0.377052426093045\n",
            "1/1 [==============================] - 0s 78ms/step\n",
            "days= 2023-02-10\n",
            "Normalised current price= 0.377052426093045\n",
            "Renormalised current price= 21819.005859\n",
            "Current price of BTC: (normalised) $ 21819.005859\n",
            "Normalised predicted price= [0.49979848]\n",
            "Renormalised predicted price= 23784.201295235012\n"
          ]
        },
        {
          "output_type": "stream",
          "name": "stderr",
          "text": [
            "<__array_function__ internals>:180: VisibleDeprecationWarning: Creating an ndarray from ragged nested sequences (which is a list-or-tuple of lists-or-tuples-or ndarrays with different lengths or shapes) is deprecated. If you meant to do this, you must specify 'dtype=object' when creating the ndarray.\n"
          ]
        },
        {
          "output_type": "display_data",
          "data": {
            "text/plain": [
              "<IPython.core.display.Javascript object>"
            ],
            "application/javascript": [
              "addData(21819.005859,23784.201295235012,2023-02-10)"
            ]
          },
          "metadata": {}
        },
        {
          "output_type": "stream",
          "name": "stdout",
          "text": [
            "Predicted future price of BTC: $ 23784.201295235012\n",
            "Waiting for price to reach sell threshold\n",
            "Remaining balance (USD): $ 0 \n",
            "\n",
            "x1= [0.37705243 0.35557938 0.37867693 0.36637862 0.17401186]\n",
            "y1= 0.3666113635732986\n",
            "1/1 [==============================] - 0s 114ms/step\n",
            "days= 2023-02-11\n",
            "Normalised current price= 0.3666113635732986\n",
            "Renormalised current price= 21651.841797\n",
            "Current price of BTC: (normalised) $ 21651.841797\n",
            "Normalised predicted price= [0.49243325]\n",
            "Renormalised predicted price= 23666.282144955243\n"
          ]
        },
        {
          "output_type": "stream",
          "name": "stderr",
          "text": [
            "<__array_function__ internals>:180: VisibleDeprecationWarning: Creating an ndarray from ragged nested sequences (which is a list-or-tuple of lists-or-tuples-or ndarrays with different lengths or shapes) is deprecated. If you meant to do this, you must specify 'dtype=object' when creating the ndarray.\n"
          ]
        },
        {
          "output_type": "display_data",
          "data": {
            "text/plain": [
              "<IPython.core.display.Javascript object>"
            ],
            "application/javascript": [
              "addData(21651.841797,23666.282144955243,2023-02-11)"
            ]
          },
          "metadata": {}
        },
        {
          "output_type": "stream",
          "name": "stdout",
          "text": [
            "Predicted future price of BTC: $ 23666.282144955243\n",
            "New sell order placed: Transaction ID: 1d42cab2-3747-458d-8b34-303e53652541, Transaction Type: TransactionTypes.SELL, Price: 21651.841797, Amount: 943270.0850302995 BTC, Volume: 43.5653508774942, Profit/Loss: -56729.91496970056, Transaction Trigger: Current price triggered stoploss\n",
            "Sell order fulfilled. Profit: $ -56729.91496970056\n",
            "Remaining balance (USD): $ 943270.0850302995 \n",
            "\n",
            "x1= [0.36661136 0.3524678  0.38371652 0.38010502 0.0776567 ]\n",
            "y1= 0.38029387905821666\n",
            "1/1 [==============================] - 0s 88ms/step\n",
            "days= 2023-02-12\n",
            "Normalised current price= 0.38029387905821666\n",
            "Renormalised current price= 21870.902344\n",
            "Current price of BTC: (normalised) $ 21870.902344\n",
            "Normalised predicted price= [0.4822166]\n",
            "Renormalised predicted price= 23502.710930789726\n"
          ]
        },
        {
          "output_type": "stream",
          "name": "stderr",
          "text": [
            "<__array_function__ internals>:180: VisibleDeprecationWarning: Creating an ndarray from ragged nested sequences (which is a list-or-tuple of lists-or-tuples-or ndarrays with different lengths or shapes) is deprecated. If you meant to do this, you must specify 'dtype=object' when creating the ndarray.\n"
          ]
        },
        {
          "output_type": "display_data",
          "data": {
            "text/plain": [
              "<IPython.core.display.Javascript object>"
            ],
            "application/javascript": [
              "addData(21870.902344,23502.710930789726,2023-02-12)"
            ]
          },
          "metadata": {}
        },
        {
          "output_type": "stream",
          "name": "stdout",
          "text": [
            "Predicted future price of BTC: $ 23502.710930789726\n",
            "predicted= 23502.710930789726\n",
            "current= 21870.902344\n",
            "New buy order placed: Transaction ID: a7dcc092-863d-4639-8dae-eff87874e4b3, Transaction Type: TransactionTypes.BUY, Price: 21870.902344, Amount: 943270.0850302995 BTC, Volume: 43.12899715768122, Profit/Loss: Predicted future growth, Transaction Trigger: None\n",
            "Remaining balance (USD): $ 0.0 \n",
            "\n",
            "x1= [0.38029388 0.36306891 0.38782046 0.37493965 0.09082035]\n",
            "y1= 0.3750533410575474\n",
            "1/1 [==============================] - 0s 106ms/step\n",
            "days= 2023-02-13\n",
            "Normalised current price= 0.3750533410575474\n",
            "Renormalised current price= 21787.0\n",
            "Current price of BTC: (normalised) $ 21787.0\n",
            "Normalised predicted price= [0.46995723]\n",
            "Renormalised predicted price= 23306.43539836027\n"
          ]
        },
        {
          "output_type": "stream",
          "name": "stderr",
          "text": [
            "<__array_function__ internals>:180: VisibleDeprecationWarning: Creating an ndarray from ragged nested sequences (which is a list-or-tuple of lists-or-tuples-or ndarrays with different lengths or shapes) is deprecated. If you meant to do this, you must specify 'dtype=object' when creating the ndarray.\n"
          ]
        },
        {
          "output_type": "display_data",
          "data": {
            "text/plain": [
              "<IPython.core.display.Javascript object>"
            ],
            "application/javascript": [
              "addData(21787.0,23306.43539836027,2023-02-13)"
            ]
          },
          "metadata": {}
        },
        {
          "output_type": "stream",
          "name": "stdout",
          "text": [
            "Predicted future price of BTC: $ 23306.43539836027\n",
            "Waiting for price to reach sell threshold\n",
            "Remaining balance (USD): $ 0.0 \n",
            "\n",
            "x1= [0.37505334 0.35290563 0.37362153 0.37618291 0.14561746]\n",
            "y1= 0.37597913936693694\n",
            "1/1 [==============================] - 0s 106ms/step\n",
            "days= 2023-02-14\n",
            "Normalised current price= 0.37597913936693694\n",
            "Renormalised current price= 21801.822266\n",
            "Current price of BTC: (normalised) $ 21801.822266\n",
            "Normalised predicted price= [0.4563846]\n",
            "Renormalised predicted price= 23089.134093577828\n"
          ]
        },
        {
          "output_type": "stream",
          "name": "stderr",
          "text": [
            "<__array_function__ internals>:180: VisibleDeprecationWarning: Creating an ndarray from ragged nested sequences (which is a list-or-tuple of lists-or-tuples-or ndarrays with different lengths or shapes) is deprecated. If you meant to do this, you must specify 'dtype=object' when creating the ndarray.\n"
          ]
        },
        {
          "output_type": "display_data",
          "data": {
            "text/plain": [
              "<IPython.core.display.Javascript object>"
            ],
            "application/javascript": [
              "addData(21801.822266,23089.134093577828,2023-02-14)"
            ]
          },
          "metadata": {}
        },
        {
          "output_type": "stream",
          "name": "stdout",
          "text": [
            "Predicted future price of BTC: $ 23089.134093577828\n",
            "Waiting for price to reach sell threshold\n",
            "Remaining balance (USD): $ 0.0 \n",
            "\n",
            "x1= [0.37597914 0.37758095 0.38460549 0.40196875 0.17144342]\n",
            "y1= 0.40213510631365157\n",
            "1/1 [==============================] - 0s 102ms/step\n",
            "days= 2023-02-15\n",
            "Normalised current price= 0.40213510631365157\n",
            "Renormalised current price= 22220.585938\n",
            "Current price of BTC: (normalised) $ 22220.585938\n",
            "Normalised predicted price= [0.44227505]\n",
            "Renormalised predicted price= 22863.236585039394\n"
          ]
        },
        {
          "output_type": "stream",
          "name": "stderr",
          "text": [
            "<__array_function__ internals>:180: VisibleDeprecationWarning: Creating an ndarray from ragged nested sequences (which is a list-or-tuple of lists-or-tuples-or ndarrays with different lengths or shapes) is deprecated. If you meant to do this, you must specify 'dtype=object' when creating the ndarray.\n"
          ]
        },
        {
          "output_type": "display_data",
          "data": {
            "text/plain": [
              "<IPython.core.display.Javascript object>"
            ],
            "application/javascript": [
              "addData(22220.585938,22863.236585039394,2023-02-15)"
            ]
          },
          "metadata": {}
        },
        {
          "output_type": "stream",
          "name": "stdout",
          "text": [
            "Predicted future price of BTC: $ 22863.236585039394\n",
            "Waiting for price to reach sell threshold\n",
            "Remaining balance (USD): $ 0.0 \n",
            "\n",
            "x1= [0.40213511 0.50352484 0.41331537 0.53236761 0.2225832 ]\n",
            "y1= 0.53247430537455\n",
            "1/1 [==============================] - 0s 109ms/step\n",
            "days= 2023-02-16\n",
            "Normalised current price= 0.53247430537455\n",
            "Renormalised current price= 24307.349609\n",
            "Current price of BTC: (normalised) $ 24307.349609\n",
            "Normalised predicted price= [0.42904449]\n",
            "Renormalised predicted price= 22651.41192472361\n"
          ]
        },
        {
          "output_type": "stream",
          "name": "stderr",
          "text": [
            "<__array_function__ internals>:180: VisibleDeprecationWarning: Creating an ndarray from ragged nested sequences (which is a list-or-tuple of lists-or-tuples-or ndarrays with different lengths or shapes) is deprecated. If you meant to do this, you must specify 'dtype=object' when creating the ndarray.\n"
          ]
        },
        {
          "output_type": "display_data",
          "data": {
            "text/plain": [
              "<IPython.core.display.Javascript object>"
            ],
            "application/javascript": [
              "addData(24307.349609,22651.41192472361,2023-02-16)"
            ]
          },
          "metadata": {}
        },
        {
          "output_type": "stream",
          "name": "stdout",
          "text": [
            "Predicted future price of BTC: $ 22651.41192472361\n",
            "New sell order placed: Transaction ID: 2dbf0c9e-0b9a-4620-a2f0-27f07b0c2500, Transaction Type: TransactionTypes.SELL, Price: 24307.349609, Amount: 1048351.6121973248 BTC, Volume: 43.12899715768122, Profit/Loss: 105081.52716702528, Transaction Trigger: Predicted future price triggered stoploss\n",
            "Sell order fulfilled. Profit: $ 105081.52716702528\n",
            "Remaining balance (USD): $ 1048351.6121973248 \n",
            "\n",
            "x1= [0.53247431 0.55517733 0.51019454 0.48960809 0.28399129]\n",
            "y1= 0.4896226173260525\n",
            "1/1 [==============================] - 0s 113ms/step\n",
            "days= 2023-02-17\n",
            "Normalised current price= 0.4896226173260525\n",
            "Renormalised current price= 23621.283203\n",
            "Current price of BTC: (normalised) $ 23621.283203\n",
            "Normalised predicted price= [0.41794854]\n",
            "Renormalised predicted price= 22473.76309090796\n"
          ]
        },
        {
          "output_type": "stream",
          "name": "stderr",
          "text": [
            "<__array_function__ internals>:180: VisibleDeprecationWarning: Creating an ndarray from ragged nested sequences (which is a list-or-tuple of lists-or-tuples-or ndarrays with different lengths or shapes) is deprecated. If you meant to do this, you must specify 'dtype=object' when creating the ndarray.\n"
          ]
        },
        {
          "output_type": "display_data",
          "data": {
            "text/plain": [
              "<IPython.core.display.Javascript object>"
            ],
            "application/javascript": [
              "addData(23621.283203,22473.76309090796,2023-02-17)"
            ]
          },
          "metadata": {}
        },
        {
          "output_type": "stream",
          "name": "stdout",
          "text": [
            "Predicted future price of BTC: $ 22473.76309090796\n",
            "predicted= 22473.76309090796\n",
            "current= 23621.283203\n",
            "Predicted future price does not meet the minimum growth requirement (2.0%) for buy trigger\n",
            "Remaining balance (USD): $ 1048351.6121973248 \n",
            "\n",
            "x1= [0.48962262 0.54204496 0.50115734 0.54847253 0.30233986]\n",
            "y1= 0.5485856842132841\n",
            "1/1 [==============================] - 0s 111ms/step\n",
            "days= 2023-02-18\n",
            "Normalised current price= 0.5485856842132841\n",
            "Renormalised current price= 24565.296875\n",
            "Current price of BTC: (normalised) $ 24565.296875\n",
            "Normalised predicted price= [0.40972066]\n",
            "Renormalised predicted price= 22342.032566631693\n"
          ]
        },
        {
          "output_type": "stream",
          "name": "stderr",
          "text": [
            "<__array_function__ internals>:180: VisibleDeprecationWarning: Creating an ndarray from ragged nested sequences (which is a list-or-tuple of lists-or-tuples-or ndarrays with different lengths or shapes) is deprecated. If you meant to do this, you must specify 'dtype=object' when creating the ndarray.\n"
          ]
        },
        {
          "output_type": "display_data",
          "data": {
            "text/plain": [
              "<IPython.core.display.Javascript object>"
            ],
            "application/javascript": [
              "addData(24565.296875,22342.032566631693,2023-02-18)"
            ]
          },
          "metadata": {}
        },
        {
          "output_type": "stream",
          "name": "stdout",
          "text": [
            "Predicted future price of BTC: $ 22342.032566631693\n",
            "predicted= 22342.032566631693\n",
            "current= 24565.296875\n",
            "Predicted future price does not meet the minimum growth requirement (2.0%) for buy trigger\n",
            "Remaining balance (USD): $ 1048351.6121973248 \n",
            "\n",
            "x1= [0.54858568 0.53421808 0.56538952 0.55320079 0.10703546]\n",
            "y1= 0.553253347164421\n",
            "1/1 [==============================] - 0s 112ms/step\n",
            "days= 2023-02-19\n",
            "Normalised current price= 0.553253347164421\n",
            "Renormalised current price= 24640.027344\n",
            "Current price of BTC: (normalised) $ 24640.027344\n",
            "Normalised predicted price= [0.40515035]\n",
            "Renormalised predicted price= 22268.860817586617\n"
          ]
        },
        {
          "output_type": "stream",
          "name": "stderr",
          "text": [
            "<__array_function__ internals>:180: VisibleDeprecationWarning: Creating an ndarray from ragged nested sequences (which is a list-or-tuple of lists-or-tuples-or ndarrays with different lengths or shapes) is deprecated. If you meant to do this, you must specify 'dtype=object' when creating the ndarray.\n"
          ]
        },
        {
          "output_type": "display_data",
          "data": {
            "text/plain": [
              "<IPython.core.display.Javascript object>"
            ],
            "application/javascript": [
              "addData(24640.027344,22268.860817586617,2023-02-19)"
            ]
          },
          "metadata": {}
        },
        {
          "output_type": "stream",
          "name": "stdout",
          "text": [
            "Predicted future price of BTC: $ 22268.860817586617\n",
            "predicted= 22268.860817586617\n",
            "current= 24640.027344\n",
            "Predicted future price does not meet the minimum growth requirement (2.0%) for buy trigger\n",
            "Remaining balance (USD): $ 1048351.6121973248 \n",
            "\n",
            "x1= [0.55325335 0.55261042 0.55641843 0.53360477 0.16032268]\n",
            "y1= 0.5343027234727291\n",
            "1/1 [==============================] - 0s 108ms/step\n",
            "days= 2023-02-20\n",
            "Normalised current price= 0.5343027234727291\n",
            "Renormalised current price= 24336.623047\n",
            "Current price of BTC: (normalised) $ 24336.623047\n",
            "Normalised predicted price= [0.4045695]\n",
            "Renormalised predicted price= 22259.56130541942\n"
          ]
        },
        {
          "output_type": "stream",
          "name": "stderr",
          "text": [
            "<__array_function__ internals>:180: VisibleDeprecationWarning: Creating an ndarray from ragged nested sequences (which is a list-or-tuple of lists-or-tuples-or ndarrays with different lengths or shapes) is deprecated. If you meant to do this, you must specify 'dtype=object' when creating the ndarray.\n"
          ]
        },
        {
          "output_type": "display_data",
          "data": {
            "text/plain": [
              "<IPython.core.display.Javascript object>"
            ],
            "application/javascript": [
              "addData(24336.623047,22259.56130541942,2023-02-20)"
            ]
          },
          "metadata": {}
        },
        {
          "output_type": "stream",
          "name": "stdout",
          "text": [
            "Predicted future price of BTC: $ 22259.56130541942\n",
            "predicted= 22259.56130541942\n",
            "current= 24336.623047\n",
            "Predicted future price does not meet the minimum growth requirement (2.0%) for buy trigger\n",
            "Remaining balance (USD): $ 1048351.6121973248 \n",
            "\n",
            "x1= [0.53430272 0.54807228 0.53093684 0.56493904 0.19116687]\n",
            "y1= 0.5653094635209273\n",
            "2/2 [==============================] - 0s 27ms/step\n",
            "days= 2023-02-21\n",
            "Normalised current price= 0.5653094635209273\n",
            "Renormalised current price= 24833.048828\n",
            "Current price of BTC: (normalised) $ 24833.048828\n",
            "Normalised predicted price= [0.40753168]\n",
            "Renormalised predicted price= 22306.98643175839\n"
          ]
        },
        {
          "output_type": "stream",
          "name": "stderr",
          "text": [
            "<__array_function__ internals>:180: VisibleDeprecationWarning: Creating an ndarray from ragged nested sequences (which is a list-or-tuple of lists-or-tuples-or ndarrays with different lengths or shapes) is deprecated. If you meant to do this, you must specify 'dtype=object' when creating the ndarray.\n"
          ]
        },
        {
          "output_type": "display_data",
          "data": {
            "text/plain": [
              "<IPython.core.display.Javascript object>"
            ],
            "application/javascript": [
              "addData(24833.048828,22306.98643175839,2023-02-21)"
            ]
          },
          "metadata": {}
        },
        {
          "output_type": "stream",
          "name": "stdout",
          "text": [
            "Predicted future price of BTC: $ 22306.98643175839\n",
            "predicted= 22306.98643175839\n",
            "current= 24833.048828\n",
            "Predicted future price does not meet the minimum growth requirement (2.0%) for buy trigger\n",
            "Remaining balance (USD): $ 1048351.6121973248 \n",
            "\n",
            "x1= [0.56530946 0.55472314 0.54830481 0.54039707 0.21151886]\n",
            "y1= 0.5405983714109499\n",
            "2/2 [==============================] - 0s 34ms/step\n",
            "days= 2023-02-22\n",
            "Normalised current price= 0.5405983714109499\n",
            "Renormalised current price= 24437.417969\n",
            "Current price of BTC: (normalised) $ 24437.417969\n",
            "Normalised predicted price= [0.41334027]\n",
            "Renormalised predicted price= 22399.983462001364\n"
          ]
        },
        {
          "output_type": "stream",
          "name": "stderr",
          "text": [
            "<__array_function__ internals>:180: VisibleDeprecationWarning: Creating an ndarray from ragged nested sequences (which is a list-or-tuple of lists-or-tuples-or ndarrays with different lengths or shapes) is deprecated. If you meant to do this, you must specify 'dtype=object' when creating the ndarray.\n"
          ]
        },
        {
          "output_type": "display_data",
          "data": {
            "text/plain": [
              "<IPython.core.display.Javascript object>"
            ],
            "application/javascript": [
              "addData(24437.417969,22399.983462001364,2023-02-22)"
            ]
          },
          "metadata": {}
        },
        {
          "output_type": "stream",
          "name": "stdout",
          "text": [
            "Predicted future price of BTC: $ 22399.983462001364\n",
            "predicted= 22399.983462001364\n",
            "current= 24437.417969\n",
            "Predicted future price does not meet the minimum growth requirement (2.0%) for buy trigger\n",
            "Remaining balance (USD): $ 1048351.6121973248 \n",
            "\n",
            "x1= [0.54059837 0.51380802 0.51285883 0.52493257 0.20206411]\n",
            "y1= 0.5251895452653423\n",
            "2/2 [==============================] - 0s 39ms/step\n",
            "days= 2023-02-23\n",
            "Normalised current price= 0.5251895452653423\n",
            "Renormalised current price= 24190.71875\n",
            "Current price of BTC: (normalised) $ 24190.71875\n",
            "Normalised predicted price= [0.4208501]\n",
            "Renormalised predicted price= 22520.21770889659\n"
          ]
        },
        {
          "output_type": "stream",
          "name": "stderr",
          "text": [
            "<__array_function__ internals>:180: VisibleDeprecationWarning: Creating an ndarray from ragged nested sequences (which is a list-or-tuple of lists-or-tuples-or ndarrays with different lengths or shapes) is deprecated. If you meant to do this, you must specify 'dtype=object' when creating the ndarray.\n"
          ]
        },
        {
          "output_type": "display_data",
          "data": {
            "text/plain": [
              "<IPython.core.display.Javascript object>"
            ],
            "application/javascript": [
              "addData(24190.71875,22520.21770889659,2023-02-23)"
            ]
          },
          "metadata": {}
        },
        {
          "output_type": "stream",
          "name": "stdout",
          "text": [
            "Predicted future price of BTC: $ 22520.21770889659\n",
            "predicted= 22520.21770889659\n",
            "current= 24190.71875\n",
            "Predicted future price does not meet the minimum growth requirement (2.0%) for buy trigger\n",
            "Remaining balance (USD): $ 1048351.6121973248 \n",
            "\n",
            "x1= [0.52518955 0.52004363 0.51602076 0.50985283 0.2045468 ]\n",
            "y1= 0.5099049071564483\n",
            "2/2 [==============================] - 0s 38ms/step\n",
            "days= 2023-02-24\n",
            "Normalised current price= 0.5099049071564483\n",
            "Renormalised current price= 23946.007813\n",
            "Current price of BTC: (normalised) $ 23946.007813\n",
            "Normalised predicted price= [0.4287455]\n",
            "Renormalised predicted price= 22646.625228671204\n"
          ]
        },
        {
          "output_type": "stream",
          "name": "stderr",
          "text": [
            "<__array_function__ internals>:180: VisibleDeprecationWarning: Creating an ndarray from ragged nested sequences (which is a list-or-tuple of lists-or-tuples-or ndarrays with different lengths or shapes) is deprecated. If you meant to do this, you must specify 'dtype=object' when creating the ndarray.\n"
          ]
        },
        {
          "output_type": "display_data",
          "data": {
            "text/plain": [
              "<IPython.core.display.Javascript object>"
            ],
            "application/javascript": [
              "addData(23946.007813,22646.625228671204,2023-02-24)"
            ]
          },
          "metadata": {}
        },
        {
          "output_type": "stream",
          "name": "stdout",
          "text": [
            "Predicted future price of BTC: $ 22646.625228671204\n",
            "predicted= 22646.625228671204\n",
            "current= 23946.007813\n",
            "Predicted future price does not meet the minimum growth requirement (2.0%) for buy trigger\n",
            "Remaining balance (USD): $ 1048351.6121973248 \n",
            "\n",
            "x1= [0.50990491 0.49076376 0.47223654 0.46303221 0.1716155 ]\n",
            "y1= 0.4633170880417319\n",
            "2/2 [==============================] - 0s 27ms/step\n",
            "days= 2023-02-25\n",
            "Normalised current price= 0.4633170880417319\n",
            "Renormalised current price= 23200.125\n",
            "Current price of BTC: (normalised) $ 23200.125\n",
            "Normalised predicted price= [0.4357249]\n",
            "Renormalised predicted price= 22758.367288929603\n"
          ]
        },
        {
          "output_type": "stream",
          "name": "stderr",
          "text": [
            "<__array_function__ internals>:180: VisibleDeprecationWarning: Creating an ndarray from ragged nested sequences (which is a list-or-tuple of lists-or-tuples-or ndarrays with different lengths or shapes) is deprecated. If you meant to do this, you must specify 'dtype=object' when creating the ndarray.\n"
          ]
        },
        {
          "output_type": "display_data",
          "data": {
            "text/plain": [
              "<IPython.core.display.Javascript object>"
            ],
            "application/javascript": [
              "addData(23200.125,22758.367288929603,2023-02-25)"
            ]
          },
          "metadata": {}
        },
        {
          "output_type": "stream",
          "name": "stdout",
          "text": [
            "Predicted future price of BTC: $ 22758.367288929603\n",
            "predicted= 22758.367288929603\n",
            "current= 23200.125\n",
            "Predicted future price does not meet the minimum growth requirement (2.0%) for buy trigger\n",
            "Remaining balance (USD): $ 1048351.6121973248 \n",
            "\n",
            "x1= [0.46331709 0.43490926 0.46296054 0.46161066 0.0753606 ]\n",
            "y1= 0.4616947147083117\n",
            "2/2 [==============================] - 0s 28ms/step\n",
            "days= 2023-02-26\n",
            "Normalised current price= 0.4616947147083117\n",
            "Renormalised current price= 23174.150391\n",
            "Current price of BTC: (normalised) $ 23174.150391\n",
            "Normalised predicted price= [0.44081104]\n",
            "Renormalised predicted price= 22839.79742466477\n"
          ]
        },
        {
          "output_type": "stream",
          "name": "stderr",
          "text": [
            "<__array_function__ internals>:180: VisibleDeprecationWarning: Creating an ndarray from ragged nested sequences (which is a list-or-tuple of lists-or-tuples-or ndarrays with different lengths or shapes) is deprecated. If you meant to do this, you must specify 'dtype=object' when creating the ndarray.\n"
          ]
        },
        {
          "output_type": "display_data",
          "data": {
            "text/plain": [
              "<IPython.core.display.Javascript object>"
            ],
            "application/javascript": [
              "addData(23174.150391,22839.79742466477,2023-02-26)"
            ]
          },
          "metadata": {}
        },
        {
          "output_type": "stream",
          "name": "stdout",
          "text": [
            "Predicted future price of BTC: $ 22839.79742466477\n",
            "predicted= 22839.79742466477\n",
            "current= 23174.150391\n",
            "Predicted future price does not meet the minimum growth requirement (2.0%) for buy trigger\n",
            "Remaining balance (USD): $ 1048351.6121973248 \n",
            "\n",
            "x1= [0.46169471 0.46267455 0.4771545  0.48571796 0.08024759]\n",
            "y1= 0.4858855103852415\n",
            "2/2 [==============================] - 0s 29ms/step\n",
            "days= 2023-02-27\n",
            "Normalised current price= 0.4858855103852415\n",
            "Renormalised current price= 23561.451172\n",
            "Current price of BTC: (normalised) $ 23561.451172\n",
            "Normalised predicted price= [0.44370037]\n",
            "Renormalised predicted price= 22886.05641412654\n"
          ]
        },
        {
          "output_type": "stream",
          "name": "stderr",
          "text": [
            "<__array_function__ internals>:180: VisibleDeprecationWarning: Creating an ndarray from ragged nested sequences (which is a list-or-tuple of lists-or-tuples-or ndarrays with different lengths or shapes) is deprecated. If you meant to do this, you must specify 'dtype=object' when creating the ndarray.\n"
          ]
        },
        {
          "output_type": "display_data",
          "data": {
            "text/plain": [
              "<IPython.core.display.Javascript object>"
            ],
            "application/javascript": [
              "addData(23561.451172,22886.05641412654,2023-02-27)"
            ]
          },
          "metadata": {}
        },
        {
          "output_type": "stream",
          "name": "stdout",
          "text": [
            "Predicted future price of BTC: $ 22886.05641412654\n",
            "predicted= 22886.05641412654\n",
            "current= 23561.451172\n",
            "Predicted future price does not meet the minimum growth requirement (2.0%) for buy trigger\n",
            "Remaining balance (USD): $ 1048351.6121973248 \n",
            "\n",
            "x1= [0.48588551 0.47539729 0.48490979 0.48332235 0.13431259]\n",
            "y1= 0.4834112659897367\n",
            "2/2 [==============================] - 0s 30ms/step\n",
            "days= 2023-02-28\n",
            "Normalised current price= 0.4834112659897367\n",
            "Renormalised current price= 23521.837891\n",
            "Current price of BTC: (normalised) $ 23521.837891\n",
            "Normalised predicted price= [0.44442087]\n",
            "Renormalised predicted price= 22897.591817212953\n"
          ]
        },
        {
          "output_type": "stream",
          "name": "stderr",
          "text": [
            "<__array_function__ internals>:180: VisibleDeprecationWarning: Creating an ndarray from ragged nested sequences (which is a list-or-tuple of lists-or-tuples-or ndarrays with different lengths or shapes) is deprecated. If you meant to do this, you must specify 'dtype=object' when creating the ndarray.\n"
          ]
        },
        {
          "output_type": "display_data",
          "data": {
            "text/plain": [
              "<IPython.core.display.Javascript object>"
            ],
            "application/javascript": [
              "addData(23521.837891,22897.591817212953,2023-02-28)"
            ]
          },
          "metadata": {}
        },
        {
          "output_type": "stream",
          "name": "stdout",
          "text": [
            "Predicted future price of BTC: $ 22897.591817212953\n",
            "predicted= 22897.591817212953\n",
            "current= 23521.837891\n",
            "Predicted future price does not meet the minimum growth requirement (2.0%) for buy trigger\n",
            "Remaining balance (USD): $ 1048351.6121973248 \n",
            "\n",
            "x1= [0.48341127 0.45836229 0.47673566 0.45985987 0.11521263]\n",
            "y1= 0.46024435026469446\n",
            "2/2 [==============================] - 0s 29ms/step\n",
            "days= 2023-03-01\n",
            "Normalised current price= 0.46024435026469446\n",
            "Renormalised current price= 23150.929688\n",
            "Current price of BTC: (normalised) $ 23150.929688\n",
            "Normalised predicted price= [0.44306636]\n",
            "Renormalised predicted price= 22875.905679296113\n"
          ]
        },
        {
          "output_type": "stream",
          "name": "stderr",
          "text": [
            "<__array_function__ internals>:180: VisibleDeprecationWarning: Creating an ndarray from ragged nested sequences (which is a list-or-tuple of lists-or-tuples-or ndarrays with different lengths or shapes) is deprecated. If you meant to do this, you must specify 'dtype=object' when creating the ndarray.\n"
          ]
        },
        {
          "output_type": "display_data",
          "data": {
            "text/plain": [
              "<IPython.core.display.Javascript object>"
            ],
            "application/javascript": [
              "addData(23150.929688,22875.905679296113,2023-03-01)"
            ]
          },
          "metadata": {}
        },
        {
          "output_type": "stream",
          "name": "stdout",
          "text": [
            "Predicted future price of BTC: $ 22875.905679296113\n",
            "predicted= 22875.905679296113\n",
            "current= 23150.929688\n",
            "Predicted future price does not meet the minimum growth requirement (2.0%) for buy trigger\n",
            "Remaining balance (USD): $ 1048351.6121973248 \n",
            "\n",
            "x1= [0.46024435 0.47681896 0.47743538 0.4910499  0.15230432]\n",
            "y1= 0.4912301076350445\n",
            "2/2 [==============================] - 0s 38ms/step\n",
            "days= 2023-03-02\n",
            "Normalised current price= 0.4912301076350445\n",
            "Renormalised current price= 23647.019531\n",
            "Current price of BTC: (normalised) $ 23647.019531\n",
            "Normalised predicted price= [0.4399811]\n",
            "Renormalised predicted price= 22826.509953406065\n"
          ]
        },
        {
          "output_type": "stream",
          "name": "stderr",
          "text": [
            "<__array_function__ internals>:180: VisibleDeprecationWarning: Creating an ndarray from ragged nested sequences (which is a list-or-tuple of lists-or-tuples-or ndarrays with different lengths or shapes) is deprecated. If you meant to do this, you must specify 'dtype=object' when creating the ndarray.\n"
          ]
        },
        {
          "output_type": "display_data",
          "data": {
            "text/plain": [
              "<IPython.core.display.Javascript object>"
            ],
            "application/javascript": [
              "addData(23647.019531,22826.509953406065,2023-03-02)"
            ]
          },
          "metadata": {}
        },
        {
          "output_type": "stream",
          "name": "stdout",
          "text": [
            "Predicted future price of BTC: $ 22826.509953406065\n",
            "predicted= 22826.509953406065\n",
            "current= 23647.019531\n",
            "Predicted future price does not meet the minimum growth requirement (2.0%) for buy trigger\n",
            "Remaining balance (USD): $ 1048351.6121973248 \n",
            "\n",
            "x1= [0.49123011 0.46797382 0.487405   0.48036051 0.11387395]\n",
            "y1= 0.48058775811393506\n",
            "2/2 [==============================] - 0s 32ms/step\n",
            "days= 2023-03-03\n",
            "Normalised current price= 0.48058775811393506\n",
            "Renormalised current price= 23476.632813\n",
            "Current price of BTC: (normalised) $ 23476.632813\n",
            "Normalised predicted price= [0.43559587]\n",
            "Renormalised predicted price= 22756.301260828834\n"
          ]
        },
        {
          "output_type": "stream",
          "name": "stderr",
          "text": [
            "<__array_function__ internals>:180: VisibleDeprecationWarning: Creating an ndarray from ragged nested sequences (which is a list-or-tuple of lists-or-tuples-or ndarrays with different lengths or shapes) is deprecated. If you meant to do this, you must specify 'dtype=object' when creating the ndarray.\n"
          ]
        },
        {
          "output_type": "display_data",
          "data": {
            "text/plain": [
              "<IPython.core.display.Javascript object>"
            ],
            "application/javascript": [
              "addData(23476.632813,22756.301260828834,2023-03-03)"
            ]
          },
          "metadata": {}
        },
        {
          "output_type": "stream",
          "name": "stdout",
          "text": [
            "Predicted future price of BTC: $ 22756.301260828834\n",
            "predicted= 22756.301260828834\n",
            "current= 23476.632813\n",
            "Predicted future price does not meet the minimum growth requirement (2.0%) for buy trigger\n",
            "Remaining balance (USD): $ 1048351.6121973248 \n",
            "\n",
            "x1= [0.48058776 0.45173365 0.42163231 0.41083316 0.16488153]\n",
            "y1= 0.41102552684207083\n",
            "2/2 [==============================] - 0s 46ms/step\n",
            "days= 2023-03-04\n",
            "Normalised current price= 0.41102552684207083\n",
            "Renormalised current price= 22362.923828\n",
            "Current price of BTC: (normalised) $ 22362.923828\n",
            "Normalised predicted price= [0.4298895]\n",
            "Renormalised predicted price= 22664.940830213025\n"
          ]
        },
        {
          "output_type": "stream",
          "name": "stderr",
          "text": [
            "<__array_function__ internals>:180: VisibleDeprecationWarning: Creating an ndarray from ragged nested sequences (which is a list-or-tuple of lists-or-tuples-or ndarrays with different lengths or shapes) is deprecated. If you meant to do this, you must specify 'dtype=object' when creating the ndarray.\n"
          ]
        },
        {
          "output_type": "display_data",
          "data": {
            "text/plain": [
              "<IPython.core.display.Javascript object>"
            ],
            "application/javascript": [
              "addData(22362.923828,22664.940830213025,2023-03-04)"
            ]
          },
          "metadata": {}
        },
        {
          "output_type": "stream",
          "name": "stdout",
          "text": [
            "Predicted future price of BTC: $ 22664.940830213025\n",
            "predicted= 22664.940830213025\n",
            "current= 22362.923828\n",
            "Predicted future price does not meet the minimum growth requirement (2.0%) for buy trigger\n",
            "Remaining balance (USD): $ 1048351.6121973248 \n",
            "\n",
            "x1= [0.41102553 0.38458466 0.42072343 0.41025021 0.03101471]\n",
            "y1= 0.41047717220316304\n",
            "2/2 [==============================] - 0s 37ms/step\n",
            "days= 2023-03-05\n",
            "Normalised current price= 0.41047717220316304\n",
            "Renormalised current price= 22354.144531\n",
            "Current price of BTC: (normalised) $ 22354.144531\n",
            "Normalised predicted price= [0.42301214]\n",
            "Renormalised predicted price= 22554.832506725303\n"
          ]
        },
        {
          "output_type": "stream",
          "name": "stderr",
          "text": [
            "<__array_function__ internals>:180: VisibleDeprecationWarning: Creating an ndarray from ragged nested sequences (which is a list-or-tuple of lists-or-tuples-or ndarrays with different lengths or shapes) is deprecated. If you meant to do this, you must specify 'dtype=object' when creating the ndarray.\n"
          ]
        },
        {
          "output_type": "display_data",
          "data": {
            "text/plain": [
              "<IPython.core.display.Javascript object>"
            ],
            "application/javascript": [
              "addData(22354.144531,22554.832506725303,2023-03-05)"
            ]
          },
          "metadata": {}
        },
        {
          "output_type": "stream",
          "name": "stdout",
          "text": [
            "Predicted future price of BTC: $ 22554.832506725303\n",
            "predicted= 22554.832506725303\n",
            "current= 22354.144531\n",
            "Predicted future price does not meet the minimum growth requirement (2.0%) for buy trigger\n",
            "Remaining balance (USD): $ 1048351.6121973248 \n",
            "\n",
            "x1= [0.41047717 0.397619   0.4276184  0.41538385 0.05034463]\n",
            "y1= 0.4156408551453712\n",
            "2/2 [==============================] - 0s 40ms/step\n",
            "days= 2023-03-06\n",
            "Normalised current price= 0.4156408551453712\n",
            "Renormalised current price= 22436.816406\n",
            "Current price of BTC: (normalised) $ 22436.816406\n",
            "Normalised predicted price= [0.4152907]\n",
            "Renormalised predicted price= 22431.210546316113\n"
          ]
        },
        {
          "output_type": "stream",
          "name": "stderr",
          "text": [
            "<__array_function__ internals>:180: VisibleDeprecationWarning: Creating an ndarray from ragged nested sequences (which is a list-or-tuple of lists-or-tuples-or ndarrays with different lengths or shapes) is deprecated. If you meant to do this, you must specify 'dtype=object' when creating the ndarray.\n"
          ]
        },
        {
          "output_type": "display_data",
          "data": {
            "text/plain": [
              "<IPython.core.display.Javascript object>"
            ],
            "application/javascript": [
              "addData(22436.816406,22431.210546316113,2023-03-06)"
            ]
          },
          "metadata": {}
        },
        {
          "output_type": "stream",
          "name": "stdout",
          "text": [
            "Predicted future price of BTC: $ 22431.210546316113\n",
            "predicted= 22431.210546316113\n",
            "current= 22436.816406\n",
            "Predicted future price does not meet the minimum growth requirement (2.0%) for buy trigger\n",
            "Remaining balance (USD): $ 1048351.6121973248 \n",
            "\n",
            "x1= [0.41564086 0.39578159 0.42915927 0.41502422 0.08661597]\n",
            "y1= 0.4151103114045074\n",
            "2/2 [==============================] - 0s 40ms/step\n",
            "days= 2023-03-07\n",
            "Normalised current price= 0.4151103114045074\n",
            "Renormalised current price= 22428.322266\n",
            "Current price of BTC: (normalised) $ 22428.322266\n",
            "Normalised predicted price= [0.4071017]\n",
            "Renormalised predicted price= 22300.10221618382\n"
          ]
        },
        {
          "output_type": "stream",
          "name": "stderr",
          "text": [
            "<__array_function__ internals>:180: VisibleDeprecationWarning: Creating an ndarray from ragged nested sequences (which is a list-or-tuple of lists-or-tuples-or ndarrays with different lengths or shapes) is deprecated. If you meant to do this, you must specify 'dtype=object' when creating the ndarray.\n"
          ]
        },
        {
          "output_type": "display_data",
          "data": {
            "text/plain": [
              "<IPython.core.display.Javascript object>"
            ],
            "application/javascript": [
              "addData(22428.322266,22300.10221618382,2023-03-07)"
            ]
          },
          "metadata": {}
        },
        {
          "output_type": "stream",
          "name": "stdout",
          "text": [
            "Predicted future price of BTC: $ 22300.10221618382\n",
            "predicted= 22300.10221618382\n",
            "current= 22428.322266\n",
            "Predicted future price does not meet the minimum growth requirement (2.0%) for buy trigger\n",
            "Remaining balance (USD): $ 1048351.6121973248 \n",
            "\n",
            "x1= [0.41511031 0.3922262  0.40875699 0.40190408 0.13525338]\n",
            "y1= 0.4018762389637598\n",
            "2/2 [==============================] - 0s 36ms/step\n",
            "days= 2023-03-08\n",
            "Normalised current price= 0.4018762389637598\n",
            "Renormalised current price= 22216.441406\n",
            "Current price of BTC: (normalised) $ 22216.441406\n",
            "Normalised predicted price= [0.39867395]\n",
            "Renormalised predicted price= 22165.171972636475\n"
          ]
        },
        {
          "output_type": "stream",
          "name": "stderr",
          "text": [
            "<__array_function__ internals>:180: VisibleDeprecationWarning: Creating an ndarray from ragged nested sequences (which is a list-or-tuple of lists-or-tuples-or ndarrays with different lengths or shapes) is deprecated. If you meant to do this, you must specify 'dtype=object' when creating the ndarray.\n"
          ]
        },
        {
          "output_type": "display_data",
          "data": {
            "text/plain": [
              "<IPython.core.display.Javascript object>"
            ],
            "application/javascript": [
              "addData(22216.441406,22165.171972636475,2023-03-08)"
            ]
          },
          "metadata": {}
        },
        {
          "output_type": "stream",
          "name": "stdout",
          "text": [
            "Predicted future price of BTC: $ 22165.171972636475\n",
            "predicted= 22165.171972636475\n",
            "current= 22216.441406\n",
            "Predicted future price does not meet the minimum growth requirement (2.0%) for buy trigger\n",
            "Remaining balance (USD): $ 1048351.6121973248 \n",
            "\n",
            "x1= [0.40187624 0.37606539 0.38942832 0.37055833 0.13319658]\n",
            "y1= 0.3708735246480934\n",
            "2/2 [==============================] - 0s 43ms/step\n",
            "days= 2023-03-09\n",
            "Normalised current price= 0.3708735246480934\n",
            "Renormalised current price= 21720.080078\n",
            "Current price of BTC: (normalised) $ 21720.080078\n",
            "Normalised predicted price= [0.39008135]\n",
            "Renormalised predicted price= 22027.602175404736\n"
          ]
        },
        {
          "output_type": "stream",
          "name": "stderr",
          "text": [
            "<__array_function__ internals>:180: VisibleDeprecationWarning: Creating an ndarray from ragged nested sequences (which is a list-or-tuple of lists-or-tuples-or ndarrays with different lengths or shapes) is deprecated. If you meant to do this, you must specify 'dtype=object' when creating the ndarray.\n"
          ]
        },
        {
          "output_type": "display_data",
          "data": {
            "text/plain": [
              "<IPython.core.display.Javascript object>"
            ],
            "application/javascript": [
              "addData(21720.080078,22027.602175404736,2023-03-09)"
            ]
          },
          "metadata": {}
        },
        {
          "output_type": "stream",
          "name": "stdout",
          "text": [
            "Predicted future price of BTC: $ 22027.602175404736\n",
            "predicted= 22027.602175404736\n",
            "current= 21720.080078\n",
            "Predicted future price does not meet the minimum growth requirement (2.0%) for buy trigger\n",
            "Remaining balance (USD): $ 1048351.6121973248 \n",
            "\n",
            "x1= [0.37087352 0.34692336 0.2939522  0.28589377 0.2035439 ]\n",
            "y1= 0.28636030375480037\n",
            "2/2 [==============================] - 0s 37ms/step\n",
            "days= 2023-03-10\n",
            "Normalised current price= 0.28636030375480037\n",
            "Renormalised current price= 20367.001953\n",
            "Current price of BTC: (normalised) $ 20367.001953\n",
            "Normalised predicted price= [0.38074815]\n",
            "Renormalised predicted price= 21878.17538087413\n"
          ]
        },
        {
          "output_type": "stream",
          "name": "stderr",
          "text": [
            "<__array_function__ internals>:180: VisibleDeprecationWarning: Creating an ndarray from ragged nested sequences (which is a list-or-tuple of lists-or-tuples-or ndarrays with different lengths or shapes) is deprecated. If you meant to do this, you must specify 'dtype=object' when creating the ndarray.\n"
          ]
        },
        {
          "output_type": "display_data",
          "data": {
            "text/plain": [
              "<IPython.core.display.Javascript object>"
            ],
            "application/javascript": [
              "addData(20367.001953,21878.17538087413,2023-03-10)"
            ]
          },
          "metadata": {}
        },
        {
          "output_type": "stream",
          "name": "stdout",
          "text": [
            "Predicted future price of BTC: $ 21878.17538087413\n",
            "predicted= 21878.17538087413\n",
            "current= 20367.001953\n",
            "New buy order placed: Transaction ID: 28d456f4-a79c-41d2-b872-314b6487012a, Transaction Type: TransactionTypes.BUY, Price: 20367.001953, Amount: 1048351.6121973248 BTC, Volume: 51.47304520402943, Profit/Loss: Predicted future growth, Transaction Trigger: None\n",
            "Remaining balance (USD): $ 0.0 \n",
            "\n",
            "x1= [0.2863603  0.25739797 0.25684831 0.27491113 0.28634211]\n",
            "y1= 0.27517216139050693\n",
            "2/2 [==============================] - 0s 39ms/step\n",
            "days= 2023-03-11\n",
            "Normalised current price= 0.27517216139050693\n",
            "Renormalised current price= 20187.876953\n",
            "Current price of BTC: (normalised) $ 20187.876953\n",
            "Normalised predicted price= [0.3697245]\n",
            "Renormalised predicted price= 21701.68409536621\n"
          ]
        },
        {
          "output_type": "stream",
          "name": "stderr",
          "text": [
            "<__array_function__ internals>:180: VisibleDeprecationWarning: Creating an ndarray from ragged nested sequences (which is a list-or-tuple of lists-or-tuples-or ndarrays with different lengths or shapes) is deprecated. If you meant to do this, you must specify 'dtype=object' when creating the ndarray.\n"
          ]
        },
        {
          "output_type": "display_data",
          "data": {
            "text/plain": [
              "<IPython.core.display.Javascript object>"
            ],
            "application/javascript": [
              "addData(20187.876953,21701.68409536621,2023-03-11)"
            ]
          },
          "metadata": {}
        },
        {
          "output_type": "stream",
          "name": "stdout",
          "text": [
            "Predicted future price of BTC: $ 21701.68409536621\n",
            "Waiting for price to reach sell threshold\n",
            "Remaining balance (USD): $ 0.0 \n",
            "\n",
            "x1= [0.27517216 0.28377383 0.28492272 0.30272527 0.201887  ]\n",
            "y1= 0.30266406417710545\n",
            "2/2 [==============================] - 0s 39ms/step\n",
            "days= 2023-03-12\n",
            "Normalised current price= 0.30266406417710545\n",
            "Renormalised current price= 20628.029297\n",
            "Current price of BTC: (normalised) $ 20628.029297\n",
            "Normalised predicted price= [0.3567924]\n",
            "Renormalised predicted price= 21494.637542533354\n"
          ]
        },
        {
          "output_type": "stream",
          "name": "stderr",
          "text": [
            "<__array_function__ internals>:180: VisibleDeprecationWarning: Creating an ndarray from ragged nested sequences (which is a list-or-tuple of lists-or-tuples-or ndarrays with different lengths or shapes) is deprecated. If you meant to do this, you must specify 'dtype=object' when creating the ndarray.\n"
          ]
        },
        {
          "output_type": "display_data",
          "data": {
            "text/plain": [
              "<IPython.core.display.Javascript object>"
            ],
            "application/javascript": [
              "addData(20628.029297,21494.637542533354,2023-03-12)"
            ]
          },
          "metadata": {}
        },
        {
          "output_type": "stream",
          "name": "stdout",
          "text": [
            "Predicted future price of BTC: $ 21494.637542533354\n",
            "Waiting for price to reach sell threshold\n",
            "Remaining balance (USD): $ 0.0 \n",
            "\n",
            "x1= [0.30266406 0.37082277 0.30915577 0.3984164  0.19378787]\n",
            "y1= 0.39812644484127224\n",
            "2/2 [==============================] - 0s 47ms/step\n",
            "days= 2023-03-13\n",
            "Normalised current price= 0.39812644484127224\n",
            "Renormalised current price= 22156.40625\n",
            "Current price of BTC: (normalised) $ 22156.40625\n",
            "Normalised predicted price= [0.34299237]\n",
            "Renormalised predicted price= 21273.695638580273\n"
          ]
        },
        {
          "output_type": "stream",
          "name": "stderr",
          "text": [
            "<__array_function__ internals>:180: VisibleDeprecationWarning: Creating an ndarray from ragged nested sequences (which is a list-or-tuple of lists-or-tuples-or ndarrays with different lengths or shapes) is deprecated. If you meant to do this, you must specify 'dtype=object' when creating the ndarray.\n"
          ]
        },
        {
          "output_type": "display_data",
          "data": {
            "text/plain": [
              "<IPython.core.display.Javascript object>"
            ],
            "application/javascript": [
              "addData(22156.40625,21273.695638580273,2023-03-13)"
            ]
          },
          "metadata": {}
        },
        {
          "output_type": "stream",
          "name": "stdout",
          "text": [
            "Predicted future price of BTC: $ 21273.695638580273\n",
            "Waiting for price to reach sell threshold\n",
            "Remaining balance (USD): $ 0.0 \n",
            "\n",
            "x1= [0.39812644 0.51871512 0.40282457 0.52547549 0.37520182]\n",
            "y1= 0.5258795327611165\n",
            "2/2 [==============================] - 0s 42ms/step\n",
            "days= 2023-03-14\n",
            "Normalised current price= 0.5258795327611165\n",
            "Renormalised current price= 24201.765625\n",
            "Current price of BTC: (normalised) $ 24201.765625\n",
            "Normalised predicted price= [0.32990986]\n",
            "Renormalised predicted price= 21064.24142343876\n"
          ]
        },
        {
          "output_type": "stream",
          "name": "stderr",
          "text": [
            "<__array_function__ internals>:180: VisibleDeprecationWarning: Creating an ndarray from ragged nested sequences (which is a list-or-tuple of lists-or-tuples-or ndarrays with different lengths or shapes) is deprecated. If you meant to do this, you must specify 'dtype=object' when creating the ndarray.\n"
          ]
        },
        {
          "output_type": "display_data",
          "data": {
            "text/plain": [
              "<IPython.core.display.Javascript object>"
            ],
            "application/javascript": [
              "addData(24201.765625,21064.24142343876,2023-03-14)"
            ]
          },
          "metadata": {}
        },
        {
          "output_type": "stream",
          "name": "stdout",
          "text": [
            "Predicted future price of BTC: $ 21064.24142343876\n",
            "New sell order placed: Transaction ID: 97597210-ea3c-4b07-9005-21c618c09a1d, Transaction Type: TransactionTypes.SELL, Price: 24201.765625, Amount: 1245738.5760329505 BTC, Volume: 51.47304520402943, Profit/Loss: 197386.96383562594, Transaction Trigger: Investment goal reached\n",
            "Sell order fulfilled. Profit: $ 197386.96383562594\n",
            "Investment goal reached! Stop trading.\n",
            "Remaining balance (USD): $ 1245738.5760329505 \n",
            "\n",
            "x1= [0.52587953 0.64148199 0.54070751 0.55974853 0.42153517]\n",
            "y1= 0.5614292597864421\n",
            "2/2 [==============================] - 0s 60ms/step\n",
            "days= 2023-03-15\n",
            "Normalised current price= 0.5614292597864421\n",
            "Renormalised current price= 24770.925781\n",
            "Current price of BTC: (normalised) $ 24770.925781\n",
            "Normalised predicted price= [0.3194378]\n",
            "Renormalised predicted price= 20896.581095919068\n"
          ]
        },
        {
          "output_type": "stream",
          "name": "stderr",
          "text": [
            "<__array_function__ internals>:180: VisibleDeprecationWarning: Creating an ndarray from ragged nested sequences (which is a list-or-tuple of lists-or-tuples-or ndarrays with different lengths or shapes) is deprecated. If you meant to do this, you must specify 'dtype=object' when creating the ndarray.\n"
          ]
        },
        {
          "output_type": "display_data",
          "data": {
            "text/plain": [
              "<IPython.core.display.Javascript object>"
            ],
            "application/javascript": [
              "addData(24770.925781,20896.581095919068,2023-03-15)"
            ]
          },
          "metadata": {}
        },
        {
          "output_type": "stream",
          "name": "stdout",
          "text": [
            "Predicted future price of BTC: $ 20896.581095919068\n",
            "predicted= 20896.581095919068\n",
            "current= 24770.925781\n",
            "Predicted future price does not meet the minimum growth requirement (2.0%) for buy trigger\n",
            "Investment goal reached! Stop trading.\n",
            "Remaining balance (USD): $ 1245738.5760329505 \n",
            "\n",
            "x1= [0.56142926 0.56183479 0.53329547 0.53662372 0.32298416]\n",
            "y1= 0.5366033730572992\n",
            "2/2 [==============================] - 0s 49ms/step\n",
            "days= 2023-03-16\n",
            "Normalised current price= 0.5366033730572992\n",
            "Renormalised current price= 24373.457031\n",
            "Current price of BTC: (normalised) $ 24373.457031\n",
            "Normalised predicted price= [0.3129182]\n",
            "Renormalised predicted price= 20792.200393983683\n"
          ]
        },
        {
          "output_type": "stream",
          "name": "stderr",
          "text": [
            "<__array_function__ internals>:180: VisibleDeprecationWarning: Creating an ndarray from ragged nested sequences (which is a list-or-tuple of lists-or-tuples-or ndarrays with different lengths or shapes) is deprecated. If you meant to do this, you must specify 'dtype=object' when creating the ndarray.\n"
          ]
        },
        {
          "output_type": "display_data",
          "data": {
            "text/plain": [
              "<IPython.core.display.Javascript object>"
            ],
            "application/javascript": [
              "addData(24373.457031,20792.200393983683,2023-03-16)"
            ]
          },
          "metadata": {}
        },
        {
          "output_type": "stream",
          "name": "stdout",
          "text": [
            "Predicted future price of BTC: $ 20792.200393983683\n",
            "predicted= 20792.200393983683\n",
            "current= 24373.457031\n",
            "Predicted future price does not meet the minimum growth requirement (2.0%) for buy trigger\n",
            "Investment goal reached! Stop trading.\n",
            "Remaining balance (USD): $ 1245738.5760329505 \n",
            "\n",
            "x1= [0.53660337 0.55869109 0.54988241 0.57891219 0.23500931]\n",
            "y1= 0.5791802128725603\n",
            "2/2 [==============================] - 0s 55ms/step\n",
            "days= 2023-03-17\n",
            "Normalised current price= 0.5791802128725603\n",
            "Renormalised current price= 25055.123047\n",
            "Current price of BTC: (normalised) $ 25055.123047\n",
            "Normalised predicted price= [0.31141078]\n",
            "Renormalised predicted price= 20768.06651376732\n"
          ]
        },
        {
          "output_type": "stream",
          "name": "stderr",
          "text": [
            "<__array_function__ internals>:180: VisibleDeprecationWarning: Creating an ndarray from ragged nested sequences (which is a list-or-tuple of lists-or-tuples-or ndarrays with different lengths or shapes) is deprecated. If you meant to do this, you must specify 'dtype=object' when creating the ndarray.\n"
          ]
        },
        {
          "output_type": "display_data",
          "data": {
            "text/plain": [
              "<IPython.core.display.Javascript object>"
            ],
            "application/javascript": [
              "addData(25055.123047,20768.06651376732,2023-03-17)"
            ]
          },
          "metadata": {}
        },
        {
          "output_type": "stream",
          "name": "stdout",
          "text": [
            "Predicted future price of BTC: $ 20768.06651376732\n",
            "predicted= 20768.06651376732\n",
            "current= 25055.123047\n",
            "Predicted future price does not meet the minimum growth requirement (2.0%) for buy trigger\n",
            "Investment goal reached! Stop trading.\n",
            "Remaining balance (USD): $ 1245738.5760329505 \n",
            "\n",
            "x1= [0.57918021 0.72106631 0.59642118 0.72706194 0.38655988]\n",
            "y1= 0.7286465583097015\n",
            "2/2 [==============================] - 0s 57ms/step\n",
            "days= 2023-03-18\n",
            "Normalised current price= 0.7286465583097015\n",
            "Renormalised current price= 27448.117188\n",
            "Current price of BTC: (normalised) $ 27448.117188\n",
            "Normalised predicted price= [0.3157158]\n",
            "Renormalised predicted price= 20836.99073806574\n"
          ]
        },
        {
          "output_type": "stream",
          "name": "stderr",
          "text": [
            "<__array_function__ internals>:180: VisibleDeprecationWarning: Creating an ndarray from ragged nested sequences (which is a list-or-tuple of lists-or-tuples-or ndarrays with different lengths or shapes) is deprecated. If you meant to do this, you must specify 'dtype=object' when creating the ndarray.\n"
          ]
        },
        {
          "output_type": "display_data",
          "data": {
            "text/plain": [
              "<IPython.core.display.Javascript object>"
            ],
            "application/javascript": [
              "addData(27448.117188,20836.99073806574,2023-03-18)"
            ]
          },
          "metadata": {}
        },
        {
          "output_type": "stream",
          "name": "stdout",
          "text": [
            "Predicted future price of BTC: $ 20836.99073806574\n",
            "predicted= 20836.99073806574\n",
            "current= 27448.117188\n",
            "Predicted future price does not meet the minimum growth requirement (2.0%) for buy trigger\n",
            "Investment goal reached! Stop trading.\n",
            "Remaining balance (USD): $ 1245738.5760329505 \n",
            "\n",
            "x1= [0.72864656 0.71719933 0.70358509 0.69844276 0.25169706]\n",
            "y1= 0.6987523864383396\n",
            "2/2 [==============================] - 0s 63ms/step\n",
            "days= 2023-03-19\n",
            "Normalised current price= 0.6987523864383396\n",
            "Renormalised current price= 26969.503906\n",
            "Current price of BTC: (normalised) $ 26969.503906\n",
            "Normalised predicted price= [0.32627654]\n",
            "Renormalised predicted price= 21006.071042404805\n"
          ]
        },
        {
          "output_type": "stream",
          "name": "stderr",
          "text": [
            "<__array_function__ internals>:180: VisibleDeprecationWarning: Creating an ndarray from ragged nested sequences (which is a list-or-tuple of lists-or-tuples-or ndarrays with different lengths or shapes) is deprecated. If you meant to do this, you must specify 'dtype=object' when creating the ndarray.\n"
          ]
        },
        {
          "output_type": "display_data",
          "data": {
            "text/plain": [
              "<IPython.core.display.Javascript object>"
            ],
            "application/javascript": [
              "addData(26969.503906,21006.071042404805,2023-03-19)"
            ]
          },
          "metadata": {}
        },
        {
          "output_type": "stream",
          "name": "stdout",
          "text": [
            "Predicted future price of BTC: $ 21006.071042404805\n",
            "predicted= 21006.071042404805\n",
            "current= 26969.503906\n",
            "Predicted future price does not meet the minimum growth requirement (2.0%) for buy trigger\n",
            "Investment goal reached! Stop trading.\n",
            "Remaining balance (USD): $ 1245738.5760329505 \n",
            "\n",
            "x1= [0.69875239 0.76187118 0.72088943 0.7654715  0.2700872 ]\n",
            "y1= 0.7657155753563654\n",
            "2/2 [==============================] - 0s 70ms/step\n",
            "days= 2023-03-20\n",
            "Normalised current price= 0.7657155753563654\n",
            "Renormalised current price= 28041.601563\n",
            "Current price of BTC: (normalised) $ 28041.601563\n",
            "Normalised predicted price= [0.34305024]\n",
            "Renormalised predicted price= 21274.622249797754\n"
          ]
        },
        {
          "output_type": "stream",
          "name": "stderr",
          "text": [
            "<__array_function__ internals>:180: VisibleDeprecationWarning: Creating an ndarray from ragged nested sequences (which is a list-or-tuple of lists-or-tuples-or ndarrays with different lengths or shapes) is deprecated. If you meant to do this, you must specify 'dtype=object' when creating the ndarray.\n"
          ]
        },
        {
          "output_type": "display_data",
          "data": {
            "text/plain": [
              "<IPython.core.display.Javascript object>"
            ],
            "application/javascript": [
              "addData(28041.601563,21274.622249797754,2023-03-20)"
            ]
          },
          "metadata": {}
        },
        {
          "output_type": "stream",
          "name": "stdout",
          "text": [
            "Predicted future price of BTC: $ 21274.622249797754\n",
            "predicted= 21274.622249797754\n",
            "current= 28041.601563\n",
            "Predicted future price does not meet the minimum growth requirement (2.0%) for buy trigger\n",
            "Investment goal reached! Stop trading.\n",
            "Remaining balance (USD): $ 1245738.5760329505 \n",
            "\n",
            "x1= [0.76571558 0.76732002 0.742255   0.74851187 0.33303403]\n",
            "y1= 0.7486509499864611\n",
            "2/2 [==============================] - 0s 55ms/step\n",
            "days= 2023-03-21\n",
            "Normalised current price= 0.7486509499864611\n",
            "Renormalised current price= 27768.392578\n",
            "Current price of BTC: (normalised) $ 27768.392578\n",
            "Normalised predicted price= [0.36526078]\n",
            "Renormalised predicted price= 21630.218608789575\n"
          ]
        },
        {
          "output_type": "stream",
          "name": "stderr",
          "text": [
            "<__array_function__ internals>:180: VisibleDeprecationWarning: Creating an ndarray from ragged nested sequences (which is a list-or-tuple of lists-or-tuples-or ndarrays with different lengths or shapes) is deprecated. If you meant to do this, you must specify 'dtype=object' when creating the ndarray.\n"
          ]
        },
        {
          "output_type": "display_data",
          "data": {
            "text/plain": [
              "<IPython.core.display.Javascript object>"
            ],
            "application/javascript": [
              "addData(27768.392578,21630.218608789575,2023-03-21)"
            ]
          },
          "metadata": {}
        },
        {
          "output_type": "stream",
          "name": "stdout",
          "text": [
            "Predicted future price of BTC: $ 21630.218608789575\n",
            "predicted= 21630.218608789575\n",
            "current= 27768.392578\n",
            "Predicted future price does not meet the minimum growth requirement (2.0%) for buy trigger\n",
            "Investment goal reached! Stop trading.\n",
            "Remaining balance (USD): $ 1245738.5760329505 \n",
            "\n",
            "x1= [0.74865095 0.76180879 0.75479815 0.7740401  0.25510436]\n",
            "y1= 0.7730308334828333\n",
            "2/2 [==============================] - 0s 57ms/step\n",
            "days= 2023-03-22\n",
            "Normalised current price= 0.7730308334828333\n",
            "Renormalised current price= 28158.720703\n",
            "Current price of BTC: (normalised) $ 28158.720703\n",
            "Normalised predicted price= [0.39164102]\n",
            "Renormalised predicted price= 22052.572964001873\n"
          ]
        },
        {
          "output_type": "stream",
          "name": "stderr",
          "text": [
            "<__array_function__ internals>:180: VisibleDeprecationWarning: Creating an ndarray from ragged nested sequences (which is a list-or-tuple of lists-or-tuples-or ndarrays with different lengths or shapes) is deprecated. If you meant to do this, you must specify 'dtype=object' when creating the ndarray.\n"
          ]
        },
        {
          "output_type": "display_data",
          "data": {
            "text/plain": [
              "<IPython.core.display.Javascript object>"
            ],
            "application/javascript": [
              "addData(28158.720703,22052.572964001873,2023-03-22)"
            ]
          },
          "metadata": {}
        },
        {
          "output_type": "stream",
          "name": "stdout",
          "text": [
            "Predicted future price of BTC: $ 22052.572964001873\n",
            "predicted= 22052.572964001873\n",
            "current= 28158.720703\n",
            "Predicted future price does not meet the minimum growth requirement (2.0%) for buy trigger\n",
            "Investment goal reached! Stop trading.\n",
            "Remaining balance (USD): $ 1245738.5760329505 \n",
            "\n",
            "x1= [0.77303083 0.78454916 0.71147273 0.71978346 0.23065947]\n",
            "y1= 0.7195173990940507\n",
            "2/2 [==============================] - 0s 59ms/step\n",
            "days= 2023-03-23\n",
            "Normalised current price= 0.7195173990940507\n",
            "Renormalised current price= 27301.957031\n",
            "Current price of BTC: (normalised) $ 27301.957031\n",
            "Normalised predicted price= [0.4203213]\n",
            "Renormalised predicted price= 22511.751287968178\n"
          ]
        },
        {
          "output_type": "stream",
          "name": "stderr",
          "text": [
            "<__array_function__ internals>:180: VisibleDeprecationWarning: Creating an ndarray from ragged nested sequences (which is a list-or-tuple of lists-or-tuples-or ndarrays with different lengths or shapes) is deprecated. If you meant to do this, you must specify 'dtype=object' when creating the ndarray.\n"
          ]
        },
        {
          "output_type": "display_data",
          "data": {
            "text/plain": [
              "<IPython.core.display.Javascript object>"
            ],
            "application/javascript": [
              "addData(27301.957031,22511.751287968178,2023-03-23)"
            ]
          },
          "metadata": {}
        },
        {
          "output_type": "stream",
          "name": "stdout",
          "text": [
            "Predicted future price of BTC: $ 22511.751287968178\n",
            "predicted= 22511.751287968178\n",
            "current= 27301.957031\n",
            "Predicted future price does not meet the minimum growth requirement (2.0%) for buy trigger\n",
            "Investment goal reached! Stop trading.\n",
            "Remaining balance (USD): $ 1245738.5760329505 \n",
            "\n",
            "x1= [0.7195174  0.77995498 0.73846096 0.78392176 0.14832861]\n",
            "y1= 0.783361127178406\n",
            "2/2 [==============================] - 0s 56ms/step\n",
            "days= 2023-03-24\n",
            "Normalised current price= 0.783361127178406\n",
            "Renormalised current price= 28324.111328\n",
            "Current price of BTC: (normalised) $ 28324.111328\n",
            "Normalised predicted price= [0.44938356]\n",
            "Renormalised predicted price= 22977.04562768406\n"
          ]
        },
        {
          "output_type": "stream",
          "name": "stderr",
          "text": [
            "<__array_function__ internals>:180: VisibleDeprecationWarning: Creating an ndarray from ragged nested sequences (which is a list-or-tuple of lists-or-tuples-or ndarrays with different lengths or shapes) is deprecated. If you meant to do this, you must specify 'dtype=object' when creating the ndarray.\n"
          ]
        },
        {
          "output_type": "display_data",
          "data": {
            "text/plain": [
              "<IPython.core.display.Javascript object>"
            ],
            "application/javascript": [
              "addData(28324.111328,22977.04562768406,2023-03-24)"
            ]
          },
          "metadata": {}
        },
        {
          "output_type": "stream",
          "name": "stdout",
          "text": [
            "Predicted future price of BTC: $ 22977.04562768406\n",
            "predicted= 22977.04562768406\n",
            "current= 28324.111328\n",
            "Predicted future price does not meet the minimum growth requirement (2.0%) for buy trigger\n",
            "Investment goal reached! Stop trading.\n",
            "Remaining balance (USD): $ 1245738.5760329505 \n",
            "\n",
            "x1= [0.78336113 0.75861284 0.72927522 0.73139529 0.1641438 ]\n",
            "y1= 0.7310962822945815\n",
            "3/3 [==============================] - 0s 39ms/step\n",
            "days= 2023-03-25\n",
            "Normalised current price= 0.7310962822945815\n",
            "Renormalised current price= 27487.337891\n",
            "Current price of BTC: (normalised) $ 27487.337891\n",
            "Normalised predicted price= [0.4767825]\n",
            "Renormalised predicted price= 23415.70967632371\n"
          ]
        },
        {
          "output_type": "stream",
          "name": "stderr",
          "text": [
            "<__array_function__ internals>:180: VisibleDeprecationWarning: Creating an ndarray from ragged nested sequences (which is a list-or-tuple of lists-or-tuples-or ndarrays with different lengths or shapes) is deprecated. If you meant to do this, you must specify 'dtype=object' when creating the ndarray.\n"
          ]
        },
        {
          "output_type": "display_data",
          "data": {
            "text/plain": [
              "<IPython.core.display.Javascript object>"
            ],
            "application/javascript": [
              "addData(27487.337891,23415.70967632371,2023-03-25)"
            ]
          },
          "metadata": {}
        },
        {
          "output_type": "stream",
          "name": "stdout",
          "text": [
            "Predicted future price of BTC: $ 23415.70967632371\n",
            "predicted= 23415.70967632371\n",
            "current= 27487.337891\n",
            "Predicted future price does not meet the minimum growth requirement (2.0%) for buy trigger\n",
            "Investment goal reached! Stop trading.\n",
            "Remaining balance (USD): $ 1245738.5760329505 \n",
            "\n",
            "x1= [0.73109628 0.72131721 0.73928145 0.73148413 0.05093778]\n",
            "y1= 0.7316075513255131\n",
            "3/3 [==============================] - 0s 41ms/step\n",
            "days= 2023-03-26\n",
            "Normalised current price= 0.7316075513255131\n",
            "Renormalised current price= 27495.523438\n",
            "Current price of BTC: (normalised) $ 27495.523438\n",
            "Normalised predicted price= [0.50050366]\n",
            "Renormalised predicted price= 23795.491446948727\n"
          ]
        },
        {
          "output_type": "stream",
          "name": "stderr",
          "text": [
            "<__array_function__ internals>:180: VisibleDeprecationWarning: Creating an ndarray from ragged nested sequences (which is a list-or-tuple of lists-or-tuples-or ndarrays with different lengths or shapes) is deprecated. If you meant to do this, you must specify 'dtype=object' when creating the ndarray.\n"
          ]
        },
        {
          "output_type": "display_data",
          "data": {
            "text/plain": [
              "<IPython.core.display.Javascript object>"
            ],
            "application/javascript": [
              "addData(27495.523438,23795.491446948727,2023-03-26)"
            ]
          },
          "metadata": {}
        },
        {
          "output_type": "stream",
          "name": "stdout",
          "text": [
            "Predicted future price of BTC: $ 23795.491446948727\n",
            "predicted= 23795.491446948727\n",
            "current= 27495.523438\n",
            "Predicted future price does not meet the minimum growth requirement (2.0%) for buy trigger\n",
            "Investment goal reached! Stop trading.\n",
            "Remaining balance (USD): $ 1245738.5760329505 \n",
            "\n",
            "x1= [0.73160755 0.74546692 0.7551424  0.76270077 0.05538932]\n",
            "y1= 0.7627466527973534\n",
            "3/3 [==============================] - 0s 42ms/step\n",
            "days= 2023-03-27\n",
            "Normalised current price= 0.7627466527973534\n",
            "Renormalised current price= 27994.068359\n",
            "Current price of BTC: (normalised) $ 27994.068359\n",
            "Normalised predicted price= [0.519039]\n",
            "Renormalised predicted price= 24092.246562202276\n"
          ]
        },
        {
          "output_type": "stream",
          "name": "stderr",
          "text": [
            "<__array_function__ internals>:180: VisibleDeprecationWarning: Creating an ndarray from ragged nested sequences (which is a list-or-tuple of lists-or-tuples-or ndarrays with different lengths or shapes) is deprecated. If you meant to do this, you must specify 'dtype=object' when creating the ndarray.\n"
          ]
        },
        {
          "output_type": "display_data",
          "data": {
            "text/plain": [
              "<IPython.core.display.Javascript object>"
            ],
            "application/javascript": [
              "addData(27994.068359,24092.246562202276,2023-03-27)"
            ]
          },
          "metadata": {}
        },
        {
          "output_type": "stream",
          "name": "stdout",
          "text": [
            "Predicted future price of BTC: $ 24092.246562202276\n",
            "predicted= 24092.246562202276\n",
            "current= 27994.068359\n",
            "Predicted future price does not meet the minimum growth requirement (2.0%) for buy trigger\n",
            "Investment goal reached! Stop trading.\n",
            "Remaining balance (USD): $ 1245738.5760329505 \n",
            "\n",
            "x1= [0.76274665 0.7367015  0.70169996 0.70931495 0.09412603]\n",
            "y1= 0.7089573942382825\n",
            "3/3 [==============================] - 0s 43ms/step\n",
            "days= 2023-03-28\n",
            "Normalised current price= 0.7089573942382825\n",
            "Renormalised current price= 27132.888672\n",
            "Current price of BTC: (normalised) $ 27132.888672\n",
            "Normalised predicted price= [0.53116465]\n",
            "Renormalised predicted price= 24286.381632262204\n"
          ]
        },
        {
          "output_type": "stream",
          "name": "stderr",
          "text": [
            "<__array_function__ internals>:180: VisibleDeprecationWarning: Creating an ndarray from ragged nested sequences (which is a list-or-tuple of lists-or-tuples-or ndarrays with different lengths or shapes) is deprecated. If you meant to do this, you must specify 'dtype=object' when creating the ndarray.\n"
          ]
        },
        {
          "output_type": "display_data",
          "data": {
            "text/plain": [
              "<IPython.core.display.Javascript object>"
            ],
            "application/javascript": [
              "addData(27132.888672,24286.381632262204,2023-03-28)"
            ]
          },
          "metadata": {}
        },
        {
          "output_type": "stream",
          "name": "stdout",
          "text": [
            "Predicted future price of BTC: $ 24286.381632262204\n",
            "predicted= 24286.381632262204\n",
            "current= 27132.888672\n",
            "Predicted future price does not meet the minimum growth requirement (2.0%) for buy trigger\n",
            "Investment goal reached! Stop trading.\n",
            "Remaining balance (USD): $ 1245738.5760329505 \n",
            "\n",
            "x1= [0.70895739 0.70061888 0.70623418 0.71732757 0.09048384]\n",
            "y1= 0.7173359358141502\n",
            "3/3 [==============================] - 0s 44ms/step\n",
            "days= 2023-03-29\n",
            "Normalised current price= 0.7173359358141502\n",
            "Renormalised current price= 27267.03125\n",
            "Current price of BTC: (normalised) $ 27267.03125\n",
            "Normalised predicted price= [0.5359648]\n",
            "Renormalised predicted price= 24363.23310618329\n"
          ]
        },
        {
          "output_type": "stream",
          "name": "stderr",
          "text": [
            "<__array_function__ internals>:180: VisibleDeprecationWarning: Creating an ndarray from ragged nested sequences (which is a list-or-tuple of lists-or-tuples-or ndarrays with different lengths or shapes) is deprecated. If you meant to do this, you must specify 'dtype=object' when creating the ndarray.\n"
          ]
        },
        {
          "output_type": "display_data",
          "data": {
            "text/plain": [
              "<IPython.core.display.Javascript object>"
            ],
            "application/javascript": [
              "addData(27267.03125,24363.23310618329,2023-03-29)"
            ]
          },
          "metadata": {}
        },
        {
          "output_type": "stream",
          "name": "stdout",
          "text": [
            "Predicted future price of BTC: $ 24363.23310618329\n",
            "predicted= 24363.23310618329\n",
            "current= 27267.03125\n",
            "Predicted future price does not meet the minimum growth requirement (2.0%) for buy trigger\n",
            "Investment goal reached! Stop trading.\n",
            "Remaining balance (USD): $ 1245738.5760329505 \n",
            "\n",
            "x1= [0.71733594 0.77305981 0.74332475 0.78482578 0.11655686]\n",
            "y1= 0.7849869163227381\n",
            "3/3 [==============================] - 0s 45ms/step\n",
            "days= 2023-03-30\n",
            "Normalised current price= 0.7849869163227381\n",
            "Renormalised current price= 28350.140625\n",
            "Current price of BTC: (normalised) $ 28350.140625\n",
            "Normalised predicted price= [0.5334694]\n",
            "Renormalised predicted price= 24323.28098957047\n"
          ]
        },
        {
          "output_type": "stream",
          "name": "stderr",
          "text": [
            "<__array_function__ internals>:180: VisibleDeprecationWarning: Creating an ndarray from ragged nested sequences (which is a list-or-tuple of lists-or-tuples-or ndarrays with different lengths or shapes) is deprecated. If you meant to do this, you must specify 'dtype=object' when creating the ndarray.\n"
          ]
        },
        {
          "output_type": "display_data",
          "data": {
            "text/plain": [
              "<IPython.core.display.Javascript object>"
            ],
            "application/javascript": [
              "addData(28350.140625,24323.28098957047,2023-03-30)"
            ]
          },
          "metadata": {}
        },
        {
          "output_type": "stream",
          "name": "stdout",
          "text": [
            "Predicted future price of BTC: $ 24323.28098957047\n",
            "predicted= 24323.28098957047\n",
            "current= 28350.140625\n",
            "Predicted future price does not meet the minimum growth requirement (2.0%) for buy trigger\n",
            "Investment goal reached! Stop trading.\n",
            "Remaining balance (USD): $ 1245738.5760329505 \n",
            "\n",
            "x1= [0.78498692 0.806839   0.77267994 0.76515202 0.13228691]\n",
            "y1= 0.7651322089679085\n",
            "3/3 [==============================] - 0s 49ms/step\n",
            "days= 2023-03-31\n",
            "Normalised current price= 0.7651322089679085\n",
            "Renormalised current price= 28032.261719\n",
            "Current price of BTC: (normalised) $ 28032.261719\n",
            "Normalised predicted price= [0.5244622]\n",
            "Renormalised predicted price= 24179.074136707855\n"
          ]
        },
        {
          "output_type": "stream",
          "name": "stderr",
          "text": [
            "<__array_function__ internals>:180: VisibleDeprecationWarning: Creating an ndarray from ragged nested sequences (which is a list-or-tuple of lists-or-tuples-or ndarrays with different lengths or shapes) is deprecated. If you meant to do this, you must specify 'dtype=object' when creating the ndarray.\n"
          ]
        },
        {
          "output_type": "display_data",
          "data": {
            "text/plain": [
              "<IPython.core.display.Javascript object>"
            ],
            "application/javascript": [
              "addData(28032.261719,24179.074136707855,2023-03-31)"
            ]
          },
          "metadata": {}
        },
        {
          "output_type": "stream",
          "name": "stdout",
          "text": [
            "Predicted future price of BTC: $ 24179.074136707855\n",
            "predicted= 24179.074136707855\n",
            "current= 28032.261719\n",
            "Predicted future price does not meet the minimum growth requirement (2.0%) for buy trigger\n",
            "Investment goal reached! Stop trading.\n",
            "Remaining balance (USD): $ 1245738.5760329505 \n",
            "\n",
            "x1= [0.76513221 0.77433216 0.76398202 0.79295091 0.10142698]\n",
            "y1= 0.7926814480094679\n",
            "3/3 [==============================] - 0s 54ms/step\n",
            "days= 2023-04-01\n",
            "Normalised current price= 0.7926814480094679\n",
            "Renormalised current price= 28473.332031\n",
            "Current price of BTC: (normalised) $ 28473.332031\n",
            "Normalised predicted price= [0.50992876]\n",
            "Renormalised predicted price= 23946.389749715538\n"
          ]
        },
        {
          "output_type": "stream",
          "name": "stderr",
          "text": [
            "<__array_function__ internals>:180: VisibleDeprecationWarning: Creating an ndarray from ragged nested sequences (which is a list-or-tuple of lists-or-tuples-or ndarrays with different lengths or shapes) is deprecated. If you meant to do this, you must specify 'dtype=object' when creating the ndarray.\n"
          ]
        },
        {
          "output_type": "display_data",
          "data": {
            "text/plain": [
              "<IPython.core.display.Javascript object>"
            ],
            "application/javascript": [
              "addData(28473.332031,23946.389749715538,2023-04-01)"
            ]
          },
          "metadata": {}
        },
        {
          "output_type": "stream",
          "name": "stdout",
          "text": [
            "Predicted future price of BTC: $ 23946.389749715538\n",
            "predicted= 23946.389749715538\n",
            "current= 28473.332031\n",
            "Predicted future price does not meet the minimum growth requirement (2.0%) for buy trigger\n",
            "Investment goal reached! Stop trading.\n",
            "Remaining balance (USD): $ 1245738.5760329505 \n",
            "\n",
            "x1= [0.79268145 0.78449422 0.80946249 0.78873666 0.02841273]\n",
            "y1= 0.7920264722632422\n",
            "3/3 [==============================] - 0s 45ms/step\n",
            "days= 2023-04-02\n",
            "Normalised current price= 0.7920264722632422\n",
            "Renormalised current price= 28462.845703\n",
            "Current price of BTC: (normalised) $ 28462.845703\n",
            "Normalised predicted price= [0.49125946]\n",
            "Renormalised predicted price= 23647.489400664977\n"
          ]
        },
        {
          "output_type": "stream",
          "name": "stderr",
          "text": [
            "<__array_function__ internals>:180: VisibleDeprecationWarning: Creating an ndarray from ragged nested sequences (which is a list-or-tuple of lists-or-tuples-or ndarrays with different lengths or shapes) is deprecated. If you meant to do this, you must specify 'dtype=object' when creating the ndarray.\n"
          ]
        },
        {
          "output_type": "display_data",
          "data": {
            "text/plain": [
              "<IPython.core.display.Javascript object>"
            ],
            "application/javascript": [
              "addData(28462.845703,23647.489400664977,2023-04-02)"
            ]
          },
          "metadata": {}
        },
        {
          "output_type": "stream",
          "name": "stdout",
          "text": [
            "Predicted future price of BTC: $ 23647.489400664977\n",
            "predicted= 23647.489400664977\n",
            "current= 28462.845703\n",
            "Predicted future price does not meet the minimum growth requirement (2.0%) for buy trigger\n",
            "Investment goal reached! Stop trading.\n",
            "Remaining balance (USD): $ 1245738.5760329505 \n",
            "\n",
            "x1= [0.79202647 0.76677206 0.78312978 0.7755079  0.0410673 ]\n",
            "y1= 0.7745523193469239\n",
            "3/3 [==============================] - 0s 44ms/step\n",
            "days= 2023-04-03\n",
            "Normalised current price= 0.7745523193469239\n",
            "Renormalised current price= 28183.080078\n",
            "Current price of BTC: (normalised) $ 28183.080078\n",
            "Normalised predicted price= [0.46949673]\n",
            "Renormalised predicted price= 23299.062588611294\n"
          ]
        },
        {
          "output_type": "stream",
          "name": "stderr",
          "text": [
            "<__array_function__ internals>:180: VisibleDeprecationWarning: Creating an ndarray from ragged nested sequences (which is a list-or-tuple of lists-or-tuples-or ndarrays with different lengths or shapes) is deprecated. If you meant to do this, you must specify 'dtype=object' when creating the ndarray.\n"
          ]
        },
        {
          "output_type": "display_data",
          "data": {
            "text/plain": [
              "<IPython.core.display.Javascript object>"
            ],
            "application/javascript": [
              "addData(28183.080078,23299.062588611294,2023-04-03)"
            ]
          },
          "metadata": {}
        },
        {
          "output_type": "stream",
          "name": "stdout",
          "text": [
            "Predicted future price of BTC: $ 23299.062588611294\n",
            "predicted= 23299.062588611294\n",
            "current= 28183.080078\n",
            "Predicted future price does not meet the minimum growth requirement (2.0%) for buy trigger\n",
            "Investment goal reached! Stop trading.\n",
            "Remaining balance (USD): $ 1245738.5760329505 \n",
            "\n",
            "x1= [0.77455232 0.76406303 0.74441218 0.74994794 0.10641606]\n",
            "y1= 0.750329927731358\n",
            "3/3 [==============================] - 0s 71ms/step\n",
            "days= 2023-04-04\n",
            "Normalised current price= 0.750329927731358\n",
            "Renormalised current price= 27795.273438\n",
            "Current price of BTC: (normalised) $ 27795.273438\n",
            "Normalised predicted price= [0.44534153]\n",
            "Renormalised predicted price= 22912.33171099792\n"
          ]
        },
        {
          "output_type": "stream",
          "name": "stderr",
          "text": [
            "<__array_function__ internals>:180: VisibleDeprecationWarning: Creating an ndarray from ragged nested sequences (which is a list-or-tuple of lists-or-tuples-or ndarrays with different lengths or shapes) is deprecated. If you meant to do this, you must specify 'dtype=object' when creating the ndarray.\n"
          ]
        },
        {
          "output_type": "display_data",
          "data": {
            "text/plain": [
              "<IPython.core.display.Javascript object>"
            ],
            "application/javascript": [
              "addData(27795.273438,22912.33171099792,2023-04-04)"
            ]
          },
          "metadata": {}
        },
        {
          "output_type": "stream",
          "name": "stdout",
          "text": [
            "Predicted future price of BTC: $ 22912.33171099792\n",
            "predicted= 22912.33171099792\n",
            "current= 27795.273438\n",
            "Predicted future price does not meet the minimum growth requirement (2.0%) for buy trigger\n",
            "Investment goal reached! Stop trading.\n",
            "Remaining balance (USD): $ 1245738.5760329505 \n",
            "\n",
            "x1= [0.75032993 0.76144495 0.77020304 0.77355734 0.06802595]\n",
            "y1= 0.7737182591828835\n",
            "3/3 [==============================] - 0s 79ms/step\n",
            "days= 2023-04-05\n",
            "Normalised current price= 0.7737182591828835\n",
            "Renormalised current price= 28169.726563\n",
            "Current price of BTC: (normalised) $ 28169.726563\n",
            "Normalised predicted price= [0.41990244]\n",
            "Renormalised predicted price= 22505.04552378153\n"
          ]
        },
        {
          "output_type": "stream",
          "name": "stderr",
          "text": [
            "<__array_function__ internals>:180: VisibleDeprecationWarning: Creating an ndarray from ragged nested sequences (which is a list-or-tuple of lists-or-tuples-or ndarrays with different lengths or shapes) is deprecated. If you meant to do this, you must specify 'dtype=object' when creating the ndarray.\n"
          ]
        },
        {
          "output_type": "display_data",
          "data": {
            "text/plain": [
              "<IPython.core.display.Javascript object>"
            ],
            "application/javascript": [
              "addData(28169.726563,22505.04552378153,2023-04-05)"
            ]
          },
          "metadata": {}
        },
        {
          "output_type": "stream",
          "name": "stdout",
          "text": [
            "Predicted future price of BTC: $ 22505.04552378153\n",
            "predicted= 22505.04552378153\n",
            "current= 28169.726563\n",
            "Predicted future price does not meet the minimum growth requirement (2.0%) for buy trigger\n",
            "Investment goal reached! Stop trading.\n",
            "Remaining balance (USD): $ 1245738.5760329505 \n",
            "\n",
            "x1= [0.77371826 0.78054226 0.78055925 0.77417556 0.08391213]\n",
            "y1= 0.7740617890251926\n",
            "3/3 [==============================] - 0s 86ms/step\n",
            "days= 2023-04-06\n",
            "Normalised current price= 0.7740617890251926\n",
            "Renormalised current price= 28175.226563\n",
            "Current price of BTC: (normalised) $ 28175.226563\n",
            "Normalised predicted price= [0.39390492]\n",
            "Renormalised predicted price= 22088.818635744767\n"
          ]
        },
        {
          "output_type": "stream",
          "name": "stderr",
          "text": [
            "<__array_function__ internals>:180: VisibleDeprecationWarning: Creating an ndarray from ragged nested sequences (which is a list-or-tuple of lists-or-tuples-or ndarrays with different lengths or shapes) is deprecated. If you meant to do this, you must specify 'dtype=object' when creating the ndarray.\n"
          ]
        },
        {
          "output_type": "display_data",
          "data": {
            "text/plain": [
              "<IPython.core.display.Javascript object>"
            ],
            "application/javascript": [
              "addData(28175.226563,22088.818635744767,2023-04-06)"
            ]
          },
          "metadata": {}
        },
        {
          "output_type": "stream",
          "name": "stdout",
          "text": [
            "Predicted future price of BTC: $ 22088.818635744767\n",
            "predicted= 22088.818635744767\n",
            "current= 28175.226563\n",
            "Predicted future price does not meet the minimum growth requirement (2.0%) for buy trigger\n",
            "Investment goal reached! Stop trading.\n",
            "Remaining balance (USD): $ 1245738.5760329505 \n",
            "\n",
            "x1= [0.77406179 0.74548193 0.77386561 0.76581295 0.05502488]\n",
            "y1= 0.7655510079475469\n",
            "3/3 [==============================] - 0s 77ms/step\n",
            "days= 2023-04-07\n",
            "Normalised current price= 0.7655510079475469\n",
            "Renormalised current price= 28038.966797\n",
            "Current price of BTC: (normalised) $ 28038.966797\n",
            "Normalised predicted price= [0.368012]\n",
            "Renormalised predicted price= 21674.26651875505\n"
          ]
        },
        {
          "output_type": "stream",
          "name": "stderr",
          "text": [
            "<__array_function__ internals>:180: VisibleDeprecationWarning: Creating an ndarray from ragged nested sequences (which is a list-or-tuple of lists-or-tuples-or ndarrays with different lengths or shapes) is deprecated. If you meant to do this, you must specify 'dtype=object' when creating the ndarray.\n"
          ]
        },
        {
          "output_type": "display_data",
          "data": {
            "text/plain": [
              "<IPython.core.display.Javascript object>"
            ],
            "application/javascript": [
              "addData(28038.966797,21674.26651875505,2023-04-07)"
            ]
          },
          "metadata": {}
        },
        {
          "output_type": "stream",
          "name": "stdout",
          "text": [
            "Predicted future price of BTC: $ 21674.26651875505\n",
            "predicted= 21674.26651875505\n",
            "current= 28038.966797\n",
            "Predicted future price does not meet the minimum growth requirement (2.0%) for buy trigger\n",
            "Investment goal reached! Stop trading.\n",
            "Remaining balance (USD): $ 1245738.5760329505 \n",
            "\n",
            "x1= [0.76555101 0.74130667 0.77738898 0.75842269 0.02827982]\n",
            "y1= 0.7581524291562256\n",
            "3/3 [==============================] - 0s 89ms/step\n",
            "days= 2023-04-08\n",
            "Normalised current price= 0.7581524291562256\n",
            "Renormalised current price= 27920.513672\n",
            "Current price of BTC: (normalised) $ 27920.513672\n",
            "Normalised predicted price= [0.34280407]\n",
            "Renormalised predicted price= 21270.681050695595\n"
          ]
        },
        {
          "output_type": "stream",
          "name": "stderr",
          "text": [
            "<__array_function__ internals>:180: VisibleDeprecationWarning: Creating an ndarray from ragged nested sequences (which is a list-or-tuple of lists-or-tuples-or ndarrays with different lengths or shapes) is deprecated. If you meant to do this, you must specify 'dtype=object' when creating the ndarray.\n"
          ]
        },
        {
          "output_type": "display_data",
          "data": {
            "text/plain": [
              "<IPython.core.display.Javascript object>"
            ],
            "application/javascript": [
              "addData(27920.513672,21270.681050695595,2023-04-08)"
            ]
          },
          "metadata": {}
        },
        {
          "output_type": "stream",
          "name": "stdout",
          "text": [
            "Predicted future price of BTC: $ 21270.681050695595\n",
            "predicted= 21270.681050695595\n",
            "current= 27920.513672\n",
            "Predicted future price does not meet the minimum growth requirement (2.0%) for buy trigger\n",
            "Investment goal reached! Stop trading.\n",
            "Remaining balance (USD): $ 1245738.5760329505 \n",
            "\n",
            "x1= [0.75815243 0.74432411 0.78308508 0.75979323 0.01490405]\n",
            "y1= 0.7601419988523108\n",
            "3/3 [==============================] - 0s 79ms/step\n",
            "days= 2023-04-09\n",
            "Normalised current price= 0.7601419988523108\n",
            "Renormalised current price= 27952.367188\n",
            "Current price of BTC: (normalised) $ 27952.367188\n",
            "Normalised predicted price= [0.31864488]\n",
            "Renormalised predicted price= 20883.886235953934\n"
          ]
        },
        {
          "output_type": "stream",
          "name": "stderr",
          "text": [
            "<__array_function__ internals>:180: VisibleDeprecationWarning: Creating an ndarray from ragged nested sequences (which is a list-or-tuple of lists-or-tuples-or ndarrays with different lengths or shapes) is deprecated. If you meant to do this, you must specify 'dtype=object' when creating the ndarray.\n"
          ]
        },
        {
          "output_type": "display_data",
          "data": {
            "text/plain": [
              "<IPython.core.display.Javascript object>"
            ],
            "application/javascript": [
              "addData(27952.367188,20883.886235953934,2023-04-09)"
            ]
          },
          "metadata": {}
        },
        {
          "output_type": "stream",
          "name": "stdout",
          "text": [
            "Predicted future price of BTC: $ 20883.886235953934\n",
            "predicted= 20883.886235953934\n",
            "current= 27952.367188\n",
            "Predicted future price does not meet the minimum growth requirement (2.0%) for buy trigger\n",
            "Investment goal reached! Stop trading.\n",
            "Remaining balance (USD): $ 1245738.5760329505 \n",
            "\n",
            "x1= [0.760142   0.76763918 0.779585   0.78386416 0.0400849 ]\n",
            "y1= 0.784105401196121\n",
            "3/3 [==============================] - 0s 51ms/step\n",
            "days= 2023-04-10\n",
            "Normalised current price= 0.784105401196121\n",
            "Renormalised current price= 28336.027344\n",
            "Current price of BTC: (normalised) $ 28336.027344\n",
            "Normalised predicted price= [0.29577428]\n",
            "Renormalised predicted price= 20517.722119369548\n"
          ]
        },
        {
          "output_type": "stream",
          "name": "stderr",
          "text": [
            "<__array_function__ internals>:180: VisibleDeprecationWarning: Creating an ndarray from ragged nested sequences (which is a list-or-tuple of lists-or-tuples-or ndarrays with different lengths or shapes) is deprecated. If you meant to do this, you must specify 'dtype=object' when creating the ndarray.\n"
          ]
        },
        {
          "output_type": "display_data",
          "data": {
            "text/plain": [
              "<IPython.core.display.Javascript object>"
            ],
            "application/javascript": [
              "addData(28336.027344,20517.722119369548,2023-04-10)"
            ]
          },
          "metadata": {}
        },
        {
          "output_type": "stream",
          "name": "stdout",
          "text": [
            "Predicted future price of BTC: $ 20517.722119369548\n",
            "predicted= 20517.722119369548\n",
            "current= 28336.027344\n",
            "Predicted future price does not meet the minimum growth requirement (2.0%) for buy trigger\n",
            "Investment goal reached! Stop trading.\n",
            "Remaining balance (USD): $ 1245738.5760329505 \n",
            "\n",
            "x1= [0.7841054  0.84506926 0.8025842  0.86633386 0.10395284]\n",
            "y1= 0.8664059288238495\n",
            "3/3 [==============================] - 0s 53ms/step\n",
            "days= 2023-04-11\n",
            "Normalised current price= 0.8664059288238495\n",
            "Renormalised current price= 29653.679688\n",
            "Current price of BTC: (normalised) $ 29653.679688\n",
            "Normalised predicted price= [0.27483448]\n",
            "Renormalised predicted price= 20182.470650028685\n"
          ]
        },
        {
          "output_type": "stream",
          "name": "stderr",
          "text": [
            "<__array_function__ internals>:180: VisibleDeprecationWarning: Creating an ndarray from ragged nested sequences (which is a list-or-tuple of lists-or-tuples-or ndarrays with different lengths or shapes) is deprecated. If you meant to do this, you must specify 'dtype=object' when creating the ndarray.\n"
          ]
        },
        {
          "output_type": "display_data",
          "data": {
            "text/plain": [
              "<IPython.core.display.Javascript object>"
            ],
            "application/javascript": [
              "addData(29653.679688,20182.470650028685,2023-04-11)"
            ]
          },
          "metadata": {}
        },
        {
          "output_type": "stream",
          "name": "stdout",
          "text": [
            "Predicted future price of BTC: $ 20182.470650028685\n",
            "predicted= 20182.470650028685\n",
            "current= 29653.679688\n",
            "Predicted future price does not meet the minimum growth requirement (2.0%) for buy trigger\n",
            "Investment goal reached! Stop trading.\n",
            "Remaining balance (USD): $ 1245738.5760329505 \n",
            "\n",
            "x1= [0.86640593 0.89117963 0.89310626 0.90270232 0.11149128]\n",
            "y1= 0.9025016925985472\n",
            "3/3 [==============================] - 0s 50ms/step\n",
            "days= 2023-04-12\n",
            "Normalised current price= 0.9025016925985472\n",
            "Renormalised current price= 30231.582031\n",
            "Current price of BTC: (normalised) $ 30231.582031\n",
            "Normalised predicted price= [0.25692564]\n",
            "Renormalised predicted price= 19895.745552490203\n"
          ]
        },
        {
          "output_type": "stream",
          "name": "stderr",
          "text": [
            "<__array_function__ internals>:180: VisibleDeprecationWarning: Creating an ndarray from ragged nested sequences (which is a list-or-tuple of lists-or-tuples-or ndarrays with different lengths or shapes) is deprecated. If you meant to do this, you must specify 'dtype=object' when creating the ndarray.\n"
          ]
        },
        {
          "output_type": "display_data",
          "data": {
            "text/plain": [
              "<IPython.core.display.Javascript object>"
            ],
            "application/javascript": [
              "addData(30231.582031,19895.745552490203,2023-04-12)"
            ]
          },
          "metadata": {}
        },
        {
          "output_type": "stream",
          "name": "stdout",
          "text": [
            "Predicted future price of BTC: $ 19895.745552490203\n",
            "predicted= 19895.745552490203\n",
            "current= 30231.582031\n",
            "Predicted future price does not meet the minimum growth requirement (2.0%) for buy trigger\n",
            "Investment goal reached! Stop trading.\n",
            "Remaining balance (USD): $ 1245738.5760329505 \n",
            "\n",
            "x1= [0.90250169 0.88826634 0.9005183  0.89670384 0.0982871 ]\n",
            "y1= 0.8813376436728861\n",
            "3/3 [==============================] - 0s 53ms/step\n",
            "days= 2023-04-13\n",
            "Normalised current price= 0.8813376436728861\n",
            "Renormalised current price= 29892.740234\n",
            "Current price of BTC: (normalised) $ 29892.740234\n",
            "Normalised predicted price= [0.24213742]\n",
            "Renormalised predicted price= 19658.9823107128\n"
          ]
        },
        {
          "output_type": "stream",
          "name": "stderr",
          "text": [
            "<__array_function__ internals>:180: VisibleDeprecationWarning: Creating an ndarray from ragged nested sequences (which is a list-or-tuple of lists-or-tuples-or ndarrays with different lengths or shapes) is deprecated. If you meant to do this, you must specify 'dtype=object' when creating the ndarray.\n"
          ]
        },
        {
          "output_type": "display_data",
          "data": {
            "text/plain": [
              "<IPython.core.display.Javascript object>"
            ],
            "application/javascript": [
              "addData(29892.740234,19658.9823107128,2023-04-13)"
            ]
          },
          "metadata": {}
        },
        {
          "output_type": "stream",
          "name": "stdout",
          "text": [
            "Predicted future price of BTC: $ 19658.9823107128\n",
            "predicted= 19658.9823107128\n",
            "current= 29892.740234\n",
            "Predicted future price does not meet the minimum growth requirement (2.0%) for buy trigger\n",
            "Investment goal reached! Stop trading.\n",
            "Remaining balance (USD): $ 1245738.5760329505 \n",
            "\n",
            "x1= [0.88133764 0.89310262 0.91027465 0.91294959 0.08782491]\n",
            "y1= 0.9136183475893953\n",
            "3/3 [==============================] - 0s 49ms/step\n",
            "days= 2023-04-14\n",
            "Normalised current price= 0.9136183475893953\n",
            "Renormalised current price= 30409.5625\n",
            "Current price of BTC: (normalised) $ 30409.5625\n",
            "Normalised predicted price= [0.23033436]\n",
            "Renormalised predicted price= 19470.012310904793\n"
          ]
        },
        {
          "output_type": "stream",
          "name": "stderr",
          "text": [
            "<__array_function__ internals>:180: VisibleDeprecationWarning: Creating an ndarray from ragged nested sequences (which is a list-or-tuple of lists-or-tuples-or ndarrays with different lengths or shapes) is deprecated. If you meant to do this, you must specify 'dtype=object' when creating the ndarray.\n"
          ]
        },
        {
          "output_type": "display_data",
          "data": {
            "text/plain": [
              "<IPython.core.display.Javascript object>"
            ],
            "application/javascript": [
              "addData(30409.5625,19470.012310904793,2023-04-14)"
            ]
          },
          "metadata": {}
        },
        {
          "output_type": "stream",
          "name": "stdout",
          "text": [
            "Predicted future price of BTC: $ 19470.012310904793\n",
            "predicted= 19470.012310904793\n",
            "current= 30409.5625\n",
            "Predicted future price does not meet the minimum growth requirement (2.0%) for buy trigger\n",
            "Investment goal reached! Stop trading.\n",
            "Remaining balance (USD): $ 1245738.5760329505 \n",
            "\n",
            "x1= [0.91361835 0.92221853 0.92084862 0.91836244 0.13430569]\n",
            "y1= 0.9186893165116623\n",
            "3/3 [==============================] - 0s 52ms/step\n",
            "days= 2023-04-15\n",
            "Normalised current price= 0.9186893165116623\n",
            "Renormalised current price= 30490.75\n",
            "Current price of BTC: (normalised) $ 30490.75\n",
            "Normalised predicted price= [0.22117697]\n",
            "Renormalised predicted price= 19323.400181447265\n"
          ]
        },
        {
          "output_type": "stream",
          "name": "stderr",
          "text": [
            "<__array_function__ internals>:180: VisibleDeprecationWarning: Creating an ndarray from ragged nested sequences (which is a list-or-tuple of lists-or-tuples-or ndarrays with different lengths or shapes) is deprecated. If you meant to do this, you must specify 'dtype=object' when creating the ndarray.\n"
          ]
        },
        {
          "output_type": "display_data",
          "data": {
            "text/plain": [
              "<IPython.core.display.Javascript object>"
            ],
            "application/javascript": [
              "addData(30490.75,19323.400181447265,2023-04-15)"
            ]
          },
          "metadata": {}
        },
        {
          "output_type": "stream",
          "name": "stdout",
          "text": [
            "Predicted future price of BTC: $ 19323.400181447265\n",
            "predicted= 19323.400181447265\n",
            "current= 30490.75\n",
            "Predicted future price does not meet the minimum growth requirement (2.0%) for buy trigger\n",
            "Investment goal reached! Stop trading.\n",
            "Remaining balance (USD): $ 1245738.5760329505 \n",
            "\n",
            "x1= [0.91868932 0.8969718  0.93368621 0.90791552 0.03797633]\n",
            "y1= 0.9077729726475849\n",
            "3/3 [==============================] - 0s 56ms/step\n",
            "days= 2023-04-16\n",
            "Normalised current price= 0.9077729726475849\n",
            "Renormalised current price= 30315.976563\n",
            "Current price of BTC: (normalised) $ 30315.976563\n",
            "Normalised predicted price= [0.21425325]\n",
            "Renormalised predicted price= 19212.549662414338\n"
          ]
        },
        {
          "output_type": "stream",
          "name": "stderr",
          "text": [
            "<__array_function__ internals>:180: VisibleDeprecationWarning: Creating an ndarray from ragged nested sequences (which is a list-or-tuple of lists-or-tuples-or ndarrays with different lengths or shapes) is deprecated. If you meant to do this, you must specify 'dtype=object' when creating the ndarray.\n"
          ]
        },
        {
          "output_type": "display_data",
          "data": {
            "text/plain": [
              "<IPython.core.display.Javascript object>"
            ],
            "application/javascript": [
              "addData(30315.976563,19212.549662414338,2023-04-16)"
            ]
          },
          "metadata": {}
        },
        {
          "output_type": "stream",
          "name": "stdout",
          "text": [
            "Predicted future price of BTC: $ 19212.549662414338\n",
            "predicted= 19212.549662414338\n",
            "current= 30315.976563\n",
            "Predicted future price does not meet the minimum growth requirement (2.0%) for buy trigger\n",
            "Investment goal reached! Stop trading.\n",
            "Remaining balance (USD): $ 1245738.5760329505 \n",
            "\n",
            "x1= [0.90777297 0.89408353 0.92807327 0.9077193  0.04619119]\n",
            "y1= 0.907846045879702\n",
            "3/3 [==============================] - 0s 57ms/step\n",
            "days= 2023-04-17\n",
            "Normalised current price= 0.907846045879702\n",
            "Renormalised current price= 30317.146484\n",
            "Current price of BTC: (normalised) $ 30317.146484\n",
            "Normalised predicted price= [0.20900781]\n",
            "Renormalised predicted price= 19128.568960117354\n"
          ]
        },
        {
          "output_type": "stream",
          "name": "stderr",
          "text": [
            "<__array_function__ internals>:180: VisibleDeprecationWarning: Creating an ndarray from ragged nested sequences (which is a list-or-tuple of lists-or-tuples-or ndarrays with different lengths or shapes) is deprecated. If you meant to do this, you must specify 'dtype=object' when creating the ndarray.\n"
          ]
        },
        {
          "output_type": "display_data",
          "data": {
            "text/plain": [
              "<IPython.core.display.Javascript object>"
            ],
            "application/javascript": [
              "addData(30317.146484,19128.568960117354,2023-04-17)"
            ]
          },
          "metadata": {}
        },
        {
          "output_type": "stream",
          "name": "stdout",
          "text": [
            "Predicted future price of BTC: $ 19128.568960117354\n",
            "predicted= 19128.568960117354\n",
            "current= 30317.146484\n",
            "Predicted future price does not meet the minimum growth requirement (2.0%) for buy trigger\n",
            "Investment goal reached! Stop trading.\n",
            "Remaining balance (USD): $ 1245738.5760329505 \n",
            "\n",
            "x1= [0.90784605 0.87930935 0.87181938 0.85334197 0.09127992]\n",
            "y1= 0.8536273750177448\n",
            "3/3 [==============================] - 0s 59ms/step\n",
            "days= 2023-04-18\n",
            "Normalised current price= 0.8536273750177448\n",
            "Renormalised current price= 29449.091797\n",
            "Current price of BTC: (normalised) $ 29449.091797\n",
            "Normalised predicted price= [0.20469859]\n",
            "Renormalised predicted price= 19059.577220120034\n"
          ]
        },
        {
          "output_type": "stream",
          "name": "stderr",
          "text": [
            "<__array_function__ internals>:180: VisibleDeprecationWarning: Creating an ndarray from ragged nested sequences (which is a list-or-tuple of lists-or-tuples-or ndarrays with different lengths or shapes) is deprecated. If you meant to do this, you must specify 'dtype=object' when creating the ndarray.\n"
          ]
        },
        {
          "output_type": "display_data",
          "data": {
            "text/plain": [
              "<IPython.core.display.Javascript object>"
            ],
            "application/javascript": [
              "addData(29449.091797,19059.577220120034,2023-04-18)"
            ]
          },
          "metadata": {}
        },
        {
          "output_type": "stream",
          "name": "stdout",
          "text": [
            "Predicted future price of BTC: $ 19059.577220120034\n",
            "predicted= 19059.577220120034\n",
            "current= 29449.091797\n",
            "Predicted future price does not meet the minimum growth requirement (2.0%) for buy trigger\n",
            "Investment goal reached! Stop trading.\n",
            "Remaining balance (USD): $ 1245738.5760329505 \n",
            "\n",
            "x1= [0.85362738 0.88875532 0.86413654 0.91285501 0.10573334]\n",
            "y1= 0.912658025530213\n",
            "3/3 [==============================] - 0s 59ms/step\n",
            "days= 2023-04-19\n",
            "Normalised current price= 0.912658025530213\n",
            "Renormalised current price= 30394.1875\n",
            "Current price of BTC: (normalised) $ 30394.1875\n",
            "Normalised predicted price= [0.20075047]\n",
            "Renormalised predicted price= 18996.36678023425\n"
          ]
        },
        {
          "output_type": "stream",
          "name": "stderr",
          "text": [
            "<__array_function__ internals>:180: VisibleDeprecationWarning: Creating an ndarray from ragged nested sequences (which is a list-or-tuple of lists-or-tuples-or ndarrays with different lengths or shapes) is deprecated. If you meant to do this, you must specify 'dtype=object' when creating the ndarray.\n"
          ]
        },
        {
          "output_type": "display_data",
          "data": {
            "text/plain": [
              "<IPython.core.display.Javascript object>"
            ],
            "application/javascript": [
              "addData(30394.1875,18996.36678023425,2023-04-19)"
            ]
          },
          "metadata": {}
        },
        {
          "output_type": "stream",
          "name": "stdout",
          "text": [
            "Predicted future price of BTC: $ 18996.36678023425\n",
            "predicted= 18996.36678023425\n",
            "current= 30394.1875\n",
            "Predicted future price does not meet the minimum growth requirement (2.0%) for buy trigger\n",
            "Investment goal reached! Stop trading.\n",
            "Remaining balance (USD): $ 1245738.5760329505 \n",
            "\n",
            "x1= [0.91265803 0.88505158 0.83322254 0.81445636 0.15148407]\n",
            "y1= 0.8145643965894911\n",
            "3/3 [==============================] - 0s 60ms/step\n",
            "days= 2023-04-20\n",
            "Normalised current price= 0.8145643965894911\n",
            "Renormalised current price= 28823.683594\n",
            "Current price of BTC: (normalised) $ 28823.683594\n",
            "Normalised predicted price= [0.19663657]\n",
            "Renormalised predicted price= 18930.50223381024\n"
          ]
        },
        {
          "output_type": "stream",
          "name": "stderr",
          "text": [
            "<__array_function__ internals>:180: VisibleDeprecationWarning: Creating an ndarray from ragged nested sequences (which is a list-or-tuple of lists-or-tuples-or ndarrays with different lengths or shapes) is deprecated. If you meant to do this, you must specify 'dtype=object' when creating the ndarray.\n"
          ]
        },
        {
          "output_type": "display_data",
          "data": {
            "text/plain": [
              "<IPython.core.display.Javascript object>"
            ],
            "application/javascript": [
              "addData(28823.683594,18930.50223381024,2023-04-20)"
            ]
          },
          "metadata": {}
        },
        {
          "output_type": "stream",
          "name": "stdout",
          "text": [
            "Predicted future price of BTC: $ 18930.50223381024\n",
            "predicted= 18930.50223381024\n",
            "current= 28823.683594\n",
            "Predicted future price does not meet the minimum growth requirement (2.0%) for buy trigger\n",
            "Investment goal reached! Stop trading.\n",
            "Remaining balance (USD): $ 1245738.5760329505 \n",
            "\n",
            "x1= [0.8145644  0.80161908 0.79289385 0.77842447 0.12244676]\n",
            "y1= 0.778684070872181\n",
            "3/3 [==============================] - 0s 64ms/step\n",
            "days= 2023-04-21\n",
            "Normalised current price= 0.778684070872181\n",
            "Renormalised current price= 28249.230469\n",
            "Current price of BTC: (normalised) $ 28249.230469\n",
            "Normalised predicted price= [0.19181639]\n",
            "Renormalised predicted price= 18853.329881390822\n"
          ]
        },
        {
          "output_type": "stream",
          "name": "stderr",
          "text": [
            "<__array_function__ internals>:180: VisibleDeprecationWarning: Creating an ndarray from ragged nested sequences (which is a list-or-tuple of lists-or-tuples-or ndarrays with different lengths or shapes) is deprecated. If you meant to do this, you must specify 'dtype=object' when creating the ndarray.\n"
          ]
        },
        {
          "output_type": "display_data",
          "data": {
            "text/plain": [
              "<IPython.core.display.Javascript object>"
            ],
            "application/javascript": [
              "addData(28249.230469,18853.329881390822,2023-04-21)"
            ]
          },
          "metadata": {}
        },
        {
          "output_type": "stream",
          "name": "stdout",
          "text": [
            "Predicted future price of BTC: $ 18853.329881390822\n",
            "predicted= 18853.329881390822\n",
            "current= 28249.230469\n",
            "Predicted future price does not meet the minimum growth requirement (2.0%) for buy trigger\n",
            "Investment goal reached! Stop trading.\n",
            "Remaining balance (USD): $ 1245738.5760329505 \n",
            "\n",
            "x1= [0.77868407 0.75620807 0.7380786  0.7178761  0.11722688]\n",
            "y1= 0.7172649363780013\n",
            "3/3 [==============================] - 0s 60ms/step\n",
            "days= 2023-04-22\n",
            "Normalised current price= 0.7172649363780013\n",
            "Renormalised current price= 27265.894531\n",
            "Current price of BTC: (normalised) $ 27265.894531\n",
            "Normalised predicted price= [0.18592769]\n",
            "Renormalised predicted price= 18759.050291440024\n"
          ]
        },
        {
          "output_type": "stream",
          "name": "stderr",
          "text": [
            "<__array_function__ internals>:180: VisibleDeprecationWarning: Creating an ndarray from ragged nested sequences (which is a list-or-tuple of lists-or-tuples-or ndarrays with different lengths or shapes) is deprecated. If you meant to do this, you must specify 'dtype=object' when creating the ndarray.\n"
          ]
        },
        {
          "output_type": "display_data",
          "data": {
            "text/plain": [
              "<IPython.core.display.Javascript object>"
            ],
            "application/javascript": [
              "addData(27265.894531,18759.050291440024,2023-04-22)"
            ]
          },
          "metadata": {}
        },
        {
          "output_type": "stream",
          "name": "stdout",
          "text": [
            "Predicted future price of BTC: $ 18759.050291440024\n",
            "predicted= 18759.050291440024\n",
            "current= 27265.894531\n",
            "Predicted future price does not meet the minimum growth requirement (2.0%) for buy trigger\n",
            "Investment goal reached! Stop trading.\n",
            "Remaining balance (USD): $ 1245738.5760329505 \n",
            "\n",
            "x1= [0.71726494 0.72633799 0.7375817  0.75165236 0.0486258 ]\n",
            "y1= 0.7516335356017412\n",
            "3/3 [==============================] - 0s 65ms/step\n",
            "days= 2023-04-23\n",
            "Normalised current price= 0.7516335356017412\n",
            "Renormalised current price= 27816.144531\n",
            "Current price of BTC: (normalised) $ 27816.144531\n",
            "Normalised predicted price= [0.1790456]\n",
            "Renormalised predicted price= 18648.866340826673\n"
          ]
        },
        {
          "output_type": "stream",
          "name": "stderr",
          "text": [
            "<__array_function__ internals>:180: VisibleDeprecationWarning: Creating an ndarray from ragged nested sequences (which is a list-or-tuple of lists-or-tuples-or ndarrays with different lengths or shapes) is deprecated. If you meant to do this, you must specify 'dtype=object' when creating the ndarray.\n"
          ]
        },
        {
          "output_type": "display_data",
          "data": {
            "text/plain": [
              "<IPython.core.display.Javascript object>"
            ],
            "application/javascript": [
              "addData(27816.144531,18648.866340826673,2023-04-23)"
            ]
          },
          "metadata": {}
        },
        {
          "output_type": "stream",
          "name": "stdout",
          "text": [
            "Predicted future price of BTC: $ 18648.866340826673\n",
            "predicted= 18648.866340826673\n",
            "current= 27816.144531\n",
            "Predicted future price does not meet the minimum growth requirement (2.0%) for buy trigger\n",
            "Investment goal reached! Stop trading.\n",
            "Remaining balance (USD): $ 1245738.5760329505 \n",
            "\n",
            "x1= [0.75163354 0.72309369 0.75229086 0.73752459 0.0455678 ]\n",
            "y1= 0.7376166397234138\n",
            "3/3 [==============================] - 0s 63ms/step\n",
            "days= 2023-04-24\n",
            "Normalised current price= 0.7376166397234138\n",
            "Renormalised current price= 27591.730469\n",
            "Current price of BTC: (normalised) $ 27591.730469\n",
            "Normalised predicted price= [0.17155035]\n",
            "Renormalised predicted price= 18528.865416735436\n"
          ]
        },
        {
          "output_type": "stream",
          "name": "stderr",
          "text": [
            "<__array_function__ internals>:180: VisibleDeprecationWarning: Creating an ndarray from ragged nested sequences (which is a list-or-tuple of lists-or-tuples-or ndarrays with different lengths or shapes) is deprecated. If you meant to do this, you must specify 'dtype=object' when creating the ndarray.\n"
          ]
        },
        {
          "output_type": "display_data",
          "data": {
            "text/plain": [
              "<IPython.core.display.Javascript object>"
            ],
            "application/javascript": [
              "addData(27591.730469,18528.865416735436,2023-04-24)"
            ]
          },
          "metadata": {}
        },
        {
          "output_type": "stream",
          "name": "stdout",
          "text": [
            "Predicted future price of BTC: $ 18528.865416735436\n",
            "predicted= 18528.865416735436\n",
            "current= 27591.730469\n",
            "Predicted future price does not meet the minimum growth requirement (2.0%) for buy trigger\n",
            "Investment goal reached! Stop trading.\n",
            "Remaining balance (USD): $ 1245738.5760329505 \n",
            "\n",
            "x1= [0.73761664 0.73307932 0.73128859 0.73339808 0.08976211]\n",
            "y1= 0.7328161273488791\n",
            "3/3 [==============================] - 0s 60ms/step\n",
            "days= 2023-04-25\n",
            "Normalised current price= 0.7328161273488791\n",
            "Renormalised current price= 27514.873047\n",
            "Current price of BTC: (normalised) $ 27514.873047\n",
            "Normalised predicted price= [0.16389777]\n",
            "Renormalised predicted price= 18406.345656075155\n"
          ]
        },
        {
          "output_type": "stream",
          "name": "stderr",
          "text": [
            "<__array_function__ internals>:180: VisibleDeprecationWarning: Creating an ndarray from ragged nested sequences (which is a list-or-tuple of lists-or-tuples-or ndarrays with different lengths or shapes) is deprecated. If you meant to do this, you must specify 'dtype=object' when creating the ndarray.\n"
          ]
        },
        {
          "output_type": "display_data",
          "data": {
            "text/plain": [
              "<IPython.core.display.Javascript object>"
            ],
            "application/javascript": [
              "addData(27514.873047,18406.345656075155,2023-04-25)"
            ]
          },
          "metadata": {}
        },
        {
          "output_type": "stream",
          "name": "stdout",
          "text": [
            "Predicted future price of BTC: $ 18406.345656075155\n",
            "predicted= 18406.345656075155\n",
            "current= 27514.873047\n",
            "Predicted future price does not meet the minimum growth requirement (2.0%) for buy trigger\n",
            "Investment goal reached! Stop trading.\n",
            "Remaining balance (USD): $ 1245738.5760329505 \n",
            "\n",
            "x1= [0.73281613 0.75752767 0.74002711 0.78227384 0.09003247]\n",
            "y1= 0.7818587941023838\n",
            "4/4 [==============================] - 0s 45ms/step\n",
            "days= 2023-04-26\n",
            "Normalised current price= 0.7818587941023838\n",
            "Renormalised current price= 28300.058594\n",
            "Current price of BTC: (normalised) $ 28300.058594\n",
            "Normalised predicted price= [0.1566335]\n",
            "Renormalised predicted price= 18290.042826855744\n"
          ]
        },
        {
          "output_type": "stream",
          "name": "stderr",
          "text": [
            "<__array_function__ internals>:180: VisibleDeprecationWarning: Creating an ndarray from ragged nested sequences (which is a list-or-tuple of lists-or-tuples-or ndarrays with different lengths or shapes) is deprecated. If you meant to do this, you must specify 'dtype=object' when creating the ndarray.\n"
          ]
        },
        {
          "output_type": "display_data",
          "data": {
            "text/plain": [
              "<IPython.core.display.Javascript object>"
            ],
            "application/javascript": [
              "addData(28300.058594,18290.042826855744,2023-04-26)"
            ]
          },
          "metadata": {}
        },
        {
          "output_type": "stream",
          "name": "stdout",
          "text": [
            "Predicted future price of BTC: $ 18290.042826855744\n",
            "predicted= 18290.042826855744\n",
            "current= 28300.058594\n",
            "Predicted future price does not meet the minimum growth requirement (2.0%) for buy trigger\n",
            "Investment goal reached! Stop trading.\n",
            "Remaining balance (USD): $ 1245738.5760329505 \n",
            "\n",
            "x1= [0.78185879 0.85909537 0.74746106 0.78946555 0.21693003]\n",
            "y1= 0.7898790447958384\n",
            "4/4 [==============================] - 0s 50ms/step\n",
            "days= 2023-04-27\n",
            "Normalised current price= 0.7898790447958384\n",
            "Renormalised current price= 28428.464844\n",
            "Current price of BTC: (normalised) $ 28428.464844\n",
            "Normalised predicted price= [0.15013637]\n",
            "Renormalised predicted price= 18186.02212912406\n"
          ]
        },
        {
          "output_type": "stream",
          "name": "stderr",
          "text": [
            "<__array_function__ internals>:180: VisibleDeprecationWarning: Creating an ndarray from ragged nested sequences (which is a list-or-tuple of lists-or-tuples-or ndarrays with different lengths or shapes) is deprecated. If you meant to do this, you must specify 'dtype=object' when creating the ndarray.\n"
          ]
        },
        {
          "output_type": "display_data",
          "data": {
            "text/plain": [
              "<IPython.core.display.Javascript object>"
            ],
            "application/javascript": [
              "addData(28428.464844,18186.02212912406,2023-04-27)"
            ]
          },
          "metadata": {}
        },
        {
          "output_type": "stream",
          "name": "stdout",
          "text": [
            "Predicted future price of BTC: $ 18186.02212912406\n",
            "predicted= 18186.02212912406\n",
            "current= 28428.464844\n",
            "Predicted future price does not meet the minimum growth requirement (2.0%) for buy trigger\n",
            "Investment goal reached! Stop trading.\n",
            "Remaining balance (USD): $ 1245738.5760329505 \n",
            "\n",
            "x1= [0.78987904 0.85132563 0.81620145 0.85513779 0.1746862 ]\n",
            "y1= 0.8556212144150102\n",
            "4/4 [==============================] - 0s 50ms/step\n",
            "days= 2023-04-28\n",
            "Normalised current price= 0.8556212144150102\n",
            "Renormalised current price= 29481.013672\n",
            "Current price of BTC: (normalised) $ 29481.013672\n",
            "Normalised predicted price= [0.14482287]\n",
            "Renormalised predicted price= 18100.95163278963\n"
          ]
        },
        {
          "output_type": "stream",
          "name": "stderr",
          "text": [
            "<__array_function__ internals>:180: VisibleDeprecationWarning: Creating an ndarray from ragged nested sequences (which is a list-or-tuple of lists-or-tuples-or ndarrays with different lengths or shapes) is deprecated. If you meant to do this, you must specify 'dtype=object' when creating the ndarray.\n"
          ]
        },
        {
          "output_type": "display_data",
          "data": {
            "text/plain": [
              "<IPython.core.display.Javascript object>"
            ],
            "application/javascript": [
              "addData(29481.013672,18100.95163278963,2023-04-28)"
            ]
          },
          "metadata": {}
        },
        {
          "output_type": "stream",
          "name": "stdout",
          "text": [
            "Predicted future price of BTC: $ 18100.95163278963\n",
            "predicted= 18100.95163278963\n",
            "current= 29481.013672\n",
            "Predicted future price does not meet the minimum growth requirement (2.0%) for buy trigger\n",
            "Investment goal reached! Stop trading.\n",
            "Remaining balance (USD): $ 1245738.5760329505 \n",
            "\n",
            "x1= [0.85562121 0.83264967 0.84977824 0.84679508 0.08833484]\n",
            "y1= 0.8465990423221088\n",
            "4/4 [==============================] - 0s 49ms/step\n",
            "days= 2023-04-29\n",
            "Normalised current price= 0.8465990423221088\n",
            "Renormalised current price= 29336.566406\n",
            "Current price of BTC: (normalised) $ 29336.566406\n",
            "Normalised predicted price= [0.1411489]\n",
            "Renormalised predicted price= 18042.130429046792\n"
          ]
        },
        {
          "output_type": "stream",
          "name": "stderr",
          "text": [
            "<__array_function__ internals>:180: VisibleDeprecationWarning: Creating an ndarray from ragged nested sequences (which is a list-or-tuple of lists-or-tuples-or ndarrays with different lengths or shapes) is deprecated. If you meant to do this, you must specify 'dtype=object' when creating the ndarray.\n"
          ]
        },
        {
          "output_type": "display_data",
          "data": {
            "text/plain": [
              "<IPython.core.display.Javascript object>"
            ],
            "application/javascript": [
              "addData(29336.566406,18042.130429046792,2023-04-29)"
            ]
          },
          "metadata": {}
        },
        {
          "output_type": "stream",
          "name": "stdout",
          "text": [
            "Predicted future price of BTC: $ 18042.130429046792\n",
            "predicted= 18042.130429046792\n",
            "current= 29336.566406\n",
            "Predicted future price does not meet the minimum growth requirement (2.0%) for buy trigger\n",
            "Investment goal reached! Stop trading.\n",
            "Remaining balance (USD): $ 1245738.5760329505 \n",
            "\n",
            "x1= [0.84659904 0.82512718 0.85987784 0.84106104 0.02649109]\n",
            "y1= 0.8409120131513728\n",
            "4/4 [==============================] - 0s 47ms/step\n",
            "days= 2023-04-30\n",
            "Normalised current price= 0.8409120131513728\n",
            "Renormalised current price= 29245.515625\n",
            "Current price of BTC: (normalised) $ 29245.515625\n",
            "Normalised predicted price= [0.13927424]\n",
            "Renormalised predicted price= 18012.11671874134\n"
          ]
        },
        {
          "output_type": "stream",
          "name": "stderr",
          "text": [
            "<__array_function__ internals>:180: VisibleDeprecationWarning: Creating an ndarray from ragged nested sequences (which is a list-or-tuple of lists-or-tuples-or ndarrays with different lengths or shapes) is deprecated. If you meant to do this, you must specify 'dtype=object' when creating the ndarray.\n"
          ]
        },
        {
          "output_type": "display_data",
          "data": {
            "text/plain": [
              "<IPython.core.display.Javascript object>"
            ],
            "application/javascript": [
              "addData(29245.515625,18012.11671874134,2023-04-30)"
            ]
          },
          "metadata": {}
        },
        {
          "output_type": "stream",
          "name": "stdout",
          "text": [
            "Predicted future price of BTC: $ 18012.11671874134\n",
            "predicted= 18012.11671874134\n",
            "current= 29245.515625\n",
            "Predicted future price does not meet the minimum growth requirement (2.0%) for buy trigger\n",
            "Investment goal reached! Stop trading.\n",
            "Remaining balance (USD): $ 1245738.5760329505 \n",
            "\n",
            "x1= [0.84091201 0.85635679 0.86153389 0.84233054 0.06234342]\n",
            "y1= 0.8397619933511276\n",
            "4/4 [==============================] - 0s 51ms/step\n",
            "days= 2023-05-01\n",
            "Normalised current price= 0.8397619933511276\n",
            "Renormalised current price= 29227.103516\n",
            "Current price of BTC: (normalised) $ 29227.103516\n",
            "Normalised predicted price= [0.13987468]\n",
            "Renormalised predicted price= 18021.729952265643\n"
          ]
        },
        {
          "output_type": "stream",
          "name": "stderr",
          "text": [
            "<__array_function__ internals>:180: VisibleDeprecationWarning: Creating an ndarray from ragged nested sequences (which is a list-or-tuple of lists-or-tuples-or ndarrays with different lengths or shapes) is deprecated. If you meant to do this, you must specify 'dtype=object' when creating the ndarray.\n"
          ]
        },
        {
          "output_type": "display_data",
          "data": {
            "text/plain": [
              "<IPython.core.display.Javascript object>"
            ],
            "application/javascript": [
              "addData(29227.103516,18021.729952265643,2023-05-01)"
            ]
          },
          "metadata": {}
        },
        {
          "output_type": "stream",
          "name": "stdout",
          "text": [
            "Predicted future price of BTC: $ 18021.729952265643\n",
            "predicted= 18021.729952265643\n",
            "current= 29227.103516\n",
            "Predicted future price does not meet the minimum growth requirement (2.0%) for buy trigger\n",
            "Investment goal reached! Stop trading.\n",
            "Remaining balance (USD): $ 1245738.5760329505 \n",
            "\n",
            "x1= [0.83976199 0.81746819 0.77017042 0.76877625 0.09832009]\n",
            "y1= 0.7685621397059834\n",
            "4/4 [==============================] - 0s 51ms/step\n",
            "days= 2023-05-02\n",
            "Normalised current price= 0.7685621397059834\n",
            "Renormalised current price= 28087.175781\n",
            "Current price of BTC: (normalised) $ 28087.175781\n",
            "Normalised predicted price= [0.14322457]\n",
            "Renormalised predicted price= 18075.36246719051\n"
          ]
        },
        {
          "output_type": "stream",
          "name": "stderr",
          "text": [
            "<__array_function__ internals>:180: VisibleDeprecationWarning: Creating an ndarray from ragged nested sequences (which is a list-or-tuple of lists-or-tuples-or ndarrays with different lengths or shapes) is deprecated. If you meant to do this, you must specify 'dtype=object' when creating the ndarray.\n"
          ]
        },
        {
          "output_type": "display_data",
          "data": {
            "text/plain": [
              "<IPython.core.display.Javascript object>"
            ],
            "application/javascript": [
              "addData(28087.175781,18075.36246719051,2023-05-02)"
            ]
          },
          "metadata": {}
        },
        {
          "output_type": "stream",
          "name": "stdout",
          "text": [
            "Predicted future price of BTC: $ 18075.36246719051\n",
            "predicted= 18075.36246719051\n",
            "current= 28087.175781\n",
            "Predicted future price does not meet the minimum growth requirement (2.0%) for buy trigger\n",
            "Investment goal reached! Stop trading.\n",
            "Remaining balance (USD): $ 1245738.5760329505 \n",
            "\n",
            "x1= [0.76856214 0.78942281 0.78568189 0.80557524 0.07834595]\n",
            "y1= 0.805620787460507\n",
            "4/4 [==============================] - 0s 48ms/step\n",
            "days= 2023-05-03\n",
            "Normalised current price= 0.805620787460507\n",
            "Renormalised current price= 28680.494141\n",
            "Current price of BTC: (normalised) $ 28680.494141\n",
            "Normalised predicted price= [0.14930153]\n",
            "Renormalised predicted price= 18172.656167883237\n"
          ]
        },
        {
          "output_type": "stream",
          "name": "stderr",
          "text": [
            "<__array_function__ internals>:180: VisibleDeprecationWarning: Creating an ndarray from ragged nested sequences (which is a list-or-tuple of lists-or-tuples-or ndarrays with different lengths or shapes) is deprecated. If you meant to do this, you must specify 'dtype=object' when creating the ndarray.\n"
          ]
        },
        {
          "output_type": "display_data",
          "data": {
            "text/plain": [
              "<IPython.core.display.Javascript object>"
            ],
            "application/javascript": [
              "addData(28680.494141,18172.656167883237,2023-05-03)"
            ]
          },
          "metadata": {}
        },
        {
          "output_type": "stream",
          "name": "stdout",
          "text": [
            "Predicted future price of BTC: $ 18172.656167883237\n",
            "predicted= 18172.656167883237\n",
            "current= 28680.494141\n",
            "Predicted future price does not meet the minimum growth requirement (2.0%) for buy trigger\n",
            "Investment goal reached! Stop trading.\n",
            "Remaining balance (USD): $ 1245738.5760329505 \n",
            "\n",
            "x1= [0.80562079 0.81306716 0.80189046 0.82592956 0.10252014]\n",
            "y1= 0.827532404168011\n",
            "4/4 [==============================] - 0s 51ms/step\n",
            "days= 2023-05-04\n",
            "Normalised current price= 0.827532404168011\n",
            "Renormalised current price= 29031.304688\n",
            "Current price of BTC: (normalised) $ 29031.304688\n",
            "Normalised predicted price= [0.1577677]\n",
            "Renormalised predicted price= 18308.2016870047\n"
          ]
        },
        {
          "output_type": "stream",
          "name": "stderr",
          "text": [
            "<__array_function__ internals>:180: VisibleDeprecationWarning: Creating an ndarray from ragged nested sequences (which is a list-or-tuple of lists-or-tuples-or ndarrays with different lengths or shapes) is deprecated. If you meant to do this, you must specify 'dtype=object' when creating the ndarray.\n"
          ]
        },
        {
          "output_type": "display_data",
          "data": {
            "text/plain": [
              "<IPython.core.display.Javascript object>"
            ],
            "application/javascript": [
              "addData(29031.304688,18308.2016870047,2023-05-04)"
            ]
          },
          "metadata": {}
        },
        {
          "output_type": "stream",
          "name": "stdout",
          "text": [
            "Predicted future price of BTC: $ 18308.2016870047\n",
            "predicted= 18308.2016870047\n",
            "current= 29031.304688\n",
            "Predicted future price does not meet the minimum growth requirement (2.0%) for buy trigger\n",
            "Investment goal reached! Stop trading.\n",
            "Remaining balance (USD): $ 1245738.5760329505 \n",
            "\n",
            "x1= [0.8275324  0.8189216  0.83476143 0.81602032 0.07039965]\n",
            "y1= 0.8163005886050247\n",
            "4/4 [==============================] - 0s 48ms/step\n",
            "days= 2023-05-05\n",
            "Normalised current price= 0.8163005886050247\n",
            "Renormalised current price= 28851.480469\n",
            "Current price of BTC: (normalised) $ 28851.480469\n",
            "Normalised predicted price= [0.16880678]\n",
            "Renormalised predicted price= 18484.94013245631\n"
          ]
        },
        {
          "output_type": "stream",
          "name": "stderr",
          "text": [
            "<__array_function__ internals>:180: VisibleDeprecationWarning: Creating an ndarray from ragged nested sequences (which is a list-or-tuple of lists-or-tuples-or ndarrays with different lengths or shapes) is deprecated. If you meant to do this, you must specify 'dtype=object' when creating the ndarray.\n"
          ]
        },
        {
          "output_type": "display_data",
          "data": {
            "text/plain": [
              "<IPython.core.display.Javascript object>"
            ],
            "application/javascript": [
              "addData(28851.480469,18484.94013245631,2023-05-05)"
            ]
          },
          "metadata": {}
        },
        {
          "output_type": "stream",
          "name": "stdout",
          "text": [
            "Predicted future price of BTC: $ 18484.94013245631\n",
            "predicted= 18484.94013245631\n",
            "current= 28851.480469\n",
            "Predicted future price does not meet the minimum growth requirement (2.0%) for buy trigger\n",
            "Investment goal reached! Stop trading.\n",
            "Remaining balance (USD): $ 1245738.5760329505 \n",
            "\n",
            "x1= [0.81630059 0.83865819 0.84441717 0.85892396 0.09185847]\n",
            "y1= 0.8592342553658914\n",
            "4/4 [==============================] - 0s 52ms/step\n",
            "days= 2023-05-06\n",
            "Normalised current price= 0.8592342553658914\n",
            "Renormalised current price= 29538.859375\n",
            "Current price of BTC: (normalised) $ 29538.859375\n",
            "Normalised predicted price= [0.18242225]\n",
            "Renormalised predicted price= 18702.927329939645\n"
          ]
        },
        {
          "output_type": "stream",
          "name": "stderr",
          "text": [
            "<__array_function__ internals>:180: VisibleDeprecationWarning: Creating an ndarray from ragged nested sequences (which is a list-or-tuple of lists-or-tuples-or ndarrays with different lengths or shapes) is deprecated. If you meant to do this, you must specify 'dtype=object' when creating the ndarray.\n"
          ]
        },
        {
          "output_type": "display_data",
          "data": {
            "text/plain": [
              "<IPython.core.display.Javascript object>"
            ],
            "application/javascript": [
              "addData(29538.859375,18702.927329939645,2023-05-06)"
            ]
          },
          "metadata": {}
        },
        {
          "output_type": "stream",
          "name": "stdout",
          "text": [
            "Predicted future price of BTC: $ 18702.927329939645\n",
            "predicted= 18702.927329939645\n",
            "current= 29538.859375\n",
            "Predicted future price does not meet the minimum growth requirement (2.0%) for buy trigger\n",
            "Investment goal reached! Stop trading.\n",
            "Remaining balance (USD): $ 1245738.5760329505 \n",
            "\n",
            "x1= [0.85923426 0.84811125 0.82041383 0.81957621 0.07368143]\n",
            "y1= 0.8194324925892633\n",
            "4/4 [==============================] - 0s 86ms/step\n",
            "days= 2023-05-07\n",
            "Normalised current price= 0.8194324925892633\n",
            "Renormalised current price= 28901.623047\n",
            "Current price of BTC: (normalised) $ 28901.623047\n",
            "Normalised predicted price= [0.19843315]\n",
            "Renormalised predicted price= 18959.265830114764\n"
          ]
        },
        {
          "output_type": "stream",
          "name": "stderr",
          "text": [
            "<__array_function__ internals>:180: VisibleDeprecationWarning: Creating an ndarray from ragged nested sequences (which is a list-or-tuple of lists-or-tuples-or ndarrays with different lengths or shapes) is deprecated. If you meant to do this, you must specify 'dtype=object' when creating the ndarray.\n"
          ]
        },
        {
          "output_type": "display_data",
          "data": {
            "text/plain": [
              "<IPython.core.display.Javascript object>"
            ],
            "application/javascript": [
              "addData(28901.623047,18959.265830114764,2023-05-07)"
            ]
          },
          "metadata": {}
        },
        {
          "output_type": "stream",
          "name": "stdout",
          "text": [
            "Predicted future price of BTC: $ 18959.265830114764\n",
            "predicted= 18959.265830114764\n",
            "current= 28901.623047\n",
            "Predicted future price does not meet the minimum growth requirement (2.0%) for buy trigger\n",
            "Investment goal reached! Stop trading.\n",
            "Remaining balance (USD): $ 1245738.5760329505 \n",
            "\n",
            "x1= [0.81943249 0.80668992 0.81865445 0.79148225 0.03223097]\n",
            "y1= 0.7912526761653189\n",
            "4/4 [==============================] - 0s 85ms/step\n",
            "days= 2023-05-08\n",
            "Normalised current price= 0.7912526761653189\n",
            "Renormalised current price= 28450.457031\n",
            "Current price of BTC: (normalised) $ 28450.457031\n",
            "Normalised predicted price= [0.21601555]\n",
            "Renormalised predicted price= 19240.76454455815\n"
          ]
        },
        {
          "output_type": "stream",
          "name": "stderr",
          "text": [
            "<__array_function__ internals>:180: VisibleDeprecationWarning: Creating an ndarray from ragged nested sequences (which is a list-or-tuple of lists-or-tuples-or ndarrays with different lengths or shapes) is deprecated. If you meant to do this, you must specify 'dtype=object' when creating the ndarray.\n"
          ]
        },
        {
          "output_type": "display_data",
          "data": {
            "text/plain": [
              "<IPython.core.display.Javascript object>"
            ],
            "application/javascript": [
              "addData(28450.457031,19240.76454455815,2023-05-08)"
            ]
          },
          "metadata": {}
        },
        {
          "output_type": "stream",
          "name": "stdout",
          "text": [
            "Predicted future price of BTC: $ 19240.76454455815\n",
            "predicted= 19240.76454455815\n",
            "current= 28450.457031\n",
            "Predicted future price does not meet the minimum growth requirement (2.0%) for buy trigger\n",
            "Investment goal reached! Stop trading.\n",
            "Remaining balance (USD): $ 1245738.5760329505 \n",
            "\n",
            "x1= [0.79125268 0.77579339 0.74654221 0.74395312 0.10251952]\n",
            "y1= 0.7440711213700055\n",
            "4/4 [==============================] - 0s 89ms/step\n",
            "days= 2023-05-09\n",
            "Normalised current price= 0.7440711213700055\n",
            "Renormalised current price= 27695.068359\n",
            "Current price of BTC: (normalised) $ 27695.068359\n",
            "Normalised predicted price= [0.23424287]\n",
            "Renormalised predicted price= 19532.588628077894\n"
          ]
        },
        {
          "output_type": "stream",
          "name": "stderr",
          "text": [
            "<__array_function__ internals>:180: VisibleDeprecationWarning: Creating an ndarray from ragged nested sequences (which is a list-or-tuple of lists-or-tuples-or ndarrays with different lengths or shapes) is deprecated. If you meant to do this, you must specify 'dtype=object' when creating the ndarray.\n"
          ]
        },
        {
          "output_type": "display_data",
          "data": {
            "text/plain": [
              "<IPython.core.display.Javascript object>"
            ],
            "application/javascript": [
              "addData(27695.068359,19532.588628077894,2023-05-09)"
            ]
          },
          "metadata": {}
        },
        {
          "output_type": "stream",
          "name": "stdout",
          "text": [
            "Predicted future price of BTC: $ 19532.588628077894\n",
            "predicted= 19532.588628077894\n",
            "current= 27695.068359\n",
            "Predicted future price does not meet the minimum growth requirement (2.0%) for buy trigger\n",
            "Investment goal reached! Stop trading.\n",
            "Remaining balance (USD): $ 1245738.5760329505 \n",
            "\n",
            "x1= [0.74407112 0.72316597 0.7507155  0.74173519 0.05763802]\n",
            "y1= 0.7415457622948238\n",
            "4/4 [==============================] - 0s 90ms/step\n",
            "days= 2023-05-10\n",
            "Normalised current price= 0.7415457622948238\n",
            "Renormalised current price= 27654.636719\n",
            "Current price of BTC: (normalised) $ 27654.636719\n",
            "Normalised predicted price= [0.25210983]\n",
            "Renormalised predicted price= 19818.643101483434\n"
          ]
        },
        {
          "output_type": "stream",
          "name": "stderr",
          "text": [
            "<__array_function__ internals>:180: VisibleDeprecationWarning: Creating an ndarray from ragged nested sequences (which is a list-or-tuple of lists-or-tuples-or ndarrays with different lengths or shapes) is deprecated. If you meant to do this, you must specify 'dtype=object' when creating the ndarray.\n"
          ]
        },
        {
          "output_type": "display_data",
          "data": {
            "text/plain": [
              "<IPython.core.display.Javascript object>"
            ],
            "application/javascript": [
              "addData(27654.636719,19818.643101483434,2023-05-10)"
            ]
          },
          "metadata": {}
        },
        {
          "output_type": "stream",
          "name": "stdout",
          "text": [
            "Predicted future price of BTC: $ 19818.643101483434\n",
            "predicted= 19818.643101483434\n",
            "current= 27654.636719\n",
            "Predicted future price does not meet the minimum growth requirement (2.0%) for buy trigger\n",
            "Investment goal reached! Stop trading.\n",
            "Remaining balance (USD): $ 1245738.5760329505 \n",
            "\n",
            "x1= [0.74154576 0.75450265 0.71935652 0.73942219 0.11629696]\n",
            "y1= 0.739450181475501\n",
            "4/4 [==============================] - 0s 79ms/step\n",
            "days= 2023-05-11\n",
            "Normalised current price= 0.739450181475501\n",
            "Renormalised current price= 27621.085938\n",
            "Current price of BTC: (normalised) $ 27621.085938\n",
            "Normalised predicted price= [0.2681458]\n",
            "Renormalised predicted price= 20075.38311728137\n"
          ]
        },
        {
          "output_type": "stream",
          "name": "stderr",
          "text": [
            "<__array_function__ internals>:180: VisibleDeprecationWarning: Creating an ndarray from ragged nested sequences (which is a list-or-tuple of lists-or-tuples-or ndarrays with different lengths or shapes) is deprecated. If you meant to do this, you must specify 'dtype=object' when creating the ndarray.\n"
          ]
        },
        {
          "output_type": "display_data",
          "data": {
            "text/plain": [
              "<IPython.core.display.Javascript object>"
            ],
            "application/javascript": [
              "addData(27621.085938,20075.38311728137,2023-05-11)"
            ]
          },
          "metadata": {}
        },
        {
          "output_type": "stream",
          "name": "stdout",
          "text": [
            "Predicted future price of BTC: $ 20075.38311728137\n",
            "predicted= 20075.38311728137\n",
            "current= 27621.085938\n",
            "Predicted future price does not meet the minimum growth requirement (2.0%) for buy trigger\n",
            "Investment goal reached! Stop trading.\n",
            "Remaining balance (USD): $ 1245738.5760329505 \n",
            "\n",
            "x1= [0.73945018 0.7106973  0.71286433 0.70062396 0.0809648 ]\n",
            "y1= 0.6998865472771043\n",
            "4/4 [==============================] - 0s 90ms/step\n",
            "days= 2023-05-12\n",
            "Normalised current price= 0.6998865472771043\n",
            "Renormalised current price= 26987.662109\n",
            "Current price of BTC: (normalised) $ 26987.662109\n",
            "Normalised predicted price= [0.28206837]\n",
            "Renormalised predicted price= 20298.287032216056\n"
          ]
        },
        {
          "output_type": "stream",
          "name": "stderr",
          "text": [
            "<__array_function__ internals>:180: VisibleDeprecationWarning: Creating an ndarray from ragged nested sequences (which is a list-or-tuple of lists-or-tuples-or ndarrays with different lengths or shapes) is deprecated. If you meant to do this, you must specify 'dtype=object' when creating the ndarray.\n"
          ]
        },
        {
          "output_type": "display_data",
          "data": {
            "text/plain": [
              "<IPython.core.display.Javascript object>"
            ],
            "application/javascript": [
              "addData(26987.662109,20298.287032216056,2023-05-12)"
            ]
          },
          "metadata": {}
        },
        {
          "output_type": "stream",
          "name": "stdout",
          "text": [
            "Predicted future price of BTC: $ 20298.287032216056\n",
            "predicted= 20298.287032216056\n",
            "current= 26987.662109\n",
            "Predicted future price does not meet the minimum growth requirement (2.0%) for buy trigger\n",
            "Investment goal reached! Stop trading.\n",
            "Remaining balance (USD): $ 1245738.5760329505 \n",
            "\n",
            "x1= [0.69988655 0.67529682 0.65527586 0.68839037 0.10423322]\n",
            "y1= 0.6886504620129383\n",
            "4/4 [==============================] - 0s 55ms/step\n",
            "days= 2023-05-13\n",
            "Normalised current price= 0.6886504620129383\n",
            "Renormalised current price= 26807.769531\n",
            "Current price of BTC: (normalised) $ 26807.769531\n",
            "Normalised predicted price= [0.29390812]\n",
            "Renormalised predicted price= 20487.8443947474\n"
          ]
        },
        {
          "output_type": "stream",
          "name": "stderr",
          "text": [
            "<__array_function__ internals>:180: VisibleDeprecationWarning: Creating an ndarray from ragged nested sequences (which is a list-or-tuple of lists-or-tuples-or ndarrays with different lengths or shapes) is deprecated. If you meant to do this, you must specify 'dtype=object' when creating the ndarray.\n"
          ]
        },
        {
          "output_type": "display_data",
          "data": {
            "text/plain": [
              "<IPython.core.display.Javascript object>"
            ],
            "application/javascript": [
              "addData(26807.769531,20487.8443947474,2023-05-13)"
            ]
          },
          "metadata": {}
        },
        {
          "output_type": "stream",
          "name": "stdout",
          "text": [
            "Predicted future price of BTC: $ 20487.8443947474\n",
            "predicted= 20487.8443947474\n",
            "current= 26807.769531\n",
            "Predicted future price does not meet the minimum growth requirement (2.0%) for buy trigger\n",
            "Investment goal reached! Stop trading.\n",
            "Remaining balance (USD): $ 1245738.5760329505 \n",
            "\n",
            "x1= [0.68865046 0.67372376 0.70834131 0.68708378 0.02052886]\n",
            "y1= 0.687476531723689\n",
            "4/4 [==============================] - 0s 56ms/step\n",
            "days= 2023-05-14\n",
            "Normalised current price= 0.687476531723689\n",
            "Renormalised current price= 26788.974609\n",
            "Current price of BTC: (normalised) $ 26788.974609\n",
            "Normalised predicted price= [0.30347586]\n",
            "Renormalised predicted price= 20641.026302708273\n"
          ]
        },
        {
          "output_type": "stream",
          "name": "stderr",
          "text": [
            "<__array_function__ internals>:180: VisibleDeprecationWarning: Creating an ndarray from ragged nested sequences (which is a list-or-tuple of lists-or-tuples-or ndarrays with different lengths or shapes) is deprecated. If you meant to do this, you must specify 'dtype=object' when creating the ndarray.\n"
          ]
        },
        {
          "output_type": "display_data",
          "data": {
            "text/plain": [
              "<IPython.core.display.Javascript object>"
            ],
            "application/javascript": [
              "addData(26788.974609,20641.026302708273,2023-05-14)"
            ]
          },
          "metadata": {}
        },
        {
          "output_type": "stream",
          "name": "stdout",
          "text": [
            "Predicted future price of BTC: $ 20641.026302708273\n",
            "predicted= 20641.026302708273\n",
            "current= 26788.974609\n",
            "Predicted future price does not meet the minimum growth requirement (2.0%) for buy trigger\n",
            "Investment goal reached! Stop trading.\n",
            "Remaining balance (USD): $ 1245738.5760329505 \n",
            "\n",
            "x1= [0.68747653 0.68125614 0.70518473 0.69624093 0.02066984]\n",
            "y1= 0.6963714660468563\n",
            "4/4 [==============================] - 0s 57ms/step\n",
            "days= 2023-05-15\n",
            "Normalised current price= 0.6963714660468563\n",
            "Renormalised current price= 26931.384766\n",
            "Current price of BTC: (normalised) $ 26931.384766\n",
            "Normalised predicted price= [0.3111596]\n",
            "Renormalised predicted price= 20764.045154683427\n"
          ]
        },
        {
          "output_type": "stream",
          "name": "stderr",
          "text": [
            "<__array_function__ internals>:180: VisibleDeprecationWarning: Creating an ndarray from ragged nested sequences (which is a list-or-tuple of lists-or-tuples-or ndarrays with different lengths or shapes) is deprecated. If you meant to do this, you must specify 'dtype=object' when creating the ndarray.\n"
          ]
        },
        {
          "output_type": "display_data",
          "data": {
            "text/plain": [
              "<IPython.core.display.Javascript object>"
            ],
            "application/javascript": [
              "addData(26931.384766,20764.045154683427,2023-05-15)"
            ]
          },
          "metadata": {}
        },
        {
          "output_type": "stream",
          "name": "stdout",
          "text": [
            "Predicted future price of BTC: $ 20764.045154683427\n",
            "predicted= 20764.045154683427\n",
            "current= 26931.384766\n",
            "Predicted future price does not meet the minimum growth requirement (2.0%) for buy trigger\n",
            "Investment goal reached! Stop trading.\n",
            "Remaining balance (USD): $ 1245738.5760329505 \n",
            "\n",
            "x1= [0.69637147 0.712223   0.71186169 0.71261421 0.06019593]\n",
            "y1= 0.7113699106308622\n",
            "4/4 [==============================] - 0s 57ms/step\n",
            "days= 2023-05-16\n",
            "Normalised current price= 0.7113699106308622\n",
            "Renormalised current price= 27171.513672\n",
            "Current price of BTC: (normalised) $ 27171.513672\n",
            "Normalised predicted price= [0.31756526]\n",
            "Renormalised predicted price= 20866.601262748754\n"
          ]
        },
        {
          "output_type": "stream",
          "name": "stderr",
          "text": [
            "<__array_function__ internals>:180: VisibleDeprecationWarning: Creating an ndarray from ragged nested sequences (which is a list-or-tuple of lists-or-tuples-or ndarrays with different lengths or shapes) is deprecated. If you meant to do this, you must specify 'dtype=object' when creating the ndarray.\n"
          ]
        },
        {
          "output_type": "display_data",
          "data": {
            "text/plain": [
              "<IPython.core.display.Javascript object>"
            ],
            "application/javascript": [
              "addData(27171.513672,20866.601262748754,2023-05-16)"
            ]
          },
          "metadata": {}
        },
        {
          "output_type": "stream",
          "name": "stdout",
          "text": [
            "Predicted future price of BTC: $ 20866.601262748754\n",
            "predicted= 20866.601262748754\n",
            "current= 27171.513672\n",
            "Predicted future price does not meet the minimum growth requirement (2.0%) for buy trigger\n",
            "Investment goal reached! Stop trading.\n",
            "Remaining balance (USD): $ 1245738.5760329505 \n",
            "\n",
            "x1= [0.71136991 0.69052849 0.71905547 0.70286458 0.04508964]\n",
            "y1= 0.7028726706876205\n",
            "4/4 [==============================] - 0s 57ms/step\n",
            "days= 2023-05-17\n",
            "Normalised current price= 0.7028726706876205\n",
            "Renormalised current price= 27035.470703\n",
            "Current price of BTC: (normalised) $ 27035.470703\n",
            "Normalised predicted price= [0.32371187]\n",
            "Renormalised predicted price= 20965.010046044597\n"
          ]
        },
        {
          "output_type": "stream",
          "name": "stderr",
          "text": [
            "<__array_function__ internals>:180: VisibleDeprecationWarning: Creating an ndarray from ragged nested sequences (which is a list-or-tuple of lists-or-tuples-or ndarrays with different lengths or shapes) is deprecated. If you meant to do this, you must specify 'dtype=object' when creating the ndarray.\n"
          ]
        },
        {
          "output_type": "display_data",
          "data": {
            "text/plain": [
              "<IPython.core.display.Javascript object>"
            ],
            "application/javascript": [
              "addData(27035.470703,20965.010046044597,2023-05-17)"
            ]
          },
          "metadata": {}
        },
        {
          "output_type": "stream",
          "name": "stdout",
          "text": [
            "Predicted future price of BTC: $ 20965.010046044597\n",
            "predicted= 20965.010046044597\n",
            "current= 27035.470703\n",
            "Predicted future price does not meet the minimum growth requirement (2.0%) for buy trigger\n",
            "Investment goal reached! Stop trading.\n",
            "Remaining balance (USD): $ 1245738.5760329505 \n",
            "\n",
            "x1= [0.70287267 0.70094451 0.70128274 0.725492   0.06672711]\n",
            "y1= 0.7257442435013344\n",
            "4/4 [==============================] - 0s 60ms/step\n",
            "days= 2023-05-18\n",
            "Normalised current price= 0.7257442435013344\n",
            "Renormalised current price= 27401.650391\n",
            "Current price of BTC: (normalised) $ 27401.650391\n",
            "Normalised predicted price= [0.3298809]\n",
            "Renormalised predicted price= 21063.777640687273\n"
          ]
        },
        {
          "output_type": "stream",
          "name": "stderr",
          "text": [
            "<__array_function__ internals>:180: VisibleDeprecationWarning: Creating an ndarray from ragged nested sequences (which is a list-or-tuple of lists-or-tuples-or ndarrays with different lengths or shapes) is deprecated. If you meant to do this, you must specify 'dtype=object' when creating the ndarray.\n"
          ]
        },
        {
          "output_type": "display_data",
          "data": {
            "text/plain": [
              "<IPython.core.display.Javascript object>"
            ],
            "application/javascript": [
              "addData(27401.650391,21063.777640687273,2023-05-18)"
            ]
          },
          "metadata": {}
        },
        {
          "output_type": "stream",
          "name": "stdout",
          "text": [
            "Predicted future price of BTC: $ 21063.777640687273\n",
            "predicted= 21063.777640687273\n",
            "current= 27401.650391\n",
            "Predicted future price does not meet the minimum growth requirement (2.0%) for buy trigger\n",
            "Investment goal reached! Stop trading.\n",
            "Remaining balance (USD): $ 1245738.5760329505 \n",
            "\n",
            "x1= [0.72574424 0.70098199 0.68948688 0.69009101 0.06747238]\n",
            "y1= 0.6898362255311359\n",
            "4/4 [==============================] - 0s 60ms/step\n",
            "days= 2023-05-19\n",
            "Normalised current price= 0.6898362255311359\n",
            "Renormalised current price= 26826.753906\n",
            "Current price of BTC: (normalised) $ 26826.753906\n",
            "Normalised predicted price= [0.33650142]\n",
            "Renormalised predicted price= 21169.773947968893\n"
          ]
        },
        {
          "output_type": "stream",
          "name": "stderr",
          "text": [
            "<__array_function__ internals>:180: VisibleDeprecationWarning: Creating an ndarray from ragged nested sequences (which is a list-or-tuple of lists-or-tuples-or ndarrays with different lengths or shapes) is deprecated. If you meant to do this, you must specify 'dtype=object' when creating the ndarray.\n"
          ]
        },
        {
          "output_type": "display_data",
          "data": {
            "text/plain": [
              "<IPython.core.display.Javascript object>"
            ],
            "application/javascript": [
              "addData(26826.753906,21169.773947968893,2023-05-19)"
            ]
          },
          "metadata": {}
        },
        {
          "output_type": "stream",
          "name": "stdout",
          "text": [
            "Predicted future price of BTC: $ 21169.773947968893\n",
            "predicted= 21169.773947968893\n",
            "current= 26826.753906\n",
            "Predicted future price does not meet the minimum growth requirement (2.0%) for buy trigger\n",
            "Investment goal reached! Stop trading.\n",
            "Remaining balance (USD): $ 1245738.5760329505 \n",
            "\n",
            "x1= [0.68983623 0.67985852 0.70766163 0.69370987 0.03185019]\n",
            "y1= 0.6937142334228692\n",
            "4/4 [==============================] - 0s 65ms/step\n",
            "days= 2023-05-20\n",
            "Normalised current price= 0.6937142334228692\n",
            "Renormalised current price= 26888.841797\n",
            "Current price of BTC: (normalised) $ 26888.841797\n",
            "Normalised predicted price= [0.34355545]\n",
            "Renormalised predicted price= 21282.710773669398\n"
          ]
        },
        {
          "output_type": "stream",
          "name": "stderr",
          "text": [
            "<__array_function__ internals>:180: VisibleDeprecationWarning: Creating an ndarray from ragged nested sequences (which is a list-or-tuple of lists-or-tuples-or ndarrays with different lengths or shapes) is deprecated. If you meant to do this, you must specify 'dtype=object' when creating the ndarray.\n"
          ]
        },
        {
          "output_type": "display_data",
          "data": {
            "text/plain": [
              "<IPython.core.display.Javascript object>"
            ],
            "application/javascript": [
              "addData(26888.841797,21282.710773669398,2023-05-20)"
            ]
          },
          "metadata": {}
        },
        {
          "output_type": "stream",
          "name": "stdout",
          "text": [
            "Predicted future price of BTC: $ 21282.710773669398\n",
            "predicted= 21282.710773669398\n",
            "current= 26888.841797\n",
            "Predicted future price does not meet the minimum growth requirement (2.0%) for buy trigger\n",
            "Investment goal reached! Stop trading.\n",
            "Remaining balance (USD): $ 1245738.5760329505 \n",
            "\n",
            "Transaction record: [(Transaction ID: 6d2768a7-cfaa-41bd-ba21-8dfb38d05845, Transaction Type: TransactionTypes.BUY, Price: 22954.021484, Amount: 1000000 BTC, Volume: 43.5653508774942, Profit/Loss: Predicted future growth, Transaction Trigger: None), (Transaction ID: 6d2768a7-cfaa-41bd-ba21-8dfb38d05845, Transaction Type: TransactionTypes.BUY, Price: 22954.021484, Amount: 1000000 BTC, Volume: 43.5653508774942, Profit/Loss: Predicted future growth, Transaction Trigger: None), (Transaction ID: 6d2768a7-cfaa-41bd-ba21-8dfb38d05845, Transaction Type: TransactionTypes.BUY, Price: 22954.021484, Amount: 1000000 BTC, Volume: 43.5653508774942, Profit/Loss: Predicted future growth, Transaction Trigger: None), (Transaction ID: 6d2768a7-cfaa-41bd-ba21-8dfb38d05845, Transaction Type: TransactionTypes.BUY, Price: 22954.021484, Amount: 1000000 BTC, Volume: 43.5653508774942, Profit/Loss: Predicted future growth, Transaction Trigger: None), (Transaction ID: 6d2768a7-cfaa-41bd-ba21-8dfb38d05845, Transaction Type: TransactionTypes.BUY, Price: 22954.021484, Amount: 1000000 BTC, Volume: 43.5653508774942, Profit/Loss: Predicted future growth, Transaction Trigger: None), (Transaction ID: 1d42cab2-3747-458d-8b34-303e53652541, Transaction Type: TransactionTypes.SELL, Price: 21651.841797, Amount: 943270.0850302995 BTC, Volume: 43.5653508774942, Profit/Loss: -56729.91496970056, Transaction Trigger: Current price triggered stoploss), (Transaction ID: a7dcc092-863d-4639-8dae-eff87874e4b3, Transaction Type: TransactionTypes.BUY, Price: 21870.902344, Amount: 943270.0850302995 BTC, Volume: 43.12899715768122, Profit/Loss: Predicted future growth, Transaction Trigger: None), (Transaction ID: a7dcc092-863d-4639-8dae-eff87874e4b3, Transaction Type: TransactionTypes.BUY, Price: 21870.902344, Amount: 943270.0850302995 BTC, Volume: 43.12899715768122, Profit/Loss: Predicted future growth, Transaction Trigger: None), (Transaction ID: a7dcc092-863d-4639-8dae-eff87874e4b3, Transaction Type: TransactionTypes.BUY, Price: 21870.902344, Amount: 943270.0850302995 BTC, Volume: 43.12899715768122, Profit/Loss: Predicted future growth, Transaction Trigger: None), (Transaction ID: a7dcc092-863d-4639-8dae-eff87874e4b3, Transaction Type: TransactionTypes.BUY, Price: 21870.902344, Amount: 943270.0850302995 BTC, Volume: 43.12899715768122, Profit/Loss: Predicted future growth, Transaction Trigger: None), (Transaction ID: 2dbf0c9e-0b9a-4620-a2f0-27f07b0c2500, Transaction Type: TransactionTypes.SELL, Price: 24307.349609, Amount: 1048351.6121973248 BTC, Volume: 43.12899715768122, Profit/Loss: 105081.52716702528, Transaction Trigger: Predicted future price triggered stoploss), (Transaction ID: 28d456f4-a79c-41d2-b872-314b6487012a, Transaction Type: TransactionTypes.BUY, Price: 20367.001953, Amount: 1048351.6121973248 BTC, Volume: 51.47304520402943, Profit/Loss: Predicted future growth, Transaction Trigger: None), (Transaction ID: 28d456f4-a79c-41d2-b872-314b6487012a, Transaction Type: TransactionTypes.BUY, Price: 20367.001953, Amount: 1048351.6121973248 BTC, Volume: 51.47304520402943, Profit/Loss: Predicted future growth, Transaction Trigger: None), (Transaction ID: 28d456f4-a79c-41d2-b872-314b6487012a, Transaction Type: TransactionTypes.BUY, Price: 20367.001953, Amount: 1048351.6121973248 BTC, Volume: 51.47304520402943, Profit/Loss: Predicted future growth, Transaction Trigger: None), (Transaction ID: 28d456f4-a79c-41d2-b872-314b6487012a, Transaction Type: TransactionTypes.BUY, Price: 20367.001953, Amount: 1048351.6121973248 BTC, Volume: 51.47304520402943, Profit/Loss: Predicted future growth, Transaction Trigger: None), (Transaction ID: 97597210-ea3c-4b07-9005-21c618c09a1d, Transaction Type: TransactionTypes.SELL, Price: 24201.765625, Amount: 1245738.5760329505 BTC, Volume: 51.47304520402943, Profit/Loss: 197386.96383562594, Transaction Trigger: Investment goal reached)]\n",
            "Profit and Loss: [{UUID('1d42cab2-3747-458d-8b34-303e53652541'): -56729.91496970056}, {UUID('2dbf0c9e-0b9a-4620-a2f0-27f07b0c2500'): 105081.52716702528}, {UUID('97597210-ea3c-4b07-9005-21c618c09a1d'): 197386.96383562594}]\n"
          ]
        }
      ],
      "source": [
        "import os\n",
        "import uuid\n",
        "import numpy as np\n",
        "import random\n",
        "import requests\n",
        "import time\n",
        "import pandas as pd\n",
        "from enum import Enum\n",
        "from prophet import Prophet\n",
        "from datetime import date, datetime, timedelta\n",
        "\n",
        "import matplotlib.pyplot as plt\n",
        "from sklearn.preprocessing import MinMaxScaler\n",
        "\n",
        "import IPython\n",
        "from IPython.display import display, HTML, Javascript\n",
        "\n",
        "from tensorflow.keras import Sequential\n",
        "from tensorflow.keras.layers import Dense, LSTM, Dropout\n",
        "\n",
        "# Constants\n",
        "INITIAL_BALANCE = 1000000  # $1 million\n",
        "INTERVALS = 5  # seconds\n",
        "MINIMUM_GROWTH = 0.02  # minimum 2% increase in predicted price to trigger buy\n",
        "STOP_LOSS_PERCENTAGE = 0.05  # limit loss to 5%\n",
        "GOAL = 1200000  # $1.2 million\n",
        "\n",
        "\"\"\" LSTM Prediction Functions \"\"\"\n",
        "def preprocess_data(data_url):\n",
        "    df = pd.read_csv(data_url)\n",
        "    df = df.drop(['Adj Close'], axis=1)\n",
        "    #df.rename(columns={'Date': 'ds', 'Close': 'y'}, inplace=True)\n",
        "    return df\n",
        "\n",
        "\n",
        "def train_lstm_model(x_train):\n",
        "    #Initialize the RNN\n",
        "    model = Sequential() \n",
        "    model.add(LSTM(units = 50, \n",
        "                   activation = 'relu', \n",
        "                   return_sequences = True, \n",
        "                   input_shape = (x_train.shape[1], 5)))\n",
        "\n",
        "    model.add(Dropout(0.2)) \n",
        "    model.add(LSTM(units = 60, activation = 'relu', return_sequences = True))\n",
        "    model.add(Dropout(0.3)) \n",
        "    model.add(LSTM(units = 80, activation = 'relu', return_sequences = True))\n",
        "\n",
        "    model.add(Dropout(0.4)) \n",
        "    model.add(LSTM(units = 120, activation = 'relu'))\n",
        "    model.add(Dropout(0.5)) \n",
        "    model.add(Dense(units =1))\n",
        "    model.summary()\n",
        "\n",
        "    model.compile(optimizer = 'adam', loss = 'mean_squared_error')\n",
        "    return model\n",
        "\n",
        "def display_training_validation_loss(history):                      \n",
        "    loss = history.history['loss']\n",
        "    val_loss = history.history['val_loss']\n",
        "    epochs = range(len(loss))\n",
        "    plt.figure()\n",
        "    plt.plot(epochs, loss, 'b', label='Training loss')\n",
        "    plt.plot(epochs, val_loss, 'r', label='Validation loss')\n",
        "    plt.title(\"Training and Validation Loss\")\n",
        "    plt.legend()\n",
        "    plt.show()\n",
        "\n",
        "def predict_lstm_price(model, data_test, data, days, scaler):\n",
        "    # Prepare input data for prediction\n",
        "    last_60_days = data_test.tail(60)  # Take the most recent 60 data points\n",
        "    last_60_days = last_60_days.drop(['Date'], axis = 1)\n",
        "    inputs = scaler.transform(last_60_days)  # Scale the input data\n",
        "    reshaped_inputs = np.reshape(inputs, (1, 60, 5))  # Reshape the input data\n",
        "\n",
        "    # Obtain the scaling parameters\n",
        "    price_min = data['Close'].min()\n",
        "    price_max = data['Close'].max()\n",
        "    print(\"Min\", price_min, \"Max\", price_max)\n",
        "\n",
        "    # Reverse the scaling transformation\n",
        "    predicted_price = model.predict(reshaped_inputs)\n",
        "    predicted_price_rescaled = predicted_price * (price_max - price_min) + price_min\n",
        "    next_day_date = days.iloc[-1]\n",
        "    return predicted_price_rescaled\n",
        "    # # Print the real predicted price for the next day\n",
        "    # print(\"Predicted price for next day:\", predicted_price)\n",
        "    # print(\"Real predicted price for the next day:\", next_day_date, \":\", predicted_price_rescaled)\n",
        "\n",
        "\n",
        "class BitcoinTransaction:\n",
        "    def __init__(\n",
        "        self,\n",
        "        transaction_type,\n",
        "        price,\n",
        "        amount,\n",
        "        volume,\n",
        "        profit_or_loss=None,\n",
        "        transaction_trigger=None,\n",
        "    ):\n",
        "        self.transaction_type = transaction_type\n",
        "        self.price = price\n",
        "        self.amount = amount\n",
        "        self.volume = volume\n",
        "        self.profit_or_loss = profit_or_loss\n",
        "        self.transaction_trigger = transaction_trigger\n",
        "        self.transaction_id = uuid.uuid4()\n",
        "\n",
        "    def __str__(self):\n",
        "        return f\"Transaction ID: {self.transaction_id}, Transaction Type: {self.transaction_type}, Price: {self.price}, Amount: {self.amount} BTC, Volume: {self.volume}, Profit/Loss: {self.profit_or_loss}, Transaction Trigger: {self.transaction_trigger}\"\n",
        "\n",
        "    def __repr__(self):\n",
        "        return f\"({str(self)})\"\n",
        "\n",
        "\n",
        "class TransactionTypes(Enum):\n",
        "    BUY = 1\n",
        "    SELL = 2\n",
        "\n",
        "\n",
        "\"\"\" Trading Bot Functions \"\"\"\n",
        "\n",
        "\n",
        "def get_price():\n",
        "    url = \"https://pro-api.coinmarketcap.com/v1/cryptocurrency/quotes/latest\"\n",
        "    headers = {\"X-CMC_PRO_API_KEY\": \"f16d5846-68ea-4cbc-88c2-b2b0ae91ae25\"}\n",
        "    params = {\"symbol\": \"BTC\"}\n",
        "    response = requests.get(url, headers=headers, params=params)\n",
        "    if response.status_code == 200:\n",
        "        data = response.json()\n",
        "        return data[\"data\"][\"BTC\"][\"quote\"][\"USD\"][\"price\"]\n",
        "    else:\n",
        "        return None\n",
        "\n",
        "\n",
        "def take_decision(current_price, predicted_price, balance, buy_order, sell_order):\n",
        "    # no buy orders placed yet\n",
        "    if buy_order is None:\n",
        "        # Check if price is predicted to grow beyond minimum required growth\n",
        "        print(\"predicted=\",predicted_price)\n",
        "        print(\"current=\",current_price)\n",
        "        if predicted_price >= current_price * (1 + MINIMUM_GROWTH):\n",
        "            # Check if we have sufficient balance\n",
        "            if balance > 0:\n",
        "                # Calculate the volume of BTC we can buy with our balance and the dollar amount\n",
        "                volume = balance / current_price\n",
        "                amount = balance\n",
        "                # Place the buy order\n",
        "                trigger = \"Predicted future growth\"\n",
        "                buy_order = BitcoinTransaction(\n",
        "                    TransactionTypes.BUY, current_price, amount, volume, trigger\n",
        "                )\n",
        "                print(\"New buy order placed:\", buy_order)\n",
        "                balance -= amount\n",
        "            else:\n",
        "                print(\"Insufficient balance to place a new buy order\")\n",
        "        else:\n",
        "            print(\n",
        "                f\"Predicted future price does not meet the minimum growth requirement ({MINIMUM_GROWTH * 100}%) for buy trigger\"\n",
        "            )\n",
        "    elif sell_order is None:\n",
        "        # Check if current price has fallen to trigger stoploss sell, minimize loss\n",
        "        if current_price <= buy_order.price * (1 - STOP_LOSS_PERCENTAGE):\n",
        "            volume = buy_order.volume\n",
        "            amount = current_price * volume\n",
        "            # calculate the loss (negative profit) incurred in this sell order\n",
        "            profit_or_loss = volume * (current_price - buy_order.price)\n",
        "            trigger = \"Current price triggered stoploss\"\n",
        "            sell_order = BitcoinTransaction(\n",
        "                TransactionTypes.SELL,\n",
        "                current_price,\n",
        "                amount,\n",
        "                volume,\n",
        "                profit_or_loss,\n",
        "                trigger,\n",
        "            )\n",
        "            print(\"New sell order placed:\", sell_order)\n",
        "            balance += amount\n",
        "        # Check if investment goal has been reached\n",
        "        elif balance + (current_price * buy_order.volume) >= GOAL:\n",
        "            volume = buy_order.volume\n",
        "            amount = current_price * volume\n",
        "            # calculate the profit/loss incurred in this sell order\n",
        "            profit_or_loss = volume * (current_price - buy_order.price)\n",
        "            trigger = \"Investment goal reached\"\n",
        "            sell_order = BitcoinTransaction(\n",
        "                TransactionTypes.SELL,\n",
        "                current_price,\n",
        "                amount,\n",
        "                volume,\n",
        "                profit_or_loss,\n",
        "                trigger,\n",
        "            )\n",
        "            print(\"New sell order placed:\", sell_order)\n",
        "            balance += amount\n",
        "        # Check if predicted future price will fall below stoploss of current price, prevent possible loss\n",
        "        elif predicted_price <= current_price * (1 - STOP_LOSS_PERCENTAGE):\n",
        "            volume = buy_order.volume\n",
        "            amount = current_price * volume\n",
        "            # calculate the profit/loss incurred in this sell order\n",
        "            profit_or_loss = volume * (current_price - buy_order.price)\n",
        "            trigger = \"Predicted future price triggered stoploss\"\n",
        "            sell_order = BitcoinTransaction(\n",
        "                TransactionTypes.SELL,\n",
        "                current_price,\n",
        "                amount,\n",
        "                volume,\n",
        "                profit_or_loss,\n",
        "                trigger,\n",
        "            )\n",
        "            print(\"New sell order placed:\", sell_order)\n",
        "            balance += amount\n",
        "        else:\n",
        "            print(\"Waiting for price to reach sell threshold\")\n",
        "\n",
        "    return buy_order, sell_order, balance\n",
        "\n",
        "\n",
        "def configure_browser_state():\n",
        "  display(IPython.core.display.HTML('''\n",
        "    <canvas id=\"myChart\"></canvas>\n",
        "  '''))\n",
        "  display(IPython.core.display.HTML('''\n",
        "        <script src=\"https://cdn.jsdelivr.net/npm/chart.js@2.8.0\"></script>\n",
        "        <script>\n",
        "          var ctx = document.getElementById('myChart').getContext('2d');\n",
        "          var chart = new Chart(ctx, {\n",
        "              // The type of chart we want to create\n",
        "              type: 'line',\n",
        "\n",
        "              // The data for our dataset\n",
        "              data: {\n",
        "                  labels: [],\n",
        "                  datasets: [{\n",
        "                      label: 'Actual',\n",
        "                      borderColor: 'rgb(255, 99, 132)',\n",
        "                      data: []\n",
        "                  }, \n",
        "                  {\n",
        "                      label: 'Predicted',\n",
        "                      borderColor: 'rgb(155, 199, 32)',\n",
        "                      data: []\n",
        "                  }]\n",
        "              },\n",
        "              // Configuration options go here\n",
        "              options: { animation: {duration: 0} ,\n",
        "                scales: {x: {\n",
        "                           type: 'time',\n",
        "                           time: { unit: 'day',unitStepSize: 1,displayFormats: {day: 'YYYY-MM-DD'},tooltipFormat: 'YYYY-MM-DD'},\n",
        "                           title: {display: true, text: 'Date'}},\n",
        "                         y: {\n",
        "                           title: { display: true, text: 'value'}},\n",
        "                         xAxes: [{ scaleLabel: { display: true, labelString: 'Timestamp [YYYY-MM-DD]'}}], \n",
        "                        // xAxes : [time: { unit: 'day',unitStepSize: 1,displayFormats: {day: 'YYYY MM DD'},tooltipFormat: 'YYYY MM DD'},],\n",
        "                        yAxes: [{scaleLabel: {display: true, labelString: 'BitCoin Price [$USD Normalised]'} }], },\n",
        "                title: { display: true, text: 'Bitcoin Price - Realtime Prediction'}}});\n",
        "\n",
        "\n",
        "          function getEpoch(offset_sec=0) {\n",
        "             var now     = new Date(); \n",
        "             return Math.floor((now.getTime() - offset_sec*1000)/1000);}\n",
        "\n",
        "          function getDateTime(offset_sec=0) {\n",
        "             var now     = new Date(); \n",
        "             var numberOfMlSeconds = now.getTime() + offset_sec*1000;\n",
        "             var update_now = new Date (numberOfMlSeconds);\n",
        "             var year    = update_now.getFullYear();\n",
        "             var month   = update_now.getMonth()+1; \n",
        "             var day     = update_now.getDate();\n",
        "             var hour    = update_now.getHours();\n",
        "             var minute  = update_now.getMinutes();\n",
        "             var second  = update_now.getSeconds(); \n",
        "             if(month.toString().length == 1) {\n",
        "                 month = '0'+month;}\n",
        "             if(day.toString().length == 1) {\n",
        "                 day = '0'+day;}   \n",
        "             if(hour.toString().length == 1) {\n",
        "                 hour = '0'+hour;}\n",
        "             if(minute.toString().length == 1) {\n",
        "                 minute = '0'+minute; }\n",
        "             if(second.toString().length == 1) {\n",
        "                 second = '0'+second;}   \n",
        "             //var dateTime = year+'-'+month+'-'+day+' '+hour+':'+minute+':'+second;   \n",
        "             var dateTime = year+'-'+month+'-'+day;  \n",
        "             return dateTime;\n",
        "          }\n",
        "\n",
        "          function addData(current, predicted, day){\n",
        "            chart.data.labels.push(day)\n",
        "            if (chart.data.datasets[1].data.length > 0)\n",
        "            //chart.data.datasets[0].data[chart.data.datasets[0].data.length - 1] = current\n",
        "               chart.data.datasets[0].data.push(current)\n",
        "            chart.data.datasets[1].data.push(predicted)\n",
        "            // optional windowing\n",
        "            if(chart.data.labels.length > 100) {\n",
        "              chart.data.labels.shift()\n",
        "              chart.data.datasets[0].data.shift()\n",
        "              chart.data.datasets[1].data.shift() \n",
        "            }\n",
        "            chart.update();\n",
        "          }\n",
        "        </script>\n",
        "        '''))\n",
        "    \n",
        "\n",
        "# Main program\n",
        "def main():\n",
        "    balance = INITIAL_BALANCE\n",
        "    buy_order = None\n",
        "    sell_order = None\n",
        "    goal_reached = False\n",
        "\n",
        "    # url = 'https://raw.githubusercontent.com/yetanotherpassword/COMS4507/main/BTC-USD.csv'\n",
        "    # update this url to new dataset for future retraining.\n",
        "    url = \"https://raw.githubusercontent.com/AnsonCNS/COMS4507/main/BTC-USD_2023-05-21.csv\"\n",
        "    data = preprocess_data(url)\n",
        "    last_date = datetime.strptime(data['Date'][data.shape[0]-1],'%Y-%m-%d')\n",
        "\n",
        "    #separate the last 120 days to simulate as live daily data\n",
        "    last_trainingdate = str(last_date+timedelta(days=-120))\n",
        "\n",
        "    print(\"last_trainingdate=\"+last_trainingdate[0:10]+\":\")\n",
        "\n",
        "    data_training = data[data['Date']< last_trainingdate[0:10]].copy()\n",
        "    data_training\n",
        "    print(\"Above is data_training\")\n",
        "\n",
        "    data_test = data[data['Date']< last_trainingdate[0:10]].copy()\n",
        "    data_test\n",
        "    print(\"Above  is data_test\")\n",
        "\n",
        "    live_data = data[data['Date'] >= last_trainingdate[0:10]].copy()\n",
        "\n",
        "    training_data = data_training.drop(['Date'], axis = 1)\n",
        "    training_data.head()\n",
        "    print(\"Above is training_data.head())\")\n",
        "\n",
        "    scaler = MinMaxScaler()\n",
        "    training_data = scaler.fit_transform(training_data)\n",
        "    training_data\n",
        "\n",
        "    X_train = [] \n",
        "    Y_train = []\n",
        "    training_data.shape[0]\n",
        "    for i in range(60, training_data.shape[0]):\n",
        "      X_train.append(training_data[i-60:i])\n",
        "      Y_train.append(training_data[i,0])\n",
        "    X_train, Y_train = np.array(X_train), np.array(Y_train)\n",
        "    X_train.shape\n",
        "\n",
        "    model = train_lstm_model(X_train)\n",
        "    history= model.fit(X_train, \n",
        "                       Y_train, \n",
        "                       epochs = 50, \n",
        "                       batch_size =50, \n",
        "                       validation_split=0.1)\n",
        "    \n",
        "    # Display training and Validation loss graph\n",
        "    display_training_validation_loss(history)\n",
        "\n",
        "    # Ready graph display\n",
        "    configure_browser_state() \n",
        "    \n",
        "    part_60_days = data_training.tail(60)\n",
        "    df= part_60_days.append(live_data, ignore_index = True)\n",
        "    days = df['Date']\n",
        "    df = df.drop(['Date'], axis = 1)\n",
        "    df.head()\n",
        "\n",
        "    print(\"days=\",days)\n",
        "    inputs = scaler.transform(df) \n",
        "    inputs\n",
        "\n",
        "    X_test = []\n",
        "    Y_test = []\n",
        "    Y_pred = -1\n",
        "    print(\"inputs.shape[0]=\",inputs.shape[0])\n",
        "\n",
        "    #plt.figure(figsize=(14,5))\n",
        "    #plt.plot(Y_test, color = 'red', label = 'Real Bitcoin Price')\n",
        "    #plt.plot(Y_pred, color = 'green', label = 'Predicted Bitcoin Price')\n",
        "    #plt.title('Bitcoin Price Prediction using RNN-LSTM')\n",
        "    #plt.xlabel('Time')\n",
        "    #plt.ylabel('Price')\n",
        "    #plt.legend()\n",
        "    #plt.show()\n",
        "\n",
        "    ##FIXME\n",
        "    # predict_lstm_price(model, data_test, data, days, scaler)\n",
        "\n",
        "    # Trading Bot Section\n",
        "    transaction_record = []\n",
        "    profit_and_loss_record = []\n",
        "\n",
        "    # FIXME the line below is for experimental demonstration, remove line to get real prices\n",
        "    current_price = get_price()\n",
        "\n",
        "    # keep running the bot if there is positive balance or an existing buy order has been placed.\n",
        "    while (balance > 0 or buy_order) and not goal_reached:\n",
        "        # FIXME\n",
        "        # uncomment the following line to get real prices\n",
        "        # current_price = get_price()\n",
        "        for i in range (60, inputs.shape[0]):\n",
        "            X_test.append(inputs[i-60:i]) \n",
        "            Y_test.append(inputs[i, 0])\n",
        "            x1 = X_test[-1][-1]\n",
        "            y1 = Y_test[-1]\n",
        "            print(\"x1=\",x1)\n",
        "            print(\"y1=\",y1)\n",
        "            #if Y_pred != -1:\n",
        "            #    model.train_on_batch(x1, y1)\n",
        "            Y_pred = model.predict(np.array(X_test))\n",
        "            print(\"days=\",days[i])\n",
        "            #display(Javascript('addData('+str(Y_test[-1])+','+str(Y_pred[-1])+',\"'+str(days[i])+'\")'))\n",
        "            current_price_renorm = scaler.inverse_transform([[y1, 0, 0, 0, 0]]).squeeze()\n",
        "            current_price = current_price_renorm[0]\n",
        "            print(\"Normalised current price=\",y1)\n",
        "            print(\"Renormalised current price=\",current_price)\n",
        "            if current_price is not None:\n",
        "                print(\"Current price of BTC: (normalised) $\", current_price)\n",
        "                predicted_price_renorm = scaler.inverse_transform([[Y_pred[-1], 0, 0, 0, 0]]).squeeze()\n",
        "                predicted_price = predicted_price_renorm[0]\n",
        "                print(\"Normalised predicted price=\",Y_pred[-1])\n",
        "                print(\"Renormalised predicted price=\",predicted_price)\n",
        "                display(\n",
        "                    Javascript(\n",
        "                        \"addData(\" + str(current_price) + \",\" + str(predicted_price) + \",\" + str(days[i])+\")\"\n",
        "                    )\n",
        "                )\n",
        "                print(\"Predicted future price of BTC: $\", predicted_price)\n",
        "                buy_order, sell_order, balance = take_decision(\n",
        "                    current_price, predicted_price, balance, buy_order, sell_order\n",
        "                )\n",
        "\n",
        "                if sell_order:\n",
        "                    # record transaction\n",
        "                    transaction_record.append(sell_order)\n",
        "                    print(\"Sell order fulfilled. Profit: $\", sell_order.profit_or_loss)\n",
        "                    profit_and_loss_record.append(\n",
        "                        {sell_order.transaction_id: sell_order.profit_or_loss}\n",
        "                    )\n",
        "\n",
        "                    # reset orders\n",
        "                    buy_order = None\n",
        "                    sell_order = None\n",
        "\n",
        "                elif buy_order:\n",
        "                    # record transaction\n",
        "                    transaction_record.append(buy_order)\n",
        "\n",
        "                if balance >= GOAL:\n",
        "                    goal_reached = True\n",
        "                    print(\"Investment goal reached! Stop trading.\")\n",
        "\n",
        "                print(\"Remaining balance (USD): $\", balance, \"\\n\")\n",
        "\n",
        "            else:\n",
        "                print(\"Error getting price from CoinMarketCap API\")\n",
        "\n",
        "            #time.sleep(INTERVALS)\n",
        "\n",
        "    print(\"Transaction record:\", transaction_record)\n",
        "    print(\"Profit and Loss:\", profit_and_loss_record)\n",
        "\n",
        "\n",
        "if __name__ == \"__main__\":\n",
        "    main()"
      ]
    }
  ]
}